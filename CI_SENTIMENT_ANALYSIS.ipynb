{
  "cells": [
    {
      "metadata": {},
      "cell_type": "markdown",
      "source": "# Text-Preprocessing file"
    },
    {
      "metadata": {
        "trusted": true
      },
      "cell_type": "code",
      "source": "#text preprocess file\nimport unicodedata\nimport contractions  \nimport inflect       \nimport re\nfrom bs4 import BeautifulSoup\nfrom nltk import sent_tokenize\nfrom nltk.stem import LancasterStemmer\nfrom nltk.corpus import stopwords\nfrom nltk.stem import PorterStemmer\nfrom nltk.stem import WordNetLemmatizer\n\n\ndef replace_contractions(text):\n    \"\"\"Replace contractions in string of text\"\"\"\n    return contractions.fix(text)\n\ndef remove_non_ascii(words):\n    \"\"\"Remove non-ASCII characters from list of tokenized words\"\"\"\n    new_words = []\n    for word in words:\n        new_word = unicodedata.normalize('NFKD', word).encode('ascii', 'ignore').decode('utf-8', 'ignore')\n        new_words.append(new_word)\n    return new_words\n\ndef to_lowercase(words):\n    \"\"\"Convert all characters to lowercase from list of tokenized words\"\"\"\n    new_words = []\n    for word in words:\n        new_word = word.lower()\n        new_words.append(new_word)\n    return new_words\n\ndef remove_punctuation(words):\n    \"\"\"Remove punctuation from list of tokenized words\"\"\"\n    new_words = []\n    for word in words:\n        new_word = re.sub(r'[^\\w\\s]', '', word)\n        if new_word != '':\n            new_words.append(new_word)\n    return new_words\n\ndef replace_numbers(words):\n    \"\"\"Replace all interger occurrences in list of tokenized words with textual representation\"\"\"\n    p = inflect.engine()\n    new_words = []\n    for word in words:\n        if word.isdigit():\n            new_word = p.number_to_words(word)\n            new_words.append(new_word)\n        else:\n            new_words.append(word)\n    return new_words\n\ndef remove_stopwords(words):\n    \"\"\"Remove stop words from list of tokenized words\"\"\"\n    new_words = []\n    for word in words:\n        if word not in stopwords.words('english'):\n            new_words.append(word)\n    return new_words\n\ndef stem_words(words):\n    \"\"\"Stem words in list of tokenized words\"\"\"\n    stemmer = PorterStemmer()\n    stems = []\n    for word in words:\n        stem = stemmer.stem(word)\n        stems.append(stem)\n    return stems\n\ndef lemmatize_verbs(words):\n    \"\"\"Lemmatize verbs in list of tokenized words\"\"\"\n    lemmatizer = WordNetLemmatizer()\n    lemmas = []\n    for word in words:\n        lemma = lemmatizer.lemmatize(word, pos='v')\n        lemmas.append(lemma)\n    return lemmas\n",
      "execution_count": 248,
      "outputs": []
    },
    {
      "metadata": {},
      "cell_type": "markdown",
      "source": "# Replacing the title in excel sheet"
    },
    {
      "metadata": {
        "trusted": false
      },
      "cell_type": "code",
      "source": "import pandas as pd\n\nxls = pd.ExcelFile('/Users/Sarath/Desktop/term-2/CI/ci_data_with_language/Label sheets/Final_one.xlsx')\ndf1 = pd.read_excel(xls, 'neg')",
      "execution_count": 565,
      "outputs": []
    },
    {
      "metadata": {
        "trusted": false
      },
      "cell_type": "code",
      "source": "#removing the altmeric word in article name\ndef remove_alt(article_name):\n    k = article_name.split()\n    a = k[2:]\n    article_name = ' '.join(a)\n    return article_name\n    ",
      "execution_count": 1,
      "outputs": []
    },
    {
      "metadata": {
        "trusted": false
      },
      "cell_type": "code",
      "source": "df1['article_name'] = df1['article_name'].apply(remove_alt)",
      "execution_count": 10,
      "outputs": []
    },
    {
      "metadata": {
        "trusted": false
      },
      "cell_type": "code",
      "source": "from openpyxl import load_workbook\nfilepath=r'/Users/Sarath/Desktop/term-2/CI/ci_data_with_language/working_python/new_title_replaced_8.xlsx'\nbook=load_workbook(filepath)\nwriter = pd.ExcelWriter(filepath, engine='openpyxl',options={'strings_to_urls': False})\nwriter.book=book\ndf.to_excel(writer,sheet_name='tweet')\nwriter.save()\nwriter.close()",
      "execution_count": null,
      "outputs": []
    },
    {
      "metadata": {
        "trusted": true
      },
      "cell_type": "code",
      "source": "import warnings\nwarnings.filterwarnings(\"ignore\")\nimport re\ndef clean_tweet(tweet): #remove user name, special characters and urls\n    # removing urls\n    tweet = re.sub(r'https?://\\S+',' ',tweet)\n    # removing user names\n    user_names = re.findall(r\"(@[A-Za-z0-9]+)\", tweet)\n    #iterating to remove multiple user names\n    for i in user_names:\n        tweet = re.sub(i,' ', tweet)\n    # replacing the special characters and numbers\n    tweet = re.sub(r'([^A-Za-z\\s])',' ',tweet)\n    #replacing multiple spaces in to a single space\n    tweet = re.sub(' +',' ', tweet)\n    return tweet",
      "execution_count": 249,
      "outputs": []
    },
    {
      "metadata": {},
      "cell_type": "markdown",
      "source": "# fuzzy function"
    },
    {
      "metadata": {
        "trusted": true
      },
      "cell_type": "code",
      "source": "import re\nfrom fuzzywuzzy import fuzz\n",
      "execution_count": 250,
      "outputs": []
    },
    {
      "metadata": {
        "trusted": true
      },
      "cell_type": "code",
      "source": "from fuzzywuzzy import fuzz\n#replacing the tile in tweets\ndef fuzzy_place_3(str_a, str_b, orig_str):\n    text = orig_str\n    str_a = str_a\n    l = len(str_a.split()) # Length to read orig_str chunk by chunk\n    \n    for i in range(len(text.split())-l+1):#trying to find the whole title in a tweet\n        new_splitted = text.split()\n        test = \" \".join(new_splitted[i:i+l])\n        if fuzz.ratio(str_a, test) > 85: #Using fuzzwuzzy library to test ratio\n            before = \" \".join(new_splitted[:i])\n            after = \" \".join(new_splitted[l+i:])\n            if before!= '':\n                text = before+\" \"+str_b+\" \"+after#Output will be sandwich of these three strings\n            else: \n                text = str_b+' '+after\n\n    for i in range(len(text.split())-4):#finding the 5 continuous title words in tweet\n        n_split = text.split()\n        test2 = ' '.join(n_split[i:i+5])\n        for j in range(l-5):\n            title_split = str_a.split()# to cover the title in the range of 5-8\n            title_tes = ' '.join(title_split[j:j+5])\n            #print('title_tes', title_tes)\n            if fuzz.ratio(title_tes, test2)> 85:\n                before = \" \".join(n_split[:i])\n                after = \" \".join(n_split[5+i:])\n                if before!= '':\n                    text = before+\" \"+str_b+\" \"+after#Output will be sandwich of these three strings\n                else: \n                    text = str_b+' '+after\n                    \n                    \n    return text\n        ",
      "execution_count": 251,
      "outputs": []
    },
    {
      "metadata": {},
      "cell_type": "markdown",
      "source": "# additional features lexicons"
    },
    {
      "metadata": {
        "trusted": true
      },
      "cell_type": "code",
      "source": "#negation count function\nimport nltk\nimport nltk.sentiment.sentiment_analyzer \ndef negation(tweet):\n    a = tweet.split()\n    b = nltk.sentiment.util.mark_negation(a)\n    tweet = ' '.join(b)\n    count = len(re.findall('\\w+_NEG', tweet))\n    return count",
      "execution_count": 252,
      "outputs": []
    },
    {
      "metadata": {
        "trusted": true
      },
      "cell_type": "code",
      "source": "#reading  mpqa lexicon and creating a csv file to use it\n\nimport re\nf = open('new_lexicon.csv', 'w')\nwith open('subjclueslen1-HLTEMNLP05.tff', 'rb') as file:\n    for line in file.readlines():\n        line = str(line)\n       \n        m = re.search('.*word1=(\\S+).*pos1=(\\S+).*priorpolarity=(\\w+)', line)\n        if m.group(3) == 'positive':\n            score = 1\n        elif m.group(3) == 'negative':\n            score = -1\n        else:\n            score = 0\n        f.write(\"%s,%s,%s\\n\" % (m.group(1), str(score),m.group(2)))\n\nf.close()",
      "execution_count": 253,
      "outputs": []
    },
    {
      "metadata": {
        "trusted": true
      },
      "cell_type": "code",
      "source": "# creating the python dictionary to hold the lexicons\nimport collections\nimport csv\nlexicon = collections.defaultdict(list)\n\nwith open('new_lexicon.csv', 'r') as csvFile:\n    reader = csv.reader(csvFile)\n    for row in reader:\n        lexicon[row[0]].append(int(row[1]))\n        lexicon[row[0]].append(row[2])\ncsvFile.close()   \n",
      "execution_count": 254,
      "outputs": []
    },
    {
      "metadata": {
        "trusted": true
      },
      "cell_type": "code",
      "source": "#number of negative words in a tweet\ndef neg_word_count(tweet):\n    count = 0\n    for i in tweet.split():\n        #print(i)\n        if i in lexicon:\n            #print(i)\n            try: \n                score = lexicon[i][0]\n                #print('score',score)\n                if score == -1:\n                    count+=1            \n            except: pass\n    return count\n\n\n#no of positive words in a tweet\ndef pos_word_count(tweet):\n    count = 0\n    for i in tweet.split():\n        #print(i)\n        if i in lexicon:\n            #print(i)\n            try: \n                score = lexicon[i][0]\n                #print('score',score)\n                if score == 1:\n                    count+=1            \n            except: pass\n    return count\n\n#overall score of the tweet\ndef overall_score(tweet):\n    score = 0\n    for i in tweet.split():\n        if i in lexicon:\n            try:\n                a = lexicon[i][0]\n                score += a\n            except: \n                pass\n    return score\n\n#last token polarity\ndef las_pol(tweet):\n    tweet = tweet.split()\n    l_word = tweet[-1]\n    score = 0\n    if l_word in lexicon:\n        a = lexicon[l_word][0]\n        #print(a)\n        score = a\n        #print(score)\n    return score\n\n#number of adjectives, adverbs and verbs in a tweet\ndef pos_POStag_count(tweet):\n    count = 0\n    l = ['adj','adverb','verb']\n    for i in tweet.split():\n        if i in lexicon:\n            #print(i)\n            try:\n                pos_tag = lexicon[i][1]\n                if pos_tag in l:\n                    #print(lexicon[i])\n                    if lexicon[i][0] == 1:\n                        count+=1\n\n            except: \n                pass\n    return count  \n\n#number of adjectives, adverbs and verbs in a tweet\ndef neg_POStag_count(tweet):\n    count = 0\n    l = ['adj','adverb','verb']\n    for i in tweet.split():\n        if i in lexicon:\n            #print(i)\n            try:\n                pos_tag = lexicon[i][1]\n                if pos_tag in l:\n                    #print(lexicon[i])\n                    if lexicon[i][0] == -1:\n                        count+=1\n\n            except: \n                pass\n    return count  ",
      "execution_count": 255,
      "outputs": []
    },
    {
      "metadata": {},
      "cell_type": "markdown",
      "source": "# Additional Features emoji based"
    },
    {
      "metadata": {
        "trusted": true
      },
      "cell_type": "code",
      "source": "# creating the function to calculate the emoticons count\nemoticon_file=\"emoticons.txt\"\nemoticons = {}\nfrom pathlib import Path\ncontent = Path(emoticon_file).read_text()\npositive = True\nfor line in content.split(\"\\n\"):\n    if \"positive\" in line.lower():\n        positive = True\n        continue\n    elif \"negative\" in line.lower():\n        positive = False\n        continue\n    emoticons[line] = positive\n\ndef pos_emo_count(tweet):\n    emo_count = []\n    for i in tweet.split():\n        if i in emoticons:\n            emo_count.append(emoticons[i])\n    new_lis = Counter(emo_count)\n    #print(new_lis)\n    pos_emo_count = new_lis[True]\n    #print(pos_emo_count)\n    #neg_emo_count = new_lis[False]\n    #print(neg_emo_count)\n    return pos_emo_count\n\ndef neg_emo_count(tweet):\n    emo_count = []\n    for i in tweet.split():\n        if i in emoticons:\n            emo_count.append(emoticons[i])\n    new_lis = Counter(emo_count)\n    #print(new_lis)\n    #pos_emo_count = new_lis[True]\n    #print(pos_emo_count)\n    neg_emo_count = new_lis[False]\n    #print(neg_emo_count)\n    return neg_emo_count\n\n#count occurences of a ! and ?\ndef count_occurences(character, word_array):\n            counter = 0\n            for j, word in enumerate(word_array):\n                for char in word:\n                    if char == character:\n                        counter += 1\n\n            return counter\n        \n#punctuation count\nimport string\ndef punc_count(text):\n    for i in text.split():\n        count = lambda l1,l2: sum([1 for x in l1 if x in l2])\n        punct = count(text,set(string.punctuation))\n    return punct\n    \n# count number of user name mentions\ndef user_mention_count(tweet):\n    user_names = re.findall(r\"(@[A-Za-z0-9]+)\", tweet)\n    count= len(user_names)\n    return count \n\n#average word length\ndef avg_word(tweet):\n    words = tweet.split()\n    return (sum(len(word) for word in words)/len(words))",
      "execution_count": 256,
      "outputs": []
    },
    {
      "metadata": {},
      "cell_type": "markdown",
      "source": "# Building the model"
    },
    {
      "metadata": {
        "trusted": true
      },
      "cell_type": "code",
      "source": "import pandas as pd\nxls = pd.ExcelFile('df_title_replaced.xlsx')\nneg_df = pd.read_excel(xls, 'neg')\npos_df = pd.read_excel(xls, 'pos')\nneu_df = pd.read_excel(xls, 'neu')",
      "execution_count": 257,
      "outputs": []
    },
    {
      "metadata": {
        "scrolled": true,
        "trusted": true
      },
      "cell_type": "code",
      "source": "from sklearn.utils import shuffle\nneg_df = shuffle(neg_df)\nprint(len(neg_df))\nprint(len(pos_df))\nprint(len(neu_df))\n",
      "execution_count": 258,
      "outputs": [
        {
          "output_type": "stream",
          "text": "999\n1671\n3392\n",
          "name": "stdout"
        }
      ]
    },
    {
      "metadata": {
        "trusted": true
      },
      "cell_type": "code",
      "source": "neg_df.reset_index(drop=True, inplace= True)\npos_df.reset_index(drop=True, inplace= True)\nneu_df.reset_index(drop=True, inplace= True)",
      "execution_count": 259,
      "outputs": []
    },
    {
      "metadata": {
        "trusted": true
      },
      "cell_type": "code",
      "source": "neg_train_df = neg_df[:900]\nneg_val_df = neg_df[900:]\npos_train_df = pos_df[:900]\npos_val_df = pos_df[900:1100]\nneu_train_df = neu_df[:900]\nneu_val_df = neu_df[900:1100]",
      "execution_count": 260,
      "outputs": []
    },
    {
      "metadata": {
        "trusted": true
      },
      "cell_type": "code",
      "source": "train_df = neg_train_df.append(pos_train_df, ignore_index= True)\ntrain_df = train_df.append(neu_train_df, ignore_index= True)",
      "execution_count": 261,
      "outputs": []
    },
    {
      "metadata": {
        "trusted": true
      },
      "cell_type": "code",
      "source": "len(train_df)",
      "execution_count": 262,
      "outputs": [
        {
          "output_type": "execute_result",
          "execution_count": 262,
          "data": {
            "text/plain": "2700"
          },
          "metadata": {}
        }
      ]
    },
    {
      "metadata": {
        "trusted": true
      },
      "cell_type": "code",
      "source": "test_df = neg_val_df.append(pos_val_df, ignore_index= True)\ntest_df = test_df.append(neu_val_df, ignore_index= True)",
      "execution_count": 263,
      "outputs": []
    },
    {
      "metadata": {
        "scrolled": true,
        "trusted": true
      },
      "cell_type": "code",
      "source": "len(test_df)",
      "execution_count": 264,
      "outputs": [
        {
          "output_type": "execute_result",
          "execution_count": 264,
          "data": {
            "text/plain": "499"
          },
          "metadata": {}
        }
      ]
    },
    {
      "metadata": {
        "trusted": true
      },
      "cell_type": "code",
      "source": "df = train_df.append(test_df, ignore_index= True)",
      "execution_count": 265,
      "outputs": []
    },
    {
      "metadata": {
        "trusted": true
      },
      "cell_type": "code",
      "source": "new_tweet_post = []\nfor article, tpost in zip(df.article_name, df.tweet_post):\n    new_post = fuzzy_place_3(article, \"stitlee\", tpost)\n    new_tweet_post.append(new_post)",
      "execution_count": 266,
      "outputs": []
    },
    {
      "metadata": {
        "trusted": true
      },
      "cell_type": "code",
      "source": "df['new_tweet_post'] = new_tweet_post",
      "execution_count": 267,
      "outputs": []
    },
    {
      "metadata": {
        "trusted": true,
        "scrolled": true
      },
      "cell_type": "code",
      "source": "df['new_tweet_post'].isnull().sum()",
      "execution_count": 34,
      "outputs": [
        {
          "output_type": "execute_result",
          "execution_count": 34,
          "data": {
            "text/plain": "0"
          },
          "metadata": {}
        }
      ]
    },
    {
      "metadata": {
        "trusted": true
      },
      "cell_type": "code",
      "source": "#from textpreprocess import denoise_text, normalize, replace_contractions, remove_non_ascii, to_lowercase, remove_punctuation, replace_numbers, remove_stopwords, lemmatize_verbs\ndef preprocess(text):\n    text = replace_contractions(text)\n    content = nltk.word_tokenize(text)\n    words = remove_non_ascii(content)\n    words = to_lowercase(words)\n    words = lemmatize_verbs(words)#lemmatising verbs\n    #words = stem_words(words)\n    words = remove_punctuation(words)\n    words = replace_numbers(words)\n    #words = remove_stopwords(words)\n    text = ' '.join(words)\n    return text\n\n#Tried stemmer but didnt give good results lemmatising the words gave better results\n#tried tweets without changing their case but it wasnt either improving the model performance\n#lemmatisation of words and changing the case of words in tweets produced better results with svm",
      "execution_count": 268,
      "outputs": []
    },
    {
      "metadata": {
        "trusted": true
      },
      "cell_type": "code",
      "source": "df['Label'] = df['Label'].replace(['Neu'], 'Neutral')\ndf['Label'] = df['Label'].replace(['Neg','N'], 'Negative')\ndf['Label'] = df['Label'].replace(['Pos'], 'Positive')",
      "execution_count": 269,
      "outputs": []
    },
    {
      "metadata": {
        "trusted": true
      },
      "cell_type": "code",
      "source": "df['new_tweet_post'] = df['new_tweet_post'].apply(clean_tweet)",
      "execution_count": 37,
      "outputs": []
    },
    {
      "metadata": {
        "trusted": true
      },
      "cell_type": "code",
      "source": "nltk.download('wordnet')\ndf['new_tweet_post'] = df['new_tweet_post'].apply(preprocess)",
      "execution_count": 38,
      "outputs": [
        {
          "output_type": "stream",
          "text": "[nltk_data] Downloading package wordnet to /home/nbuser/nltk_data...\n[nltk_data]   Package wordnet is already up-to-date!\n",
          "name": "stdout"
        }
      ]
    },
    {
      "metadata": {
        "trusted": true
      },
      "cell_type": "code",
      "source": "df['Label'].value_counts()",
      "execution_count": 39,
      "outputs": [
        {
          "output_type": "execute_result",
          "execution_count": 39,
          "data": {
            "text/plain": "Positive    1100\nNeutral     1100\nNegative     999\nName: Label, dtype: int64"
          },
          "metadata": {}
        }
      ]
    },
    {
      "metadata": {
        "trusted": true
      },
      "cell_type": "code",
      "source": "df_train = df[:2700]\ndf_test = df[2700:]",
      "execution_count": 40,
      "outputs": []
    },
    {
      "metadata": {
        "trusted": true
      },
      "cell_type": "code",
      "source": "x_train = df_train['new_tweet_post']\ny_train = df_train['Label']\nx_test = df_test['new_tweet_post']\ny_test = df_test['Label']",
      "execution_count": 105,
      "outputs": []
    },
    {
      "metadata": {
        "trusted": true
      },
      "cell_type": "code",
      "source": "# from sklearn.model_selection import train_test_split\n# from sklearn import preprocessing\n# x_train, x_valid, y_train, y_valid = train_test_split(df_train['new_tweet_post'], df_train['Label'], \n#                                                                       random_state=2,test_size=0.05, stratify=df_train['Label'])",
      "execution_count": 106,
      "outputs": []
    },
    {
      "metadata": {
        "scrolled": true,
        "trusted": true
      },
      "cell_type": "code",
      "source": "y_train.value_counts()",
      "execution_count": 107,
      "outputs": [
        {
          "output_type": "execute_result",
          "execution_count": 107,
          "data": {
            "text/plain": "Neutral     900\nPositive    900\nNegative    900\nName: Label, dtype: int64"
          },
          "metadata": {}
        }
      ]
    },
    {
      "metadata": {
        "trusted": true
      },
      "cell_type": "code",
      "source": "y_test.value_counts()",
      "execution_count": 108,
      "outputs": [
        {
          "output_type": "execute_result",
          "execution_count": 108,
          "data": {
            "text/plain": "Positive    200\nNeutral     200\nNegative     99\nName: Label, dtype: int64"
          },
          "metadata": {}
        }
      ]
    },
    {
      "metadata": {
        "trusted": true
      },
      "cell_type": "code",
      "source": "from sklearn import preprocessing\nencoder = preprocessing.LabelEncoder()\ny_train = encoder.fit_transform(y_train)\ny_test = encoder.transform(y_test)",
      "execution_count": 109,
      "outputs": []
    },
    {
      "metadata": {
        "trusted": true
      },
      "cell_type": "code",
      "source": "from sklearn.feature_extraction.text import TfidfVectorizer, CountVectorizer\ncount_vec = CountVectorizer(analyzer='word', token_pattern=r'\\w{1,}', ngram_range=(1,2))\nxtrain_count = count_vec.fit_transform(x_train)\nxtest_count = count_vec.transform(x_test)",
      "execution_count": 110,
      "outputs": []
    },
    {
      "metadata": {
        "trusted": true
      },
      "cell_type": "code",
      "source": "print(xtrain_count.shape)\nprint(y_train.shape)\nprint(xtest_count.shape)\nprint(y_test.shape)",
      "execution_count": 111,
      "outputs": [
        {
          "output_type": "stream",
          "text": "(2700, 21934)\n(2700,)\n(499, 21934)\n(499,)\n",
          "name": "stdout"
        }
      ]
    },
    {
      "metadata": {
        "trusted": true
      },
      "cell_type": "code",
      "source": "from sklearn import naive_bayes\nclassifier = naive_bayes.MultinomialNB()\n",
      "execution_count": 112,
      "outputs": []
    },
    {
      "metadata": {
        "trusted": true
      },
      "cell_type": "code",
      "source": "classifier.fit(xtrain_count, y_train)\npredictions = classifier.predict(xtest_count)",
      "execution_count": 113,
      "outputs": []
    },
    {
      "metadata": {
        "trusted": true
      },
      "cell_type": "code",
      "source": "from sklearn.metrics import classification_report, confusion_matrix, accuracy_score, f1_score\naccuracy_score(y_test, predictions)",
      "execution_count": 114,
      "outputs": [
        {
          "output_type": "execute_result",
          "execution_count": 114,
          "data": {
            "text/plain": "0.7915831663326653"
          },
          "metadata": {}
        }
      ]
    },
    {
      "metadata": {
        "trusted": true
      },
      "cell_type": "code",
      "source": "import pandas as pd\ncm = confusion_matrix(y_test, predictions)\ncm_df = pd.DataFrame(cm.T, index=classifier.classes_, columns=classifier.classes_)\ncm_df.index.name = 'Predicted'\ncm_df.columns.name = 'True'\nprint(cm_df)",
      "execution_count": 115,
      "outputs": [
        {
          "output_type": "stream",
          "text": "True        0    1    2\nPredicted              \n0          86    8   31\n1           8  156   16\n2           5   36  153\n",
          "name": "stdout"
        }
      ]
    },
    {
      "metadata": {
        "trusted": true
      },
      "cell_type": "code",
      "source": "print(classification_report(y_test,predictions))",
      "execution_count": 116,
      "outputs": [
        {
          "output_type": "stream",
          "text": "             precision    recall  f1-score   support\n\n          0       0.69      0.87      0.77        99\n          1       0.87      0.78      0.82       200\n          2       0.79      0.77      0.78       200\n\navg / total       0.80      0.79      0.79       499\n\n",
          "name": "stdout"
        }
      ]
    },
    {
      "metadata": {
        "trusted": true
      },
      "cell_type": "code",
      "source": "from sklearn import svm\nclassifier_svm = svm.SVC()",
      "execution_count": 117,
      "outputs": []
    },
    {
      "metadata": {
        "trusted": true
      },
      "cell_type": "code",
      "source": "classifier_svm.fit(xtrain_count, y_train)\nsvm_predictions = classifier_svm.predict(xtest_count)",
      "execution_count": 118,
      "outputs": []
    },
    {
      "metadata": {
        "trusted": true
      },
      "cell_type": "code",
      "source": "from sklearn.metrics import classification_report, confusion_matrix, accuracy_score, f1_score\naccuracy_score(y_test,svm_predictions)",
      "execution_count": 119,
      "outputs": [
        {
          "output_type": "execute_result",
          "execution_count": 119,
          "data": {
            "text/plain": "0.6492985971943888"
          },
          "metadata": {}
        }
      ]
    },
    {
      "metadata": {
        "trusted": true
      },
      "cell_type": "code",
      "source": "print(classification_report(y_test,svm_predictions))",
      "execution_count": 120,
      "outputs": [
        {
          "output_type": "stream",
          "text": "             precision    recall  f1-score   support\n\n          0       0.61      0.34      0.44        99\n          1       0.61      0.86      0.72       200\n          2       0.73      0.58      0.65       200\n\navg / total       0.66      0.65      0.63       499\n\n",
          "name": "stdout"
        }
      ]
    },
    {
      "metadata": {
        "scrolled": true,
        "trusted": true
      },
      "cell_type": "code",
      "source": "from sklearn.ensemble import RandomForestClassifier\nclassifier_RF = RandomForestClassifier(n_estimators=100)",
      "execution_count": 121,
      "outputs": []
    },
    {
      "metadata": {
        "trusted": true
      },
      "cell_type": "code",
      "source": "classifier_RF.fit(xtrain_count, y_train)\nRF_predictions = classifier_svm.predict(xtest_count)",
      "execution_count": 122,
      "outputs": []
    },
    {
      "metadata": {
        "trusted": true
      },
      "cell_type": "code",
      "source": "from sklearn.metrics import classification_report, confusion_matrix, accuracy_score, f1_score\naccuracy_score(y_test,RF_predictions)",
      "execution_count": 123,
      "outputs": [
        {
          "output_type": "execute_result",
          "execution_count": 123,
          "data": {
            "text/plain": "0.6492985971943888"
          },
          "metadata": {}
        }
      ]
    },
    {
      "metadata": {
        "trusted": true
      },
      "cell_type": "code",
      "source": "print(classification_report(y_test,RF_predictions))",
      "execution_count": 124,
      "outputs": [
        {
          "output_type": "stream",
          "text": "             precision    recall  f1-score   support\n\n          0       0.61      0.34      0.44        99\n          1       0.61      0.86      0.72       200\n          2       0.73      0.58      0.65       200\n\navg / total       0.66      0.65      0.63       499\n\n",
          "name": "stdout"
        }
      ]
    },
    {
      "metadata": {
        "trusted": true
      },
      "cell_type": "code",
      "source": "import pandas as pd\nfrom sklearn import svm\nfrom sklearn.pipeline import Pipeline\nfrom sklearn.model_selection import train_test_split, GridSearchCV\nfrom sklearn.metrics import precision_score, recall_score, accuracy_score, f1_score\n\npipeline = Pipeline([\n    ('vect', TfidfVectorizer(analyzer='word', token_pattern=r'\\w{1,}', max_features=10000)),\n    ('clf', svm.SVC())\n])\n\n# binary in TfidfVectorizer(): if True, all non-zero term counts are set to 1. \n# This does not mean outputs will have only 0/1 values, only that the tf term in tf-idf is binary.\nparameters = {\n    'clf__kernel':('rbf','linear'),\n    'vect__max_df': (0.1, 0.25, 0.5, 0.75),\n    'vect__stop_words': ('english', None),\n    #'vect__lowercase': (True, False),\n    'vect__binary': (True, False),\n    #'vect__max_features': (5000, 10000),\n    'vect__ngram_range': ((1, 1), (1, 2)),\n    'vect__use_idf': (True, False),\n    'vect__norm': ('l1', 'l2', None),\n    \"clf__C\": [0.5, 1, 10, 100],\n    'clf__gamma': [1e-2, 1e-3, 1e-4]\n}\n\nif __name__ == \"__main__\":\n    grid_search = GridSearchCV(pipeline, parameters, n_jobs=-1, verbose=1, scoring='accuracy', cv=3)\n    grid_search.fit(x_train, y_train)\n    print('Best score: %0.3f' % grid_search.best_score_)\n    print('Best parameters set:')\n    best_parameters = grid_search.best_estimator_.get_params()\n    #for param_name in sorted(parameters.keys()):\n     #   print('\\t%s: %r' % (param_name, best_parameters[param_name]))\n    predictions_pip = grid_search.predict(x_test)\n    print('Accuracy:', accuracy_score(y_test, predictions_pip))",
      "execution_count": null,
      "outputs": []
    },
    {
      "metadata": {
        "trusted": true
      },
      "cell_type": "code",
      "source": "print(classification_report(y_test,predictions))",
      "execution_count": null,
      "outputs": []
    },
    {
      "metadata": {
        "trusted": true
      },
      "cell_type": "code",
      "source": "for param_name in sorted(parameters.keys()):\n    print('%r: %s' % (param_name, best_parameters[param_name]))",
      "execution_count": null,
      "outputs": []
    },
    {
      "metadata": {},
      "cell_type": "markdown",
      "source": "# Additional Features"
    },
    {
      "metadata": {
        "trusted": true
      },
      "cell_type": "code",
      "source": "df['new_tweet_post'] = new_tweet_post",
      "execution_count": 118,
      "outputs": []
    },
    {
      "metadata": {
        "trusted": true
      },
      "cell_type": "code",
      "source": "import numpy as np\nfrom collections import Counter\ndef additional_features(df):\n    #number of upper case words \n    df['number_of_uppercase'] = df['new_tweet_post'].apply(lambda x: len([x for x in x.split() if x.isupper()]))\n    #number of urls\n    #df['number_of_urls'] = df['tweet_post'].apply(lambda x: len(re.findall(r'https?://\\S+',str(x))))\n    #number of hashtags in a tweet\n    df['number_of_hashtags'] = df['tweet_post'].apply(lambda x: len([x for x in x.split() if x.startswith('#')]))\n    #number of negated context in a tweet\n    df['number_of_negation'] = df['new_tweet_post'].apply(negation)\n    #number of words in a tweet\n    #df['word_count'] = df['new_tweet_post'].apply(lambda x: len(str(x).split(\" \")))\n    #average word length\n    #df['avg_word_length'] = df['new_tweet_post'].apply(avg_word)\n    #number of negative word count\n    df['neg_count'] = df['new_tweet_post'].apply(neg_word_count)\n    #number of positive word count\n    df['pos_count']= df['new_tweet_post'].apply(pos_word_count)\n    #sum of overall_score \n    df['overall_score'] = df['new_tweet_post'].apply(overall_score)\n    #number of exclamation marks\n    df['Exclamation_count'] =  np.vectorize(count_occurences)('!',df['tweet_post'])\n    #number of question marks\n    df['question_mark_count'] =  np.vectorize(count_occurences)('?',df['tweet_post'])\n    #number of punctuations\n    #df['punc_count'] = df['new_tweet_post'].apply(punc_count)\n    #number of user mentions in tweet\n    df['user_mention_count'] = df['tweet_post'].apply(user_mention_count)\n    #count_emoticons\n    #df['pos_emo_count'] = df['tweet_post'].apply(pos_emo_count)\n    #df['neg_emo_count'] = df['tweet_post'].apply(neg_emo_count)\n    \n    df['new_tweet_post'] = df['new_tweet_post'].apply(clean_tweet)\n    df['new_tweet_post'] = df['new_tweet_post'].apply(preprocess)\n    \n    df['last_word_polarity'] = df['new_tweet_post'].apply(las_pol)#run this after preprocessing\n    #number of pos tagging do after preprocessing of the tweets\n    df['pos_POStag_count'] = df['new_tweet_post'].apply(pos_POStag_count)\n    df['neg_POStag_count'] = df['new_tweet_post'].apply(neg_POStag_count)\n    return df",
      "execution_count": 270,
      "outputs": []
    },
    {
      "metadata": {
        "trusted": true
      },
      "cell_type": "code",
      "source": "df= additional_features(df)",
      "execution_count": 271,
      "outputs": []
    },
    {
      "metadata": {
        "trusted": true
      },
      "cell_type": "code",
      "source": "df['pos_POStag_count'].value_counts()",
      "execution_count": 272,
      "outputs": [
        {
          "output_type": "execute_result",
          "execution_count": 272,
          "data": {
            "text/plain": "0    1389\n1    1194\n2     414\n3     146\n4      34\n5      17\n6       4\n8       1\nName: pos_POStag_count, dtype: int64"
          },
          "metadata": {}
        }
      ]
    },
    {
      "metadata": {
        "trusted": true
      },
      "cell_type": "code",
      "source": "df['overall_score'].describe()",
      "execution_count": 273,
      "outputs": [
        {
          "output_type": "execute_result",
          "execution_count": 273,
          "data": {
            "text/plain": "count    3199.000000\nmean        0.101282\nstd         1.143979\nmin        -4.000000\n25%         0.000000\n50%         0.000000\n75%         1.000000\nmax         7.000000\nName: overall_score, dtype: float64"
          },
          "metadata": {}
        }
      ]
    },
    {
      "metadata": {
        "trusted": true
      },
      "cell_type": "code",
      "source": "df_train = df[:2700]\ndf_test = df[2700:]",
      "execution_count": 274,
      "outputs": []
    },
    {
      "metadata": {
        "trusted": true
      },
      "cell_type": "code",
      "source": "len(df_train)",
      "execution_count": 275,
      "outputs": [
        {
          "output_type": "execute_result",
          "execution_count": 275,
          "data": {
            "text/plain": "2700"
          },
          "metadata": {}
        }
      ]
    },
    {
      "metadata": {
        "trusted": true
      },
      "cell_type": "code",
      "source": "x_train = df_train[df_train.columns[15:]] \ny_train = df_train[df_train.columns[14]] ",
      "execution_count": 276,
      "outputs": []
    },
    {
      "metadata": {
        "trusted": true
      },
      "cell_type": "code",
      "source": "x_test = df_test[df_train.columns[15:]] \ny_test = df_test[df_train.columns[14]] ",
      "execution_count": 277,
      "outputs": []
    },
    {
      "metadata": {
        "trusted": true
      },
      "cell_type": "code",
      "source": "y_train.value_counts()",
      "execution_count": 278,
      "outputs": [
        {
          "output_type": "execute_result",
          "execution_count": 278,
          "data": {
            "text/plain": "Positive    900\nNegative    900\nNeutral     900\nName: Label, dtype: int64"
          },
          "metadata": {}
        }
      ]
    },
    {
      "metadata": {
        "trusted": true
      },
      "cell_type": "code",
      "source": "print(x_train.shape)\nprint(y_train.shape)\nprint(x_test.shape)\nprint(y_test.shape)",
      "execution_count": 279,
      "outputs": [
        {
          "output_type": "stream",
          "text": "(2700, 13)\n(2700,)\n(499, 13)\n(499,)\n",
          "name": "stdout"
        }
      ]
    },
    {
      "metadata": {
        "trusted": true
      },
      "cell_type": "code",
      "source": "from sklearn.preprocessing import MinMaxScaler\nmms = MinMaxScaler()",
      "execution_count": 280,
      "outputs": []
    },
    {
      "metadata": {
        "trusted": true
      },
      "cell_type": "code",
      "source": "def norm(x_train):\n    x_train[['number_of_uppercase','number_of_hashtags']] = mms.fit_transform(x_train[['number_of_uppercase','number_of_hashtags']])\n    x_train[['pos_emo_count','neg_emo_count','last_word_polarity']] = mms.fit_transform(x_train[['pos_emo_count','neg_emo_count','last_word_polarity']])\n    x_train[['user_mention_count','pos_POStag_count', 'neg_POStag_count']] = mms.fit_transform(x_train[['user_mention_count','pos_POStag_count', 'neg_POStag_count']])\n    x_train[['overall_score','Exclamation_count','question_mark_count']] = mms.fit_transform(x_train[['overall_score','Exclamation_count','question_mark_count']])\n    x_train[['number_of_negation','neg_count','pos_count']] = mms.fit_transform(x_train[['number_of_negation','neg_count','pos_count']])\n    return x_train",
      "execution_count": 52,
      "outputs": []
    },
    {
      "metadata": {
        "trusted": true
      },
      "cell_type": "code",
      "source": "x_train[['number_of_uppercase','number_of_hashtags']] = mms.fit_transform(x_train[['number_of_uppercase','number_of_hashtags']])\nx_train[['last_word_polarity']] = mms.fit_transform(x_train[['last_word_polarity']])\nx_train[['user_mention_count','pos_POStag_count', 'neg_POStag_count']] = mms.fit_transform(x_train[['user_mention_count','pos_POStag_count', 'neg_POStag_count']])\nx_train[['overall_score','Exclamation_count','question_mark_count']] = mms.fit_transform(x_train[['overall_score','Exclamation_count','question_mark_count']])\nx_train[['number_of_negation','neg_count','pos_count']] = mms.fit_transform(x_train[['number_of_negation','neg_count','pos_count']])",
      "execution_count": 281,
      "outputs": []
    },
    {
      "metadata": {
        "trusted": true
      },
      "cell_type": "code",
      "source": "x_test[['number_of_uppercase','number_of_hashtags']] = mms.fit_transform(x_test[['number_of_uppercase','number_of_hashtags']])\nx_test[['last_word_polarity']] = mms.fit_transform(x_test[['last_word_polarity']])\nx_test[['user_mention_count','pos_POStag_count', 'neg_POStag_count']] = mms.fit_transform(x_test[['user_mention_count','pos_POStag_count', 'neg_POStag_count']])\nx_test[['overall_score','Exclamation_count','question_mark_count']] = mms.fit_transform(x_test[['overall_score','Exclamation_count','question_mark_count']])\nx_test[['number_of_negation','neg_count','pos_count']] = mms.fit_transform(x_test[['number_of_negation','neg_count','pos_count']])",
      "execution_count": 282,
      "outputs": []
    },
    {
      "metadata": {
        "trusted": true
      },
      "cell_type": "code",
      "source": "x_train['overall_score'].describe()",
      "execution_count": 283,
      "outputs": [
        {
          "output_type": "execute_result",
          "execution_count": 283,
          "data": {
            "text/plain": "count    2700.000000\nmean        0.372256\nstd         0.105512\nmin         0.000000\n25%         0.363636\n50%         0.363636\n75%         0.454545\nmax         1.000000\nName: overall_score, dtype: float64"
          },
          "metadata": {}
        }
      ]
    },
    {
      "metadata": {
        "trusted": true
      },
      "cell_type": "code",
      "source": "from sklearn import preprocessing\nencoder = preprocessing.LabelEncoder()\ny_train = encoder.fit_transform(y_train)\ny_test = encoder.transform(y_test)",
      "execution_count": 284,
      "outputs": []
    },
    {
      "metadata": {
        "trusted": true
      },
      "cell_type": "code",
      "source": "le_name_mapping = dict(zip(encoder.classes_, encoder.transform(encoder.classes_)))\nprint(le_name_mapping)",
      "execution_count": 285,
      "outputs": [
        {
          "output_type": "stream",
          "text": "{'Neutral': 1, 'Negative': 0, 'Positive': 2}\n",
          "name": "stdout"
        }
      ]
    },
    {
      "metadata": {
        "trusted": true,
        "scrolled": true
      },
      "cell_type": "code",
      "source": "x_train.columns",
      "execution_count": 136,
      "outputs": [
        {
          "output_type": "execute_result",
          "execution_count": 136,
          "data": {
            "text/plain": "Index(['new_tweet_post', 'number_of_uppercase', 'number_of_hashtags',\n       'number_of_negation', 'neg_count', 'pos_count', 'overall_score',\n       'Exclamation_count', 'question_mark_count', 'user_mention_count',\n       'pos_emo_count', 'neg_emo_count', 'last_word_polarity',\n       'pos_POStag_count', 'neg_POStag_count'],\n      dtype='object')"
          },
          "metadata": {}
        }
      ]
    },
    {
      "metadata": {},
      "cell_type": "markdown",
      "source": "# Using TF-IDF vectoriser with additional features"
    },
    {
      "metadata": {
        "trusted": true
      },
      "cell_type": "code",
      "source": "from sklearn_pandas import DataFrameMapper\nfrom sklearn.feature_extraction.text import TfidfVectorizer, CountVectorizer\nmapper = DataFrameMapper([\n     ('new_tweet_post',TfidfVectorizer(analyzer='word', token_pattern=r'\\w{1,}',ngram_range=(1,2), max_df=0.5, norm='l2')),\n     ('number_of_uppercase', None),\n#      ('number_of_urls',None),\n     ('number_of_hashtags',None),\n     ('number_of_negation',None),\n     ('neg_count',None),\n     ('pos_count',None),\n     ('overall_score',None),\n     ('Exclamation_count',None),\n     ('question_mark_count',None),\n#      ('punc_count',None),\n     ('user_mention_count',None),\n     ('neg_POStag_count',None),\n     ('pos_POStag_count',None),\n     ('pos_emo_count',None),\n     ('neg_emo_count',None),\n#    ('word_count', None),\n    ('last_word_polarity',None),\n    #('avg_word_length', None)\n])",
      "execution_count": 105,
      "outputs": []
    },
    {
      "metadata": {
        "trusted": true
      },
      "cell_type": "code",
      "source": "x_train.columns",
      "execution_count": 106,
      "outputs": [
        {
          "output_type": "execute_result",
          "execution_count": 106,
          "data": {
            "text/plain": "Index(['new_tweet_post', 'number_of_uppercase', 'number_of_hashtags',\n       'number_of_negation', 'neg_count', 'pos_count', 'overall_score',\n       'Exclamation_count', 'question_mark_count', 'user_mention_count',\n       'pos_emo_count', 'neg_emo_count', 'last_word_polarity',\n       'pos_POStag_count', 'neg_POStag_count'],\n      dtype='object')"
          },
          "metadata": {}
        }
      ]
    },
    {
      "metadata": {
        "trusted": true
      },
      "cell_type": "code",
      "source": "xn_train = mapper.fit_transform(x_train)\nxn_test = mapper.transform(x_test)",
      "execution_count": 107,
      "outputs": []
    },
    {
      "metadata": {},
      "cell_type": "markdown",
      "source": "# naive-bayes"
    },
    {
      "metadata": {
        "trusted": true
      },
      "cell_type": "code",
      "source": "from sklearn import naive_bayes\nclassifier = naive_bayes.MultinomialNB()\n",
      "execution_count": 49,
      "outputs": []
    },
    {
      "metadata": {
        "trusted": true
      },
      "cell_type": "code",
      "source": "classifier.fit(xn_train, y_train)\npredictions_1 = classifier.predict(xn_test)",
      "execution_count": 50,
      "outputs": []
    },
    {
      "metadata": {
        "trusted": true
      },
      "cell_type": "code",
      "source": "from sklearn.metrics import classification_report, confusion_matrix, accuracy_score, f1_score\naccuracy_score(y_test, predictions_1)",
      "execution_count": 51,
      "outputs": [
        {
          "output_type": "execute_result",
          "execution_count": 51,
          "data": {
            "text/plain": "0.8196392785571143"
          },
          "metadata": {}
        }
      ]
    },
    {
      "metadata": {
        "trusted": true
      },
      "cell_type": "code",
      "source": "import pandas as pd\ncm = confusion_matrix(y_test, predictions_1)\ncm_df = pd.DataFrame(cm.T, index=classifier.classes_, columns=classifier.classes_)\ncm_df.index.name = 'Predicted'\ncm_df.columns.name = 'True'\nprint(cm_df)\n\n",
      "execution_count": 51,
      "outputs": [
        {
          "output_type": "stream",
          "text": "True        0    1    2\nPredicted              \n0          88    6   18\n1           4  151   11\n2           7   43  171\n",
          "name": "stdout"
        }
      ]
    },
    {
      "metadata": {
        "scrolled": false,
        "trusted": true
      },
      "cell_type": "code",
      "source": "print(classification_report(y_test,predictions_1))",
      "execution_count": 52,
      "outputs": [
        {
          "output_type": "stream",
          "text": "             precision    recall  f1-score   support\n\n          0       0.79      0.89      0.83        99\n          1       0.91      0.76      0.83       200\n          2       0.77      0.85      0.81       200\n\navg / total       0.83      0.82      0.82       499\n\n",
          "name": "stdout"
        }
      ]
    },
    {
      "metadata": {},
      "cell_type": "markdown",
      "source": "# Random forest"
    },
    {
      "metadata": {
        "trusted": false
      },
      "cell_type": "code",
      "source": "from sklearn.ensemble import RandomForestClassifier\nclassifier_RF = RandomForestClassifier(n_estimators=100)",
      "execution_count": null,
      "outputs": []
    },
    {
      "metadata": {
        "trusted": false
      },
      "cell_type": "code",
      "source": "classifier_RF.fit(x_train, y_train)\npredictions = classifier_RF.predict(x_test)",
      "execution_count": null,
      "outputs": []
    },
    {
      "metadata": {
        "trusted": false
      },
      "cell_type": "code",
      "source": "from sklearn.metrics import classification_report, confusion_matrix, accuracy_score, f1_score\naccuracy_score(y_test, predictions)",
      "execution_count": 91,
      "outputs": [
        {
          "data": {
            "text/plain": "0.779559118236473"
          },
          "execution_count": 91,
          "metadata": {},
          "output_type": "execute_result"
        }
      ]
    },
    {
      "metadata": {
        "trusted": false,
        "scrolled": true
      },
      "cell_type": "code",
      "source": "print(classification_report(y_test,predictions))",
      "execution_count": 92,
      "outputs": [
        {
          "name": "stdout",
          "output_type": "stream",
          "text": "             precision    recall  f1-score   support\n\n          0       0.66      0.88      0.76        99\n          1       0.81      0.80      0.80       200\n          2       0.84      0.71      0.77       200\n\navg / total       0.79      0.78      0.78       499\n\n"
        }
      ]
    },
    {
      "metadata": {},
      "cell_type": "markdown",
      "source": "# SVM"
    },
    {
      "metadata": {
        "trusted": true
      },
      "cell_type": "markdown",
      "source": "from sklearn import svm\nclassifier_svm = svm.SVC(kernel='linear')"
    },
    {
      "metadata": {
        "trusted": true
      },
      "cell_type": "code",
      "source": "classifier_svm.fit(xn_train, y_train)\npredictions_2 = classifier_svm.predict(xn_test)",
      "execution_count": null,
      "outputs": []
    },
    {
      "metadata": {
        "trusted": true
      },
      "cell_type": "code",
      "source": "from sklearn.metrics import classification_report, confusion_matrix, accuracy_score, f1_score\naccuracy_score(y_test, predictions_2)",
      "execution_count": 110,
      "outputs": [
        {
          "output_type": "execute_result",
          "execution_count": 110,
          "data": {
            "text/plain": "0.8637274549098196"
          },
          "metadata": {}
        }
      ]
    },
    {
      "metadata": {
        "trusted": true
      },
      "cell_type": "code",
      "source": "import pandas as pd\ncm = confusion_matrix(y_test, predictions_2)\ncm_df = pd.DataFrame(cm.T, index=classifier_svm.classes_, columns=classifier_svm.classes_)\ncm_df.index.name = 'Predicted'\ncm_df.columns.name = 'True'\nprint(cm_df)",
      "execution_count": 111,
      "outputs": [
        {
          "output_type": "stream",
          "text": "True        0    1    2\nPredicted              \n0          90   11   15\n1           4  166   10\n2           5   23  175\n",
          "name": "stdout"
        }
      ]
    },
    {
      "metadata": {
        "trusted": true,
        "scrolled": true
      },
      "cell_type": "code",
      "source": "print(classification_report(y_test,predictions_2))",
      "execution_count": 84,
      "outputs": [
        {
          "output_type": "stream",
          "text": "             precision    recall  f1-score   support\n\n          0       0.76      0.85      0.80        99\n          1       0.91      0.81      0.86       200\n          2       0.82      0.86      0.84       200\n\navg / total       0.84      0.84      0.84       499\n\n",
          "name": "stdout"
        }
      ]
    },
    {
      "metadata": {},
      "cell_type": "markdown",
      "source": "# Using count vectoriser along with dataframe mapper"
    },
    {
      "metadata": {
        "trusted": true
      },
      "cell_type": "code",
      "source": "from sklearn_pandas import DataFrameMapper\nfrom sklearn.feature_extraction.text import TfidfVectorizer, CountVectorizer\nmapper = DataFrameMapper([\n     ('new_tweet_post',CountVectorizer(analyzer='word', token_pattern=r'\\w{1,}', ngram_range=(1,1))),\n     ('number_of_uppercase', None),\n#      ('number_of_urls',None),\n     ('number_of_hashtags',None),\n     ('number_of_negation',None),\n     ('neg_count',None),\n     ('pos_count',None),\n     ('overall_score',None),\n     ('Exclamation_count',None),\n     ('question_mark_count',None),\n#      ('punc_count',None),\n     ('user_mention_count',None),\n     ('neg_POStag_count',None),\n     ('pos_POStag_count',None),\n     ('pos_emo_count',None),\n     ('neg_emo_count',None),\n#    ('word_count', None),\n    ('last_word_polarity',None),\n    #('avg_word_length', None)\n])",
      "execution_count": 114,
      "outputs": []
    },
    {
      "metadata": {
        "trusted": true
      },
      "cell_type": "code",
      "source": "x_train = mapper.fit_transform(x_train)\nx_test = mapper.transform(x_test)",
      "execution_count": 115,
      "outputs": []
    },
    {
      "metadata": {
        "trusted": false
      },
      "cell_type": "code",
      "source": "from sklearn import naive_bayes\nclassifier = naive_bayes.MultinomialNB()\nclassifier.fit(x_train, y_train)\npredictions_1 = classifier.predict(x_test)\nfrom sklearn.metrics import classification_report, confusion_matrix, accuracy_score, f1_score\naccuracy_score(y_test, predictions_1)",
      "execution_count": 103,
      "outputs": [
        {
          "data": {
            "text/plain": "0.811623246492986"
          },
          "execution_count": 103,
          "metadata": {},
          "output_type": "execute_result"
        }
      ]
    },
    {
      "metadata": {
        "trusted": false
      },
      "cell_type": "code",
      "source": "print(classification_report(y_test,predictions_1))",
      "execution_count": 104,
      "outputs": [
        {
          "name": "stdout",
          "output_type": "stream",
          "text": "             precision    recall  f1-score   support\n\n          0       0.71      0.93      0.80        99\n          1       0.91      0.78      0.84       200\n          2       0.79      0.79      0.79       200\n\navg / total       0.82      0.81      0.81       499\n\n"
        }
      ]
    },
    {
      "metadata": {
        "trusted": true
      },
      "cell_type": "code",
      "source": "from sklearn import svm\nclassifier_svm = svm.SVC(kernel='linear')\nclassifier_svm.fit(x_train, y_train)\npredictions_3 = classifier_svm.predict(x_test)\nfrom sklearn.metrics import classification_report, confusion_matrix, accuracy_score, f1_score\naccuracy_score(y_test, predictions_3)",
      "execution_count": 116,
      "outputs": [
        {
          "output_type": "execute_result",
          "execution_count": 116,
          "data": {
            "text/plain": "0.8496993987975952"
          },
          "metadata": {}
        }
      ]
    },
    {
      "metadata": {
        "trusted": true
      },
      "cell_type": "code",
      "source": "print(classification_report(y_test,predictions_2))",
      "execution_count": 117,
      "outputs": [
        {
          "output_type": "stream",
          "text": "             precision    recall  f1-score   support\n\n          0       0.78      0.91      0.84        99\n          1       0.92      0.83      0.87       200\n          2       0.86      0.88      0.87       200\n\navg / total       0.87      0.86      0.86       499\n\n",
          "name": "stdout"
        }
      ]
    },
    {
      "metadata": {},
      "cell_type": "markdown",
      "source": "# Pipeline for addtional features"
    },
    {
      "metadata": {
        "trusted": true
      },
      "cell_type": "code",
      "source": "from sklearn.base import BaseEstimator, TransformerMixin\n\nclass TextSelector(BaseEstimator, TransformerMixin):\n    \"\"\"\n    Transformer to select a single column from the data frame to perform additional transformations on\n    Use on text columns in the data\n    \"\"\"\n    def __init__(self, key):\n        self.key = key\n\n    def fit(self, X, y=None): # fit() doesn't do anything\n        return self\n\n    def transform(self, X):   # all the work is done here\n        return X[self.key]\n    \nclass NumberSelector(BaseEstimator, TransformerMixin):\n    \"\"\"\n    Transformer to select a single column from the data frame to perform additional transformations on\n    Use on numeric columns in the data\n    \"\"\"\n    def __init__(self, key):\n        self.key = key\n\n    def fit(self, X, y=None):\n        return self\n\n    def transform(self, X):\n        return X[[self.key]]\n",
      "execution_count": 53,
      "outputs": []
    },
    {
      "metadata": {
        "trusted": true
      },
      "cell_type": "code",
      "source": "from sklearn.pipeline import Pipeline\nfrom sklearn.feature_extraction.text import TfidfVectorizer\nfrom sklearn.preprocessing import StandardScaler\n\nnew_tweet_post = Pipeline([\n                ('selector', TextSelector(key='new_tweet_post')),\n                ('tfidf', TfidfVectorizer(analyzer='word', token_pattern=r'\\w{1,}',ngram_range=(1,2), max_df=0.5, norm='l2'))\n            ])\n\nnumber_of_uppercase =  Pipeline([\n                ('selector', NumberSelector(key='number_of_uppercase')),\n                ('standard', MinMaxScaler())\n            ])\n#number_of_urls =  Pipeline([\n#                 ('selector', NumberSelector(key='number_of_urls')),\n#                 ('standard', MinMaxScaler())\n#             ])\nnumber_of_hashtags =  Pipeline([\n                ('selector', NumberSelector(key='number_of_hashtags')),\n                ('standard', MinMaxScaler())\n            ])\nnumber_of_negation =  Pipeline([\n                ('selector', NumberSelector(key='number_of_negation')),\n                ('standard', MinMaxScaler())\n            ])\nneg_count =  Pipeline([\n                ('selector', NumberSelector(key='neg_count')),\n                ('standard', MinMaxScaler())\n            ])\npos_count =  Pipeline([\n                ('selector', NumberSelector(key='pos_count')),\n                ('standard', MinMaxScaler())\n            ])\noverall_score =  Pipeline([\n                ('selector', NumberSelector(key='overall_score')),\n                ('standard', MinMaxScaler())\n            ])\nExclamation_count =  Pipeline([\n                ('selector', NumberSelector(key='Exclamation_count')),\n                ('standard', MinMaxScaler())\n            ])\nquestion_mark_count =  Pipeline([\n                ('selector', NumberSelector(key='question_mark_count')),\n                ('standard', MinMaxScaler())\n            ])\nuser_mention_count =  Pipeline([\n                ('selector', NumberSelector(key='user_mention_count')),\n                ('standard', MinMaxScaler())\n            ])\npos_emo_count =  Pipeline([\n                ('selector', NumberSelector(key='pos_emo_count')),\n                ('standard', MinMaxScaler())\n            ])\nneg_emo_count =  Pipeline([\n                ('selector', NumberSelector(key='neg_emo_count')),\n                ('standard', MinMaxScaler())\n            ])\nlast_word_polarity =  Pipeline([\n                ('selector', NumberSelector(key='last_word_polarity')),\n                ('standard', MinMaxScaler())\n            ])\npos_POStag_count =  Pipeline([\n                ('selector', NumberSelector(key='pos_POStag_count')),\n                ('standard', MinMaxScaler())\n            ])\nneg_POStag_count =  Pipeline([\n                ('selector', NumberSelector(key='neg_POStag_count')),\n                ('standard', MinMaxScaler())\n            ])",
      "execution_count": 114,
      "outputs": []
    },
    {
      "metadata": {
        "trusted": true
      },
      "cell_type": "code",
      "source": "from sklearn.pipeline import FeatureUnion\n\nfeats = FeatureUnion([('new_tweet_post', new_tweet_post), \n                      ('number_of_uppercase', number_of_uppercase),\n                      #('number_of_urls', number_of_urls),\n                      ('number_of_hashtags', number_of_hashtags),\n                      ('number_of_negation', number_of_negation),\n                      ('neg_count', neg_count),\n                      ('pos_count', pos_count),\n                      ('overall_score', overall_score),\n                      ('Exclamation_count', Exclamation_count),\n                      ('question_mark_count', question_mark_count),\n                      ('user_mention_count', user_mention_count),\n                      ('pos_emo_count', pos_emo_count),\n                      ('neg_emo_count', neg_emo_count),\n                      ('last_word_polarity', last_word_polarity),\n                      ('pos_POStag_count', pos_POStag_count),\n                      ('neg_POStag_count', neg_POStag_count)])\n\nfeature_processing = Pipeline([('feats', feats)])\nfeature_processing.fit_transform(x_train) ",
      "execution_count": 115,
      "outputs": [
        {
          "output_type": "execute_result",
          "execution_count": 115,
          "data": {
            "text/plain": "<2700x21965 sparse matrix of type '<class 'numpy.float64'>'\n\twith 79739 stored elements in Compressed Sparse Row format>"
          },
          "metadata": {}
        }
      ]
    },
    {
      "metadata": {
        "trusted": true
      },
      "cell_type": "code",
      "source": "feature_processing.transform(x_test)",
      "execution_count": 116,
      "outputs": [
        {
          "output_type": "execute_result",
          "execution_count": 116,
          "data": {
            "text/plain": "<499x21965 sparse matrix of type '<class 'numpy.float64'>'\n\twith 10568 stored elements in Compressed Sparse Row format>"
          },
          "metadata": {}
        }
      ]
    },
    {
      "metadata": {
        "trusted": true
      },
      "cell_type": "code",
      "source": "import numpy as np\nfrom sklearn import svm\n\npipeline = Pipeline([\n    ('features',feats),\n    ('classifier', svm.SVC(kernel='linear'))\n])",
      "execution_count": 120,
      "outputs": []
    },
    {
      "metadata": {
        "trusted": true
      },
      "cell_type": "code",
      "source": "from sklearn import preprocessing\nencoder = preprocessing.LabelEncoder()\ny_train = encoder.fit_transform(y_train)\ny_test = encoder.transform(y_test)",
      "execution_count": 121,
      "outputs": []
    },
    {
      "metadata": {
        "trusted": true
      },
      "cell_type": "code",
      "source": "pipeline.fit(x_train, y_train)\npreds = pipeline.predict(x_test)\nnp.mean(preds == y_test)",
      "execution_count": 122,
      "outputs": [
        {
          "output_type": "execute_result",
          "execution_count": 122,
          "data": {
            "text/plain": "0.8637274549098196"
          },
          "metadata": {}
        }
      ]
    },
    {
      "metadata": {
        "trusted": true
      },
      "cell_type": "code",
      "source": "import pandas as pd\ncm = confusion_matrix(y_test, predictions_1)\ncm_df = pd.DataFrame(cm.T, index=classifier.classes_, columns=classifier.classes_)\ncm_df.index.name = 'Predicted'\ncm_df.columns.name = 'True'\nprint(cm_df)",
      "execution_count": 123,
      "outputs": [
        {
          "output_type": "stream",
          "text": "True        0    1    2\nPredicted              \n0          88    6   18\n1           4  151   11\n2           7   43  171\n",
          "name": "stdout"
        }
      ]
    },
    {
      "metadata": {
        "trusted": true,
        "scrolled": true
      },
      "cell_type": "code",
      "source": "pipeline.get_params().keys()",
      "execution_count": 60,
      "outputs": [
        {
          "output_type": "execute_result",
          "execution_count": 60,
          "data": {
            "text/plain": "dict_keys(['features__new_tweet_post__tfidf__min_df', 'features__question_mark_count', 'features__pos_count__standard__copy', 'features__user_mention_count__selector', 'features__user_mention_count__standard', 'features__pos_emo_count__standard', 'features__number_of_negation', 'features__Exclamation_count__standard__copy', 'features__new_tweet_post__tfidf__smooth_idf', 'features__neg_POStag_count__standard', 'features__new_tweet_post__selector__key', 'features__neg_emo_count__memory', 'features__pos_POStag_count__standard__feature_range', 'features__pos_count__selector', 'classifier__tol', 'features__new_tweet_post', 'features__number_of_hashtags__standard__copy', 'features__question_mark_count__standard__copy', 'features__overall_score__selector', 'features__number_of_hashtags__steps', 'classifier__degree', 'features__pos_emo_count__selector__key', 'features__number_of_negation__selector', 'classifier__max_iter', 'features__user_mention_count__steps', 'memory', 'features__neg_count__standard__feature_range', 'features__neg_count__standard__copy', 'features__last_word_polarity__standard', 'features__new_tweet_post__tfidf', 'features__new_tweet_post__tfidf__preprocessor', 'features__neg_count__memory', 'features__new_tweet_post__tfidf__binary', 'features__question_mark_count__selector', 'features__number_of_uppercase__standard__feature_range', 'features__overall_score', 'features__new_tweet_post__tfidf__ngram_range', 'features__number_of_negation__selector__key', 'classifier__decision_function_shape', 'features__last_word_polarity__selector', 'features__neg_count__selector', 'features__overall_score__steps', 'features__neg_count__steps', 'features__new_tweet_post__tfidf__strip_accents', 'features__Exclamation_count__selector__key', 'features__number_of_hashtags__standard', 'features__overall_score__standard__feature_range', 'features__neg_emo_count__steps', 'features__new_tweet_post__tfidf__max_df', 'classifier__random_state', 'features__Exclamation_count__standard', 'features__overall_score__standard__copy', 'features__new_tweet_post__tfidf__dtype', 'features__pos_emo_count__selector', 'classifier__verbose', 'features__number_of_negation__memory', 'features__last_word_polarity__standard__copy', 'features__question_mark_count__memory', 'features__new_tweet_post__steps', 'features__Exclamation_count__standard__feature_range', 'features__neg_POStag_count__selector__key', 'features__pos_count__standard', 'features__new_tweet_post__tfidf__token_pattern', 'features__new_tweet_post__tfidf__lowercase', 'features__new_tweet_post__tfidf__input', 'features__Exclamation_count__selector', 'features__last_word_polarity__selector__key', 'features__new_tweet_post__selector', 'features__pos_count__steps', 'features__number_of_uppercase', 'features__pos_POStag_count__selector', 'features__number_of_negation__standard', 'features__question_mark_count__steps', 'features__new_tweet_post__tfidf__decode_error', 'classifier__C', 'features__new_tweet_post__tfidf__tokenizer', 'features__pos_count', 'classifier', 'classifier__probability', 'features__number_of_uppercase__standard', 'features__last_word_polarity__memory', 'classifier__class_weight', 'features__neg_POStag_count__steps', 'features__pos_emo_count__steps', 'features__overall_score__standard', 'features__number_of_negation__standard__copy', 'features__neg_POStag_count__standard__copy', 'features__Exclamation_count__memory', 'features__pos_POStag_count__standard', 'features__user_mention_count__standard__copy', 'features__neg_emo_count', 'features__transformer_list', 'features__pos_count__standard__feature_range', 'features__pos_POStag_count__standard__copy', 'features__pos_count__memory', 'features__pos_emo_count__standard__feature_range', 'features__Exclamation_count', 'features__pos_POStag_count__steps', 'features__number_of_negation__steps', 'features__pos_emo_count__standard__copy', 'features__new_tweet_post__tfidf__norm', 'features__new_tweet_post__tfidf__stop_words', 'features__neg_emo_count__standard__copy', 'features__number_of_hashtags__selector', 'classifier__cache_size', 'features__overall_score__selector__key', 'features__question_mark_count__standard', 'features__neg_emo_count__selector__key', 'features__neg_count__standard', 'features__neg_count__selector__key', 'features__neg_POStag_count__selector', 'features__user_mention_count__memory', 'features__n_jobs', 'features__number_of_uppercase__steps', 'classifier__shrinking', 'features__neg_POStag_count__standard__feature_range', 'features__neg_emo_count__standard__feature_range', 'features__number_of_hashtags__standard__feature_range', 'features__new_tweet_post__tfidf__use_idf', 'classifier__coef0', 'features__pos_POStag_count__selector__key', 'features__number_of_uppercase__standard__copy', 'features__overall_score__memory', 'features__new_tweet_post__tfidf__analyzer', 'features__number_of_uppercase__selector__key', 'features__pos_emo_count', 'features__pos_count__selector__key', 'features__Exclamation_count__steps', 'features__user_mention_count__selector__key', 'features__pos_emo_count__memory', 'features__number_of_uppercase__memory', 'features__new_tweet_post__tfidf__vocabulary', 'features__user_mention_count__standard__feature_range', 'features__number_of_hashtags__memory', 'features__number_of_negation__standard__feature_range', 'features__user_mention_count', 'features__last_word_polarity__standard__feature_range', 'features__number_of_hashtags', 'features__neg_emo_count__standard', 'features__neg_emo_count__selector', 'features__transformer_weights', 'features__last_word_polarity', 'features__new_tweet_post__tfidf__encoding', 'features__new_tweet_post__memory', 'features__neg_POStag_count', 'features__pos_POStag_count__memory', 'features', 'features__question_mark_count__standard__feature_range', 'features__new_tweet_post__tfidf__max_features', 'features__question_mark_count__selector__key', 'features__neg_POStag_count__memory', 'classifier__gamma', 'features__new_tweet_post__tfidf__sublinear_tf', 'steps', 'features__pos_POStag_count', 'classifier__kernel', 'features__neg_count', 'features__last_word_polarity__steps', 'features__number_of_hashtags__selector__key', 'features__number_of_uppercase__selector'])"
          },
          "metadata": {}
        }
      ]
    },
    {
      "metadata": {
        "trusted": true
      },
      "cell_type": "code",
      "source": "from sklearn.model_selection import GridSearchCV\n\nhyperparameters = { 'features__new_tweet_post__tfidf__max_df': [0.5, 0.75],\n                   'features__new_tweet_post__tfidf__norm':('l1', 'l2'),\n                   #'features__new_tweet_post__tfidf__stop_words':('english', None),\n                    'features__new_tweet_post__tfidf__ngram_range': [(1,1), (1,2)],\n                   #'features__new_tweet_post__tfidf__binary':(True,False),\n                   #'features__new_tweet_post__tfidf__use_idf':(True,False),\n                    'classifier__C': (0.5, 1, 10),\n                    'classifier__gamma': (1e-2, 1e-3),\n                    'classifier__kernel': ('linear', 'rbf')\n                  }\nclf = GridSearchCV(pipeline, hyperparameters, cv=3)",
      "execution_count": 110,
      "outputs": []
    },
    {
      "metadata": {
        "trusted": true
      },
      "cell_type": "code",
      "source": "# Fit and tune model\nclf.fit(x_train, y_train)",
      "execution_count": 111,
      "outputs": [
        {
          "output_type": "execute_result",
          "execution_count": 111,
          "data": {
            "text/plain": "GridSearchCV(cv=3, error_score='raise',\n       estimator=Pipeline(memory=None,\n     steps=[('features', FeatureUnion(n_jobs=1,\n       transformer_list=[('new_tweet_post', Pipeline(memory=None,\n     steps=[('selector', TextSelector(key='new_tweet_post')), ('tfidf', TfidfVectorizer(analyzer='word', binary=False, decode_error='strict',\n        dtype=<class 'numpy.int64'>, encoding='ut...,\n  max_iter=-1, probability=False, random_state=None, shrinking=True,\n  tol=0.001, verbose=False))]),\n       fit_params=None, iid=True, n_jobs=1,\n       param_grid={'features__new_tweet_post__tfidf__ngram_range': [(1, 1), (1, 2)], 'classifier__kernel': ('linear', 'rbf'), 'features__new_tweet_post__tfidf__norm': ('l1', 'l2'), 'classifier__C': (0.5, 1, 10), 'features__new_tweet_post__tfidf__max_df': [0.5, 0.75], 'classifier__gamma': (0.01, 0.001)},\n       pre_dispatch='2*n_jobs', refit=True, return_train_score='warn',\n       scoring=None, verbose=0)"
          },
          "metadata": {}
        }
      ]
    },
    {
      "metadata": {
        "trusted": true
      },
      "cell_type": "code",
      "source": "preds_2 = clf.predict(x_test)\nnp.mean(preds == y_test)",
      "execution_count": 113,
      "outputs": [
        {
          "output_type": "execute_result",
          "execution_count": 113,
          "data": {
            "text/plain": "0.8176352705410822"
          },
          "metadata": {}
        }
      ]
    },
    {
      "metadata": {
        "trusted": true,
        "scrolled": true
      },
      "cell_type": "code",
      "source": "clf.best_params_",
      "execution_count": 112,
      "outputs": [
        {
          "output_type": "execute_result",
          "execution_count": 112,
          "data": {
            "text/plain": "{'classifier__C': 1,\n 'classifier__gamma': 0.01,\n 'classifier__kernel': 'linear',\n 'features__new_tweet_post__tfidf__max_df': 0.5,\n 'features__new_tweet_post__tfidf__ngram_range': (1, 1),\n 'features__new_tweet_post__tfidf__norm': 'l2'}"
          },
          "metadata": {}
        }
      ]
    },
    {
      "metadata": {},
      "cell_type": "markdown",
      "source": "# testing the model on another set of files"
    },
    {
      "metadata": {
        "trusted": true
      },
      "cell_type": "code",
      "source": "pos_val_df2 = pos_df[1100:]\nneu_val_df2 = neu_df[1100:]",
      "execution_count": 6,
      "outputs": []
    },
    {
      "metadata": {
        "trusted": true
      },
      "cell_type": "code",
      "source": "df_2 = neu_val_df2.append(pos_val_df2, ignore_index= True)",
      "execution_count": 8,
      "outputs": []
    },
    {
      "metadata": {
        "trusted": true
      },
      "cell_type": "code",
      "source": "len(df_2)",
      "execution_count": 10,
      "outputs": [
        {
          "output_type": "execute_result",
          "execution_count": 10,
          "data": {
            "text/plain": "2863"
          },
          "metadata": {}
        }
      ]
    },
    {
      "metadata": {
        "trusted": true
      },
      "cell_type": "code",
      "source": "new_tweet_post = []\nfor article, tpost in zip(df_2.article_name, df_2.tweet_post):\n    new_post = fuzzy_place_3(article, \"stitlee\", tpost)\n    new_tweet_post.append(new_post)",
      "execution_count": 42,
      "outputs": []
    },
    {
      "metadata": {
        "trusted": true
      },
      "cell_type": "code",
      "source": "df_2['Label'] = df_2['Label'].replace(['Neu'], 'Neutral')\ndf_2['Label'] = df_2['Label'].replace(['Neg','N'], 'Negative')\ndf_2['Label'] = df_2['Label'].replace(['Pos'], 'Positive')",
      "execution_count": 43,
      "outputs": []
    },
    {
      "metadata": {
        "trusted": true
      },
      "cell_type": "code",
      "source": "df_2['Label'].value_counts()",
      "execution_count": 44,
      "outputs": [
        {
          "output_type": "execute_result",
          "execution_count": 44,
          "data": {
            "text/plain": "Neutral     2292\nPositive     571\nName: Label, dtype: int64"
          },
          "metadata": {}
        }
      ]
    },
    {
      "metadata": {
        "trusted": true
      },
      "cell_type": "code",
      "source": "df_2['new_tweet_post'] = new_tweet_post",
      "execution_count": 53,
      "outputs": []
    },
    {
      "metadata": {
        "trusted": true
      },
      "cell_type": "code",
      "source": "df_2 = additional_features(df_2)",
      "execution_count": 54,
      "outputs": []
    },
    {
      "metadata": {
        "trusted": true
      },
      "cell_type": "code",
      "source": "df_2.columns",
      "execution_count": 55,
      "outputs": [
        {
          "output_type": "execute_result",
          "execution_count": 55,
          "data": {
            "text/plain": "Index(['citation', 'altid', 'count', 'profile_link', 'profile_name',\n       'display_name', 'tweet_post', 'post_time', 'post_URL', 'article_name',\n       'Language', 'sentiment', 'subjectivity', 'polarity', 'Label',\n       'new_tweet_post', 'number_of_uppercase', 'number_of_hashtags',\n       'number_of_negation', 'neg_count', 'pos_count', 'overall_score',\n       'Exclamation_count', 'question_mark_count', 'user_mention_count',\n       'pos_emo_count', 'neg_emo_count', 'last_word_polarity',\n       'pos_POStag_count', 'neg_POStag_count'],\n      dtype='object')"
          },
          "metadata": {}
        }
      ]
    },
    {
      "metadata": {
        "trusted": true
      },
      "cell_type": "code",
      "source": "",
      "execution_count": null,
      "outputs": []
    },
    {
      "metadata": {
        "trusted": true
      },
      "cell_type": "code",
      "source": "",
      "execution_count": null,
      "outputs": []
    },
    {
      "metadata": {
        "trusted": true
      },
      "cell_type": "code",
      "source": "",
      "execution_count": null,
      "outputs": []
    },
    {
      "metadata": {
        "trusted": true
      },
      "cell_type": "code",
      "source": "",
      "execution_count": null,
      "outputs": []
    },
    {
      "metadata": {
        "trusted": true
      },
      "cell_type": "code",
      "source": "",
      "execution_count": null,
      "outputs": []
    },
    {
      "metadata": {
        "trusted": false
      },
      "cell_type": "code",
      "source": "df_train.columns\n  ",
      "execution_count": 400,
      "outputs": [
        {
          "data": {
            "text/plain": "Index(['citation', 'altid', 'count', 'profile_link', 'profile_name',\n       'display_name', 'tweet_post', 'post_time', 'post_URL', 'article_name',\n       'Language', 'sentiment', 'subjectivity', 'polarity', 'Label',\n       'new_tweet_post', 'number_of_uppercase', 'number_of_urls',\n       'number_of_hashtags', 'number_of_negation', 'neg_count', 'pos_count',\n       'overall_score', 'Exclamation_count', 'question_mark_count',\n       'user_mention_count', 'pos_emo_count', 'neg_emo_count',\n       'last_word_polarity', 'pos_POStag_count', 'neg_POStag_count'],\n      dtype='object')"
          },
          "execution_count": 400,
          "metadata": {},
          "output_type": "execute_result"
        }
      ]
    },
    {
      "metadata": {
        "trusted": false
      },
      "cell_type": "code",
      "source": "import pandas as pd\nfrom sklearn import svm\nfrom sklearn.pipeline import Pipeline\nfrom sklearn.model_selection import train_test_split, GridSearchCV\nfrom sklearn.metrics import precision_score, recall_score, accuracy_score, f1_score\n\npipeline = Pipeline([\n    ('vect', mapper),\n    ('clf', svm.SVC())\n])\nparameters = {'clf__kernel':['']\n    \"clf__C\": [0.1, 1, 10, 100],\n    'clf__gamma': [1e-2, 1e-3, 1e-4]\n}",
      "execution_count": 51,
      "outputs": []
    },
    {
      "metadata": {
        "trusted": false
      },
      "cell_type": "code",
      "source": "if __name__ == \"__main__\":\n    grid_search = GridSearchCV(pipeline, parameters, n_jobs=-1, verbose=1, scoring='accuracy', cv=3)\n    grid_search.fit(x_train, y_train)\n    print('Best score: %0.3f' % grid_search.best_score_)\n    print('Best parameters set:')\n    best_parameters = grid_search.best_estimator_.get_params()\n    #for param_name in sorted(parameters.keys()):\n     #   print('\\t%s: %r' % (param_name, best_parameters[param_name]))\n    predictions = grid_search.predict(x_test)\n    print('Accuracy:', accuracy_score(y_test, predictions))",
      "execution_count": 52,
      "outputs": [
        {
          "name": "stdout",
          "output_type": "stream",
          "text": "Fitting 3 folds for each of 15 candidates, totalling 45 fits\n"
        },
        {
          "ename": "JoblibIndexError",
          "evalue": "JoblibIndexError\n___________________________________________________________________________\nMultiprocessing exception:\n...........................................................................\nC:\\Users\\Sarath\\Anaconda3\\lib\\runpy.py in _run_module_as_main(mod_name='ipykernel_launcher', alter_argv=1)\n    188         sys.exit(msg)\n    189     main_globals = sys.modules[\"__main__\"].__dict__\n    190     if alter_argv:\n    191         sys.argv[0] = mod_spec.origin\n    192     return _run_code(code, main_globals, None,\n--> 193                      \"__main__\", mod_spec)\n        mod_spec = ModuleSpec(name='ipykernel_launcher', loader=<_f...nda3\\\\lib\\\\site-packages\\\\ipykernel_launcher.py')\n    194 \n    195 def run_module(mod_name, init_globals=None,\n    196                run_name=None, alter_sys=False):\n    197     \"\"\"Execute a module's code without importing it\n\n...........................................................................\nC:\\Users\\Sarath\\Anaconda3\\lib\\runpy.py in _run_code(code=<code object <module> at 0x01F55440, file \"C:\\Us...lib\\site-packages\\ipykernel_launcher.py\", line 5>, run_globals={'__annotations__': {}, '__builtins__': <module 'builtins' (built-in)>, '__cached__': r'C:\\Users\\Sarath\\Anaconda3\\lib\\site-packages\\__pycache__\\ipykernel_launcher.cpython-36.pyc', '__doc__': 'Entry point for launching an IPython kernel.\\n\\nTh...orts until\\nafter removing the cwd from sys.path.\\n', '__file__': r'C:\\Users\\Sarath\\Anaconda3\\lib\\site-packages\\ipykernel_launcher.py', '__loader__': <_frozen_importlib_external.SourceFileLoader object>, '__name__': '__main__', '__package__': '', '__spec__': ModuleSpec(name='ipykernel_launcher', loader=<_f...nda3\\\\lib\\\\site-packages\\\\ipykernel_launcher.py'), 'app': <module 'ipykernel.kernelapp' from 'C:\\\\Users\\\\S...a3\\\\lib\\\\site-packages\\\\ipykernel\\\\kernelapp.py'>, ...}, init_globals=None, mod_name='__main__', mod_spec=ModuleSpec(name='ipykernel_launcher', loader=<_f...nda3\\\\lib\\\\site-packages\\\\ipykernel_launcher.py'), pkg_name='', script_name=None)\n     80                        __cached__ = cached,\n     81                        __doc__ = None,\n     82                        __loader__ = loader,\n     83                        __package__ = pkg_name,\n     84                        __spec__ = mod_spec)\n---> 85     exec(code, run_globals)\n        code = <code object <module> at 0x01F55440, file \"C:\\Us...lib\\site-packages\\ipykernel_launcher.py\", line 5>\n        run_globals = {'__annotations__': {}, '__builtins__': <module 'builtins' (built-in)>, '__cached__': r'C:\\Users\\Sarath\\Anaconda3\\lib\\site-packages\\__pycache__\\ipykernel_launcher.cpython-36.pyc', '__doc__': 'Entry point for launching an IPython kernel.\\n\\nTh...orts until\\nafter removing the cwd from sys.path.\\n', '__file__': r'C:\\Users\\Sarath\\Anaconda3\\lib\\site-packages\\ipykernel_launcher.py', '__loader__': <_frozen_importlib_external.SourceFileLoader object>, '__name__': '__main__', '__package__': '', '__spec__': ModuleSpec(name='ipykernel_launcher', loader=<_f...nda3\\\\lib\\\\site-packages\\\\ipykernel_launcher.py'), 'app': <module 'ipykernel.kernelapp' from 'C:\\\\Users\\\\S...a3\\\\lib\\\\site-packages\\\\ipykernel\\\\kernelapp.py'>, ...}\n     86     return run_globals\n     87 \n     88 def _run_module_code(code, init_globals=None,\n     89                     mod_name=None, mod_spec=None,\n\n...........................................................................\nC:\\Users\\Sarath\\Anaconda3\\lib\\site-packages\\ipykernel_launcher.py in <module>()\n     11     # This is added back by InteractiveShellApp.init_path()\n     12     if sys.path[0] == '':\n     13         del sys.path[0]\n     14 \n     15     from ipykernel import kernelapp as app\n---> 16     app.launch_new_instance()\n\n...........................................................................\nC:\\Users\\Sarath\\Anaconda3\\lib\\site-packages\\traitlets\\config\\application.py in launch_instance(cls=<class 'ipykernel.kernelapp.IPKernelApp'>, argv=None, **kwargs={})\n    653 \n    654         If a global instance already exists, this reinitializes and starts it\n    655         \"\"\"\n    656         app = cls.instance(**kwargs)\n    657         app.initialize(argv)\n--> 658         app.start()\n        app.start = <bound method IPKernelApp.start of <ipykernel.kernelapp.IPKernelApp object>>\n    659 \n    660 #-----------------------------------------------------------------------------\n    661 # utility functions, for convenience\n    662 #-----------------------------------------------------------------------------\n\n...........................................................................\nC:\\Users\\Sarath\\Anaconda3\\lib\\site-packages\\ipykernel\\kernelapp.py in start(self=<ipykernel.kernelapp.IPKernelApp object>)\n    492         if self.poller is not None:\n    493             self.poller.start()\n    494         self.kernel.start()\n    495         self.io_loop = ioloop.IOLoop.current()\n    496         try:\n--> 497             self.io_loop.start()\n        self.io_loop.start = <bound method BaseAsyncIOLoop.start of <tornado.platform.asyncio.AsyncIOMainLoop object>>\n    498         except KeyboardInterrupt:\n    499             pass\n    500 \n    501 launch_new_instance = IPKernelApp.launch_instance\n\n...........................................................................\nC:\\Users\\Sarath\\Anaconda3\\lib\\site-packages\\tornado\\platform\\asyncio.py in start(self=<tornado.platform.asyncio.AsyncIOMainLoop object>)\n    127         except (RuntimeError, AssertionError):\n    128             old_loop = None\n    129         try:\n    130             self._setup_logging()\n    131             asyncio.set_event_loop(self.asyncio_loop)\n--> 132             self.asyncio_loop.run_forever()\n        self.asyncio_loop.run_forever = <bound method BaseEventLoop.run_forever of <_Win...EventLoop running=True closed=False debug=False>>\n    133         finally:\n    134             asyncio.set_event_loop(old_loop)\n    135 \n    136     def stop(self):\n\n...........................................................................\nC:\\Users\\Sarath\\Anaconda3\\lib\\asyncio\\base_events.py in run_forever(self=<_WindowsSelectorEventLoop running=True closed=False debug=False>)\n    417             sys.set_asyncgen_hooks(firstiter=self._asyncgen_firstiter_hook,\n    418                                    finalizer=self._asyncgen_finalizer_hook)\n    419         try:\n    420             events._set_running_loop(self)\n    421             while True:\n--> 422                 self._run_once()\n        self._run_once = <bound method BaseEventLoop._run_once of <_Windo...EventLoop running=True closed=False debug=False>>\n    423                 if self._stopping:\n    424                     break\n    425         finally:\n    426             self._stopping = False\n\n...........................................................................\nC:\\Users\\Sarath\\Anaconda3\\lib\\asyncio\\base_events.py in _run_once(self=<_WindowsSelectorEventLoop running=True closed=False debug=False>)\n   1427                         logger.warning('Executing %s took %.3f seconds',\n   1428                                        _format_handle(handle), dt)\n   1429                 finally:\n   1430                     self._current_handle = None\n   1431             else:\n-> 1432                 handle._run()\n        handle._run = <bound method Handle._run of <Handle BaseAsyncIOLoop._handle_events(340, 1)>>\n   1433         handle = None  # Needed to break cycles when an exception occurs.\n   1434 \n   1435     def _set_coroutine_wrapper(self, enabled):\n   1436         try:\n\n...........................................................................\nC:\\Users\\Sarath\\Anaconda3\\lib\\asyncio\\events.py in _run(self=<Handle BaseAsyncIOLoop._handle_events(340, 1)>)\n    140             self._callback = None\n    141             self._args = None\n    142 \n    143     def _run(self):\n    144         try:\n--> 145             self._callback(*self._args)\n        self._callback = <bound method BaseAsyncIOLoop._handle_events of <tornado.platform.asyncio.AsyncIOMainLoop object>>\n        self._args = (340, 1)\n    146         except Exception as exc:\n    147             cb = _format_callback_source(self._callback, self._args)\n    148             msg = 'Exception in callback {}'.format(cb)\n    149             context = {\n\n...........................................................................\nC:\\Users\\Sarath\\Anaconda3\\lib\\site-packages\\tornado\\platform\\asyncio.py in _handle_events(self=<tornado.platform.asyncio.AsyncIOMainLoop object>, fd=340, events=1)\n    117             self.writers.remove(fd)\n    118         del self.handlers[fd]\n    119 \n    120     def _handle_events(self, fd, events):\n    121         fileobj, handler_func = self.handlers[fd]\n--> 122         handler_func(fileobj, events)\n        handler_func = <function wrap.<locals>.null_wrapper>\n        fileobj = <zmq.sugar.socket.Socket object>\n        events = 1\n    123 \n    124     def start(self):\n    125         try:\n    126             old_loop = asyncio.get_event_loop()\n\n...........................................................................\nC:\\Users\\Sarath\\Anaconda3\\lib\\site-packages\\tornado\\stack_context.py in null_wrapper(*args=(<zmq.sugar.socket.Socket object>, 1), **kwargs={})\n    295         # Fast path when there are no active contexts.\n    296         def null_wrapper(*args, **kwargs):\n    297             try:\n    298                 current_state = _state.contexts\n    299                 _state.contexts = cap_contexts[0]\n--> 300                 return fn(*args, **kwargs)\n        args = (<zmq.sugar.socket.Socket object>, 1)\n        kwargs = {}\n    301             finally:\n    302                 _state.contexts = current_state\n    303         null_wrapper._wrapped = True\n    304         return null_wrapper\n\n...........................................................................\nC:\\Users\\Sarath\\Anaconda3\\lib\\site-packages\\zmq\\eventloop\\zmqstream.py in _handle_events(self=<zmq.eventloop.zmqstream.ZMQStream object>, fd=<zmq.sugar.socket.Socket object>, events=1)\n    445             return\n    446         zmq_events = self.socket.EVENTS\n    447         try:\n    448             # dispatch events:\n    449             if zmq_events & zmq.POLLIN and self.receiving():\n--> 450                 self._handle_recv()\n        self._handle_recv = <bound method ZMQStream._handle_recv of <zmq.eventloop.zmqstream.ZMQStream object>>\n    451                 if not self.socket:\n    452                     return\n    453             if zmq_events & zmq.POLLOUT and self.sending():\n    454                 self._handle_send()\n\n...........................................................................\nC:\\Users\\Sarath\\Anaconda3\\lib\\site-packages\\zmq\\eventloop\\zmqstream.py in _handle_recv(self=<zmq.eventloop.zmqstream.ZMQStream object>)\n    475             else:\n    476                 raise\n    477         else:\n    478             if self._recv_callback:\n    479                 callback = self._recv_callback\n--> 480                 self._run_callback(callback, msg)\n        self._run_callback = <bound method ZMQStream._run_callback of <zmq.eventloop.zmqstream.ZMQStream object>>\n        callback = <function wrap.<locals>.null_wrapper>\n        msg = [<zmq.sugar.frame.Frame object>, <zmq.sugar.frame.Frame object>, <zmq.sugar.frame.Frame object>, <zmq.sugar.frame.Frame object>, <zmq.sugar.frame.Frame object>, <zmq.sugar.frame.Frame object>, <zmq.sugar.frame.Frame object>]\n    481         \n    482 \n    483     def _handle_send(self):\n    484         \"\"\"Handle a send event.\"\"\"\n\n...........................................................................\nC:\\Users\\Sarath\\Anaconda3\\lib\\site-packages\\zmq\\eventloop\\zmqstream.py in _run_callback(self=<zmq.eventloop.zmqstream.ZMQStream object>, callback=<function wrap.<locals>.null_wrapper>, *args=([<zmq.sugar.frame.Frame object>, <zmq.sugar.frame.Frame object>, <zmq.sugar.frame.Frame object>, <zmq.sugar.frame.Frame object>, <zmq.sugar.frame.Frame object>, <zmq.sugar.frame.Frame object>, <zmq.sugar.frame.Frame object>],), **kwargs={})\n    427         close our socket.\"\"\"\n    428         try:\n    429             # Use a NullContext to ensure that all StackContexts are run\n    430             # inside our blanket exception handler rather than outside.\n    431             with stack_context.NullContext():\n--> 432                 callback(*args, **kwargs)\n        callback = <function wrap.<locals>.null_wrapper>\n        args = ([<zmq.sugar.frame.Frame object>, <zmq.sugar.frame.Frame object>, <zmq.sugar.frame.Frame object>, <zmq.sugar.frame.Frame object>, <zmq.sugar.frame.Frame object>, <zmq.sugar.frame.Frame object>, <zmq.sugar.frame.Frame object>],)\n        kwargs = {}\n    433         except:\n    434             gen_log.error(\"Uncaught exception in ZMQStream callback\",\n    435                           exc_info=True)\n    436             # Re-raise the exception so that IOLoop.handle_callback_exception\n\n...........................................................................\nC:\\Users\\Sarath\\Anaconda3\\lib\\site-packages\\tornado\\stack_context.py in null_wrapper(*args=([<zmq.sugar.frame.Frame object>, <zmq.sugar.frame.Frame object>, <zmq.sugar.frame.Frame object>, <zmq.sugar.frame.Frame object>, <zmq.sugar.frame.Frame object>, <zmq.sugar.frame.Frame object>, <zmq.sugar.frame.Frame object>],), **kwargs={})\n    295         # Fast path when there are no active contexts.\n    296         def null_wrapper(*args, **kwargs):\n    297             try:\n    298                 current_state = _state.contexts\n    299                 _state.contexts = cap_contexts[0]\n--> 300                 return fn(*args, **kwargs)\n        args = ([<zmq.sugar.frame.Frame object>, <zmq.sugar.frame.Frame object>, <zmq.sugar.frame.Frame object>, <zmq.sugar.frame.Frame object>, <zmq.sugar.frame.Frame object>, <zmq.sugar.frame.Frame object>, <zmq.sugar.frame.Frame object>],)\n        kwargs = {}\n    301             finally:\n    302                 _state.contexts = current_state\n    303         null_wrapper._wrapped = True\n    304         return null_wrapper\n\n...........................................................................\nC:\\Users\\Sarath\\Anaconda3\\lib\\site-packages\\ipykernel\\kernelbase.py in dispatcher(msg=[<zmq.sugar.frame.Frame object>, <zmq.sugar.frame.Frame object>, <zmq.sugar.frame.Frame object>, <zmq.sugar.frame.Frame object>, <zmq.sugar.frame.Frame object>, <zmq.sugar.frame.Frame object>, <zmq.sugar.frame.Frame object>])\n    278         if self.control_stream:\n    279             self.control_stream.on_recv(self.dispatch_control, copy=False)\n    280 \n    281         def make_dispatcher(stream):\n    282             def dispatcher(msg):\n--> 283                 return self.dispatch_shell(stream, msg)\n        msg = [<zmq.sugar.frame.Frame object>, <zmq.sugar.frame.Frame object>, <zmq.sugar.frame.Frame object>, <zmq.sugar.frame.Frame object>, <zmq.sugar.frame.Frame object>, <zmq.sugar.frame.Frame object>, <zmq.sugar.frame.Frame object>]\n    284             return dispatcher\n    285 \n    286         for s in self.shell_streams:\n    287             s.on_recv(make_dispatcher(s), copy=False)\n\n...........................................................................\nC:\\Users\\Sarath\\Anaconda3\\lib\\site-packages\\ipykernel\\kernelbase.py in dispatch_shell(self=<ipykernel.ipkernel.IPythonKernel object>, stream=<zmq.eventloop.zmqstream.ZMQStream object>, msg={'buffers': [], 'content': {'allow_stdin': True, 'code': 'if __name__ == \"__main__\":\\n    grid_search = Gri...\\'Accuracy:\\', accuracy_score(y_test, predictions))', 'silent': False, 'stop_on_error': True, 'store_history': True, 'user_expressions': {}}, 'header': {'date': datetime.datetime(2019, 3, 28, 8, 36, 24, 323722, tzinfo=tzutc()), 'msg_id': '54d32f74d0e04b4c8f6a1f6ab4feeff8', 'msg_type': 'execute_request', 'session': '9a89fd109ead475682fddc7b9f263ebf', 'username': 'username', 'version': '5.2'}, 'metadata': {}, 'msg_id': '54d32f74d0e04b4c8f6a1f6ab4feeff8', 'msg_type': 'execute_request', 'parent_header': {}})\n    228             self.log.warning(\"Unknown message type: %r\", msg_type)\n    229         else:\n    230             self.log.debug(\"%s: %s\", msg_type, msg)\n    231             self.pre_handler_hook()\n    232             try:\n--> 233                 handler(stream, idents, msg)\n        handler = <bound method Kernel.execute_request of <ipykernel.ipkernel.IPythonKernel object>>\n        stream = <zmq.eventloop.zmqstream.ZMQStream object>\n        idents = [b'9a89fd109ead475682fddc7b9f263ebf']\n        msg = {'buffers': [], 'content': {'allow_stdin': True, 'code': 'if __name__ == \"__main__\":\\n    grid_search = Gri...\\'Accuracy:\\', accuracy_score(y_test, predictions))', 'silent': False, 'stop_on_error': True, 'store_history': True, 'user_expressions': {}}, 'header': {'date': datetime.datetime(2019, 3, 28, 8, 36, 24, 323722, tzinfo=tzutc()), 'msg_id': '54d32f74d0e04b4c8f6a1f6ab4feeff8', 'msg_type': 'execute_request', 'session': '9a89fd109ead475682fddc7b9f263ebf', 'username': 'username', 'version': '5.2'}, 'metadata': {}, 'msg_id': '54d32f74d0e04b4c8f6a1f6ab4feeff8', 'msg_type': 'execute_request', 'parent_header': {}}\n    234             except Exception:\n    235                 self.log.error(\"Exception in message handler:\", exc_info=True)\n    236             finally:\n    237                 self.post_handler_hook()\n\n...........................................................................\nC:\\Users\\Sarath\\Anaconda3\\lib\\site-packages\\ipykernel\\kernelbase.py in execute_request(self=<ipykernel.ipkernel.IPythonKernel object>, stream=<zmq.eventloop.zmqstream.ZMQStream object>, ident=[b'9a89fd109ead475682fddc7b9f263ebf'], parent={'buffers': [], 'content': {'allow_stdin': True, 'code': 'if __name__ == \"__main__\":\\n    grid_search = Gri...\\'Accuracy:\\', accuracy_score(y_test, predictions))', 'silent': False, 'stop_on_error': True, 'store_history': True, 'user_expressions': {}}, 'header': {'date': datetime.datetime(2019, 3, 28, 8, 36, 24, 323722, tzinfo=tzutc()), 'msg_id': '54d32f74d0e04b4c8f6a1f6ab4feeff8', 'msg_type': 'execute_request', 'session': '9a89fd109ead475682fddc7b9f263ebf', 'username': 'username', 'version': '5.2'}, 'metadata': {}, 'msg_id': '54d32f74d0e04b4c8f6a1f6ab4feeff8', 'msg_type': 'execute_request', 'parent_header': {}})\n    394         if not silent:\n    395             self.execution_count += 1\n    396             self._publish_execute_input(code, parent, self.execution_count)\n    397 \n    398         reply_content = self.do_execute(code, silent, store_history,\n--> 399                                         user_expressions, allow_stdin)\n        user_expressions = {}\n        allow_stdin = True\n    400 \n    401         # Flush output before sending the reply.\n    402         sys.stdout.flush()\n    403         sys.stderr.flush()\n\n...........................................................................\nC:\\Users\\Sarath\\Anaconda3\\lib\\site-packages\\ipykernel\\ipkernel.py in do_execute(self=<ipykernel.ipkernel.IPythonKernel object>, code='if __name__ == \"__main__\":\\n    grid_search = Gri...\\'Accuracy:\\', accuracy_score(y_test, predictions))', silent=False, store_history=True, user_expressions={}, allow_stdin=True)\n    203 \n    204         self._forward_input(allow_stdin)\n    205 \n    206         reply_content = {}\n    207         try:\n--> 208             res = shell.run_cell(code, store_history=store_history, silent=silent)\n        res = undefined\n        shell.run_cell = <bound method ZMQInteractiveShell.run_cell of <ipykernel.zmqshell.ZMQInteractiveShell object>>\n        code = 'if __name__ == \"__main__\":\\n    grid_search = Gri...\\'Accuracy:\\', accuracy_score(y_test, predictions))'\n        store_history = True\n        silent = False\n    209         finally:\n    210             self._restore_input()\n    211 \n    212         if res.error_before_exec is not None:\n\n...........................................................................\nC:\\Users\\Sarath\\Anaconda3\\lib\\site-packages\\ipykernel\\zmqshell.py in run_cell(self=<ipykernel.zmqshell.ZMQInteractiveShell object>, *args=('if __name__ == \"__main__\":\\n    grid_search = Gri...\\'Accuracy:\\', accuracy_score(y_test, predictions))',), **kwargs={'silent': False, 'store_history': True})\n    532             )\n    533         self.payload_manager.write_payload(payload)\n    534 \n    535     def run_cell(self, *args, **kwargs):\n    536         self._last_traceback = None\n--> 537         return super(ZMQInteractiveShell, self).run_cell(*args, **kwargs)\n        self.run_cell = <bound method ZMQInteractiveShell.run_cell of <ipykernel.zmqshell.ZMQInteractiveShell object>>\n        args = ('if __name__ == \"__main__\":\\n    grid_search = Gri...\\'Accuracy:\\', accuracy_score(y_test, predictions))',)\n        kwargs = {'silent': False, 'store_history': True}\n    538 \n    539     def _showtraceback(self, etype, evalue, stb):\n    540         # try to preserve ordering of tracebacks and print statements\n    541         sys.stdout.flush()\n\n...........................................................................\nC:\\Users\\Sarath\\Anaconda3\\lib\\site-packages\\IPython\\core\\interactiveshell.py in run_cell(self=<ipykernel.zmqshell.ZMQInteractiveShell object>, raw_cell='if __name__ == \"__main__\":\\n    grid_search = Gri...\\'Accuracy:\\', accuracy_score(y_test, predictions))', store_history=True, silent=False, shell_futures=True)\n   2657         -------\n   2658         result : :class:`ExecutionResult`\n   2659         \"\"\"\n   2660         try:\n   2661             result = self._run_cell(\n-> 2662                 raw_cell, store_history, silent, shell_futures)\n        raw_cell = 'if __name__ == \"__main__\":\\n    grid_search = Gri...\\'Accuracy:\\', accuracy_score(y_test, predictions))'\n        store_history = True\n        silent = False\n        shell_futures = True\n   2663         finally:\n   2664             self.events.trigger('post_execute')\n   2665             if not silent:\n   2666                 self.events.trigger('post_run_cell', result)\n\n...........................................................................\nC:\\Users\\Sarath\\Anaconda3\\lib\\site-packages\\IPython\\core\\interactiveshell.py in _run_cell(self=<ipykernel.zmqshell.ZMQInteractiveShell object>, raw_cell='if __name__ == \"__main__\":\\n    grid_search = Gri...\\'Accuracy:\\', accuracy_score(y_test, predictions))', store_history=True, silent=False, shell_futures=True)\n   2780                 self.displayhook.exec_result = result\n   2781 \n   2782                 # Execute the user code\n   2783                 interactivity = 'none' if silent else self.ast_node_interactivity\n   2784                 has_raised = self.run_ast_nodes(code_ast.body, cell_name,\n-> 2785                    interactivity=interactivity, compiler=compiler, result=result)\n        interactivity = 'last_expr'\n        compiler = <IPython.core.compilerop.CachingCompiler object>\n   2786                 \n   2787                 self.last_execution_succeeded = not has_raised\n   2788                 self.last_execution_result = result\n   2789 \n\n...........................................................................\nC:\\Users\\Sarath\\Anaconda3\\lib\\site-packages\\IPython\\core\\interactiveshell.py in run_ast_nodes(self=<ipykernel.zmqshell.ZMQInteractiveShell object>, nodelist=[<_ast.If object>], cell_name='<ipython-input-52-d9eff0b324cd>', interactivity='none', compiler=<IPython.core.compilerop.CachingCompiler object>, result=<ExecutionResult object at 10b952b0, execution_c...rue silent=False shell_futures=True> result=None>)\n   2896             raise ValueError(\"Interactivity was %r\" % interactivity)\n   2897         try:\n   2898             for i, node in enumerate(to_run_exec):\n   2899                 mod = ast.Module([node])\n   2900                 code = compiler(mod, cell_name, \"exec\")\n-> 2901                 if self.run_code(code, result):\n        self.run_code = <bound method InteractiveShell.run_code of <ipykernel.zmqshell.ZMQInteractiveShell object>>\n        code = <code object <module> at 0x10C906A8, file \"<ipython-input-52-d9eff0b324cd>\", line 1>\n        result = <ExecutionResult object at 10b952b0, execution_c...rue silent=False shell_futures=True> result=None>\n   2902                     return True\n   2903 \n   2904             for i, node in enumerate(to_run_interactive):\n   2905                 mod = ast.Interactive([node])\n\n...........................................................................\nC:\\Users\\Sarath\\Anaconda3\\lib\\site-packages\\IPython\\core\\interactiveshell.py in run_code(self=<ipykernel.zmqshell.ZMQInteractiveShell object>, code_obj=<code object <module> at 0x10C906A8, file \"<ipython-input-52-d9eff0b324cd>\", line 1>, result=<ExecutionResult object at 10b952b0, execution_c...rue silent=False shell_futures=True> result=None>)\n   2956         outflag = True  # happens in more places, so it's easier as default\n   2957         try:\n   2958             try:\n   2959                 self.hooks.pre_run_code_hook()\n   2960                 #rprint('Running code', repr(code_obj)) # dbg\n-> 2961                 exec(code_obj, self.user_global_ns, self.user_ns)\n        code_obj = <code object <module> at 0x10C906A8, file \"<ipython-input-52-d9eff0b324cd>\", line 1>\n        self.user_global_ns = {'CountVectorizer': <class 'sklearn.feature_extraction.text.CountVectorizer'>, 'Counter': <class 'collections.Counter'>, 'DataFrameMapper': <class 'sklearn_pandas.dataframe_mapper.DataFrameMapper'>, 'GridSearchCV': <class 'sklearn.model_selection._search.GridSearchCV'>, 'In': ['', \"#removing the altmeric word in article name\\ndef ...e_name = ' '.join(a)\\n    return article_name\\n    \", 'from fuzzywuzzy import fuzz\\n#replacing the tile ...           print(text)\\n    return text\\n    \\n     ', 'from fuzzywuzzy import fuzz\\nimport warnings\\nwarn...           print(text)\\n    return text\\n    \\n     ', 'def fuzzy_place_3(str_a, str_b, orig_str):\\n    t...   \\n                    \\n    return text\\n        ', 'import re\\nfrom fuzzywuzzy import fuzz', \"#negation count function\\nimport nltk\\nimport nltk...en(re.findall('\\\\w+_NEG', tweet))\\n    return count\", '#number of negative words in a tweet\\ndef neg_wor...       \\n            except: pass\\n    return count', '#no of positive words in a tweet\\ndef pos_word_co...       \\n            except: pass\\n    return count', '#overall score of the tweet\\ndef overall_score(tw...   except: \\n                pass\\n    return score', '#number of adjectives, adverbs and verbs in a tw...cept: pass        \\n    return count              ', '# creating the function to calculate the emotico...   #print(neg_emo_count)\\n    return neg_emo_count', '#count occurences of a ! and ?\\ndef count_occuren...         counter += 1\\n\\n            return counter', '#punctuation count\\nimport string\\ndef punc_count(...t(string.punctuation))\\n    return punct\\n    \\n    ', '# count number of user name mentions\\ndef user_me...weet)\\n    count= len(user_names)\\n    return count', \"import pandas as pd\\nxls = pd.ExcelFile('/Users/S...el(xls, 'pos')\\nneu_df = pd.read_excel(xls, 'neu')\", 'print(len(neg_df))\\nprint(len(pos_df))\\nprint(len(neu_df))', 'neg_df.reset_index(drop=True, inplace= True)\\npos...rue)\\nneu_df.reset_index(drop=True, inplace= True)', 'neg_train_df = neg_df[:800]\\nneg_val_df = neg_df[...n_df = neu_df[:900]\\nneu_val_df = neu_df[900:1100]', 'train_df = neg_train_df.append(pos_train_df, ign...train_df.append(neu_train_df, ignore_index= True)', ...], 'MinMaxScaler': <class 'sklearn.preprocessing.data.MinMaxScaler'>, 'Out': {20: 2600, 22: 449, 26: 3049, 29: Positive    1100\nNeutral     1100\nNegative     849\nName: Label, dtype: int64, 39: count    3049.000000\nmean        9.824205\nstd   ...2.000000\nName: user_mention_count, dtype: float64, 42: 2600}, 'Path': <class 'pathlib.Path'>, 'Pipeline': <class 'sklearn.pipeline.Pipeline'>, 'TfidfVectorizer': <class 'sklearn.feature_extraction.text.TfidfVectorizer'>, ...}\n        self.user_ns = {'CountVectorizer': <class 'sklearn.feature_extraction.text.CountVectorizer'>, 'Counter': <class 'collections.Counter'>, 'DataFrameMapper': <class 'sklearn_pandas.dataframe_mapper.DataFrameMapper'>, 'GridSearchCV': <class 'sklearn.model_selection._search.GridSearchCV'>, 'In': ['', \"#removing the altmeric word in article name\\ndef ...e_name = ' '.join(a)\\n    return article_name\\n    \", 'from fuzzywuzzy import fuzz\\n#replacing the tile ...           print(text)\\n    return text\\n    \\n     ', 'from fuzzywuzzy import fuzz\\nimport warnings\\nwarn...           print(text)\\n    return text\\n    \\n     ', 'def fuzzy_place_3(str_a, str_b, orig_str):\\n    t...   \\n                    \\n    return text\\n        ', 'import re\\nfrom fuzzywuzzy import fuzz', \"#negation count function\\nimport nltk\\nimport nltk...en(re.findall('\\\\w+_NEG', tweet))\\n    return count\", '#number of negative words in a tweet\\ndef neg_wor...       \\n            except: pass\\n    return count', '#no of positive words in a tweet\\ndef pos_word_co...       \\n            except: pass\\n    return count', '#overall score of the tweet\\ndef overall_score(tw...   except: \\n                pass\\n    return score', '#number of adjectives, adverbs and verbs in a tw...cept: pass        \\n    return count              ', '# creating the function to calculate the emotico...   #print(neg_emo_count)\\n    return neg_emo_count', '#count occurences of a ! and ?\\ndef count_occuren...         counter += 1\\n\\n            return counter', '#punctuation count\\nimport string\\ndef punc_count(...t(string.punctuation))\\n    return punct\\n    \\n    ', '# count number of user name mentions\\ndef user_me...weet)\\n    count= len(user_names)\\n    return count', \"import pandas as pd\\nxls = pd.ExcelFile('/Users/S...el(xls, 'pos')\\nneu_df = pd.read_excel(xls, 'neu')\", 'print(len(neg_df))\\nprint(len(pos_df))\\nprint(len(neu_df))', 'neg_df.reset_index(drop=True, inplace= True)\\npos...rue)\\nneu_df.reset_index(drop=True, inplace= True)', 'neg_train_df = neg_df[:800]\\nneg_val_df = neg_df[...n_df = neu_df[:900]\\nneu_val_df = neu_df[900:1100]', 'train_df = neg_train_df.append(pos_train_df, ign...train_df.append(neu_train_df, ignore_index= True)', ...], 'MinMaxScaler': <class 'sklearn.preprocessing.data.MinMaxScaler'>, 'Out': {20: 2600, 22: 449, 26: 3049, 29: Positive    1100\nNeutral     1100\nNegative     849\nName: Label, dtype: int64, 39: count    3049.000000\nmean        9.824205\nstd   ...2.000000\nName: user_mention_count, dtype: float64, 42: 2600}, 'Path': <class 'pathlib.Path'>, 'Pipeline': <class 'sklearn.pipeline.Pipeline'>, 'TfidfVectorizer': <class 'sklearn.feature_extraction.text.TfidfVectorizer'>, ...}\n   2962             finally:\n   2963                 # Reset our crash handler in place\n   2964                 sys.excepthook = old_excepthook\n   2965         except SystemExit as e:\n\n...........................................................................\nC:\\Users\\Sarath\\<ipython-input-52-d9eff0b324cd> in <module>()\n      1 if __name__ == \"__main__\":\n      2     grid_search = GridSearchCV(pipeline, parameters, n_jobs=-1, verbose=1, scoring='accuracy', cv=3)\n----> 3     grid_search.fit(x_train, y_train)\n      4     print('Best score: %0.3f' % grid_search.best_score_)\n      5     print('Best parameters set:')\n      6     best_parameters = grid_search.best_estimator_.get_params()\n      7     #for param_name in sorted(parameters.keys()):\n      8      #   print('\\t%s: %r' % (param_name, best_parameters[param_name]))\n      9     predictions = grid_search.predict(x_test)\n     10     print('Accuracy:', accuracy_score(y_test, predictions))\n\n...........................................................................\nC:\\Users\\Sarath\\Anaconda3\\lib\\site-packages\\sklearn\\model_selection\\_search.py in fit(self=GridSearchCV(cv=3, error_score='raise',\n       e...ore='warn',\n       scoring='accuracy', verbose=1), X=array([[0.        , 0.        , 0.        , ...,....., 0.        , 0.        ,\n        0.        ]]), y=array([0, 0, 0, ..., 1, 1, 1], dtype=int32), groups=None, **fit_params={})\n    634                                   return_train_score=self.return_train_score,\n    635                                   return_n_test_samples=True,\n    636                                   return_times=True, return_parameters=False,\n    637                                   error_score=self.error_score)\n    638           for parameters, (train, test) in product(candidate_params,\n--> 639                                                    cv.split(X, y, groups)))\n        cv.split = <bound method StratifiedKFold.split of Stratifie...ld(n_splits=3, random_state=None, shuffle=False)>\n        X = array([[0.        , 0.        , 0.        , ...,....., 0.        , 0.        ,\n        0.        ]])\n        y = array([0, 0, 0, ..., 1, 1, 1], dtype=int32)\n        groups = None\n    640 \n    641         # if one choose to see train score, \"out\" will contain train score info\n    642         if self.return_train_score:\n    643             (train_score_dicts, test_score_dicts, test_sample_counts, fit_time,\n\n...........................................................................\nC:\\Users\\Sarath\\Anaconda3\\lib\\site-packages\\sklearn\\externals\\joblib\\parallel.py in __call__(self=Parallel(n_jobs=-1), iterable=<generator object BaseSearchCV.fit.<locals>.<genexpr>>)\n    784             if pre_dispatch == \"all\" or n_jobs == 1:\n    785                 # The iterable was consumed all at once by the above for loop.\n    786                 # No need to wait for async callbacks to trigger to\n    787                 # consumption.\n    788                 self._iterating = False\n--> 789             self.retrieve()\n        self.retrieve = <bound method Parallel.retrieve of Parallel(n_jobs=-1)>\n    790             # Make sure that we get a last message telling us we are done\n    791             elapsed_time = time.time() - self._start_time\n    792             self._print('Done %3i out of %3i | elapsed: %s finished',\n    793                         (len(self._output), len(self._output),\n\n---------------------------------------------------------------------------\nSub-process traceback:\n---------------------------------------------------------------------------\nIndexError                                         Thu Mar 28 16:37:25 2019\nPID: 10388               Python 3.6.5: C:\\Users\\Sarath\\Anaconda3\\python.exe\n...........................................................................\nC:\\Users\\Sarath\\Anaconda3\\lib\\site-packages\\sklearn\\externals\\joblib\\parallel.py in __call__(self=<sklearn.externals.joblib.parallel.BatchedCalls object>)\n    126     def __init__(self, iterator_slice):\n    127         self.items = list(iterator_slice)\n    128         self._size = len(self.items)\n    129 \n    130     def __call__(self):\n--> 131         return [func(*args, **kwargs) for func, args, kwargs in self.items]\n        self.items = [(<function _fit_and_score>, (Pipeline(memory=None,\n     steps=[('vect', DataF...e, shrinking=True,\n  tol=0.001, verbose=False))]), memmap([[0.        , 0.        , 0.        , ......., 0.        , 0.        ,\n         0.        ]]), array([0, 0, 0, ..., 1, 1, 1]), {'score': make_scorer(accuracy_score)}, array([ 267,  268,  269, ..., 2597, 2598, 2599]), array([   0,    1,    2,    3,    4,    5,    6,... 1992, 1993, 1994, 1995, 1996, 1997, 1998, 1999]), 1, {'clf__C': 0.1, 'clf__gamma': 0.01}), {'error_score': 'raise', 'fit_params': {}, 'return_n_test_samples': True, 'return_parameters': False, 'return_times': True, 'return_train_score': 'warn'})]\n    132 \n    133     def __len__(self):\n    134         return self._size\n    135 \n\n...........................................................................\nC:\\Users\\Sarath\\Anaconda3\\lib\\site-packages\\sklearn\\externals\\joblib\\parallel.py in <listcomp>(.0=<list_iterator object>)\n    126     def __init__(self, iterator_slice):\n    127         self.items = list(iterator_slice)\n    128         self._size = len(self.items)\n    129 \n    130     def __call__(self):\n--> 131         return [func(*args, **kwargs) for func, args, kwargs in self.items]\n        func = <function _fit_and_score>\n        args = (Pipeline(memory=None,\n     steps=[('vect', DataF...e, shrinking=True,\n  tol=0.001, verbose=False))]), memmap([[0.        , 0.        , 0.        , ......., 0.        , 0.        ,\n         0.        ]]), array([0, 0, 0, ..., 1, 1, 1]), {'score': make_scorer(accuracy_score)}, array([ 267,  268,  269, ..., 2597, 2598, 2599]), array([   0,    1,    2,    3,    4,    5,    6,... 1992, 1993, 1994, 1995, 1996, 1997, 1998, 1999]), 1, {'clf__C': 0.1, 'clf__gamma': 0.01})\n        kwargs = {'error_score': 'raise', 'fit_params': {}, 'return_n_test_samples': True, 'return_parameters': False, 'return_times': True, 'return_train_score': 'warn'}\n    132 \n    133     def __len__(self):\n    134         return self._size\n    135 \n\n...........................................................................\nC:\\Users\\Sarath\\Anaconda3\\lib\\site-packages\\sklearn\\model_selection\\_validation.py in _fit_and_score(estimator=Pipeline(memory=None,\n     steps=[('vect', DataF...e, shrinking=True,\n  tol=0.001, verbose=False))]), X=memmap([[0.        , 0.        , 0.        , ......., 0.        , 0.        ,\n         0.        ]]), y=array([0, 0, 0, ..., 1, 1, 1]), scorer={'score': make_scorer(accuracy_score)}, train=array([ 267,  268,  269, ..., 2597, 2598, 2599]), test=array([   0,    1,    2,    3,    4,    5,    6,... 1992, 1993, 1994, 1995, 1996, 1997, 1998, 1999]), verbose=1, parameters={'clf__C': 0.1, 'clf__gamma': 0.01}, fit_params={}, return_train_score='warn', return_parameters=False, return_n_test_samples=True, return_times=True, error_score='raise')\n    453 \n    454     try:\n    455         if y_train is None:\n    456             estimator.fit(X_train, **fit_params)\n    457         else:\n--> 458             estimator.fit(X_train, y_train, **fit_params)\n        estimator.fit = <bound method Pipeline.fit of Pipeline(memory=No..., shrinking=True,\n  tol=0.001, verbose=False))])>\n        X_train = memmap([[0.        , 0.        , 0.        , ......., 0.        , 0.        ,\n         0.        ]])\n        y_train = array([0, 0, 0, ..., 1, 1, 1])\n        fit_params = {}\n    459 \n    460     except Exception as e:\n    461         # Note fit time as time until error\n    462         fit_time = time.time() - start_time\n\n...........................................................................\nC:\\Users\\Sarath\\Anaconda3\\lib\\site-packages\\sklearn\\pipeline.py in fit(self=Pipeline(memory=None,\n     steps=[('vect', DataF...e, shrinking=True,\n  tol=0.001, verbose=False))]), X=memmap([[0.        , 0.        , 0.        , ......., 0.        , 0.        ,\n         0.        ]]), y=array([0, 0, 0, ..., 1, 1, 1]), **fit_params={})\n    243         Returns\n    244         -------\n    245         self : Pipeline\n    246             This estimator\n    247         \"\"\"\n--> 248         Xt, fit_params = self._fit(X, y, **fit_params)\n        Xt = undefined\n        fit_params = {}\n        self._fit = <bound method Pipeline._fit of Pipeline(memory=N..., shrinking=True,\n  tol=0.001, verbose=False))])>\n        X = memmap([[0.        , 0.        , 0.        , ......., 0.        , 0.        ,\n         0.        ]])\n        y = array([0, 0, 0, ..., 1, 1, 1])\n    249         if self._final_estimator is not None:\n    250             self._final_estimator.fit(Xt, y, **fit_params)\n    251         return self\n    252 \n\n...........................................................................\nC:\\Users\\Sarath\\Anaconda3\\lib\\site-packages\\sklearn\\pipeline.py in _fit(self=Pipeline(memory=None,\n     steps=[('vect', DataF...e, shrinking=True,\n  tol=0.001, verbose=False))]), X=memmap([[0.        , 0.        , 0.        , ......., 0.        , 0.        ,\n         0.        ]]), y=array([0, 0, 0, ..., 1, 1, 1]), **fit_params={})\n    208                 else:\n    209                     cloned_transformer = clone(transformer)\n    210                 # Fit or load from cache the current transfomer\n    211                 Xt, fitted_transformer = fit_transform_one_cached(\n    212                     cloned_transformer, None, Xt, y,\n--> 213                     **fit_params_steps[name])\n        fit_params_steps = {'clf': {}, 'vect': {}}\n        name = 'vect'\n    214                 # Replace the transformer of the step with the fitted\n    215                 # transformer. This is necessary when loading the transformer\n    216                 # from the cache.\n    217                 self.steps[step_idx] = (name, fitted_transformer)\n\n...........................................................................\nC:\\Users\\Sarath\\Anaconda3\\lib\\site-packages\\sklearn\\externals\\joblib\\memory.py in __call__(self=NotMemorizedFunc(func=<function _fit_transform_one at 0x0D17C348>), *args=(DataFrameMapper(default=False, df_out=False,\n   ...None, {})],\n        input_df=False, sparse=False), None, memmap([[0.        , 0.        , 0.        , ......., 0.        , 0.        ,\n         0.        ]]), array([0, 0, 0, ..., 1, 1, 1])), **kwargs={})\n    357     # Should be a light as possible (for speed)\n    358     def __init__(self, func):\n    359         self.func = func\n    360 \n    361     def __call__(self, *args, **kwargs):\n--> 362         return self.func(*args, **kwargs)\n        self.func = <function _fit_transform_one>\n        args = (DataFrameMapper(default=False, df_out=False,\n   ...None, {})],\n        input_df=False, sparse=False), None, memmap([[0.        , 0.        , 0.        , ......., 0.        , 0.        ,\n         0.        ]]), array([0, 0, 0, ..., 1, 1, 1]))\n        kwargs = {}\n    363 \n    364     def call_and_shelve(self, *args, **kwargs):\n    365         return NotMemorizedResult(self.func(*args, **kwargs))\n    366 \n\n...........................................................................\nC:\\Users\\Sarath\\Anaconda3\\lib\\site-packages\\sklearn\\pipeline.py in _fit_transform_one(transformer=DataFrameMapper(default=False, df_out=False,\n   ...None, {})],\n        input_df=False, sparse=False), weight=None, X=memmap([[0.        , 0.        , 0.        , ......., 0.        , 0.        ,\n         0.        ]]), y=array([0, 0, 0, ..., 1, 1, 1]), **fit_params={})\n    576 \n    577 \n    578 def _fit_transform_one(transformer, weight, X, y,\n    579                        **fit_params):\n    580     if hasattr(transformer, 'fit_transform'):\n--> 581         res = transformer.fit_transform(X, y, **fit_params)\n        res = undefined\n        transformer.fit_transform = <bound method DataFrameMapper.fit_transform of D...one, {})],\n        input_df=False, sparse=False)>\n        X = memmap([[0.        , 0.        , 0.        , ......., 0.        , 0.        ,\n         0.        ]])\n        y = array([0, 0, 0, ..., 1, 1, 1])\n        fit_params = {}\n    582     else:\n    583         res = transformer.fit(X, y, **fit_params).transform(X)\n    584     # if we have a weight for this transformer, multiply output\n    585     if weight is None:\n\n...........................................................................\nC:\\Users\\Sarath\\Anaconda3\\lib\\site-packages\\sklearn_pandas\\dataframe_mapper.py in fit_transform(self=DataFrameMapper(default=False, df_out=False,\n   ...None, {})],\n        input_df=False, sparse=False), X=memmap([[0.        , 0.        , 0.        , ......., 0.        , 0.        ,\n         0.        ]]), y=array([0, 0, 0, ..., 1, 1, 1]))\n    383 \n    384         X       the data to fit\n    385 \n    386         y       the target vector relative to X, optional\n    387         \"\"\"\n--> 388         return self._transform(X, y, True)\n        self._transform = <bound method DataFrameMapper._transform of Data...one, {})],\n        input_df=False, sparse=False)>\n        X = memmap([[0.        , 0.        , 0.        , ......., 0.        , 0.        ,\n         0.        ]])\n        y = array([0, 0, 0, ..., 1, 1, 1])\n\n...........................................................................\nC:\\Users\\Sarath\\Anaconda3\\lib\\site-packages\\sklearn_pandas\\dataframe_mapper.py in _transform(self=DataFrameMapper(default=False, df_out=False,\n   ...None, {})],\n        input_df=False, sparse=False), X=memmap([[0.        , 0.        , 0.        , ......., 0.        , 0.        ,\n         0.        ]]), y=array([0, 0, 0, ..., 1, 1, 1]), do_fit=True)\n    293             input_df = options.get('input_df', self.input_df)\n    294 \n    295             # columns could be a string or list of\n    296             # strings; we don't care because pandas\n    297             # will handle either.\n--> 298             Xt = self._get_col_subset(X, columns, input_df)\n        Xt = undefined\n        self._get_col_subset = <bound method DataFrameMapper._get_col_subset of...one, {})],\n        input_df=False, sparse=False)>\n        X = memmap([[0.        , 0.        , 0.        , ......., 0.        , 0.        ,\n         0.        ]])\n        columns = 'new_tweet_post'\n        input_df = False\n    299             if transformers is not None:\n    300                 with add_column_names_to_exception(columns):\n    301                     if do_fit and hasattr(transformers, 'fit_transform'):\n    302                         Xt = _call_fit(transformers.fit_transform, Xt, y)\n\n...........................................................................\nC:\\Users\\Sarath\\Anaconda3\\lib\\site-packages\\sklearn_pandas\\dataframe_mapper.py in _get_col_subset(self=DataFrameMapper(default=False, df_out=False,\n   ...None, {})],\n        input_df=False, sparse=False), X=memmap([[0.        , 0.        , 0.        , ......., 0.        , 0.        ,\n         0.        ]]), cols=['new_tweet_post'], input_df=False)\n    187 \n    188         elif isinstance(X, DataWrapper):\n    189             X = X.df  # fetch underlying data\n    190 \n    191         if return_vector:\n--> 192             t = X[cols[0]]\n        t = undefined\n        X = memmap([[0.        , 0.        , 0.        , ......., 0.        , 0.        ,\n         0.        ]])\n        cols = ['new_tweet_post']\n    193         else:\n    194             t = X[cols]\n    195 \n    196         # return either a DataFrame/Series or a numpy array\n\n...........................................................................\nC:\\Users\\Sarath\\Anaconda3\\lib\\site-packages\\numpy\\core\\memmap.py in __getitem__(self=memmap([[0.        , 0.        , 0.        , ......., 0.        , 0.        ,\n         0.        ]]), index='new_tweet_post')\n    326             return arr[()]\n    327         # Return ndarray otherwise\n    328         return arr.view(np.ndarray)\n    329 \n    330     def __getitem__(self, index):\n--> 331         res = super(memmap, self).__getitem__(index)\n        res = undefined\n        self.__getitem__ = <bound method memmap.__getitem__ of memmap([[0. ..., 0.        , 0.        ,\n         0.        ]])>\n        index = 'new_tweet_post'\n    332         if type(res) is memmap and res._mmap is None:\n    333             return res.view(type=ndarray)\n    334         return res\n\nIndexError: only integers, slices (`:`), ellipsis (`...`), numpy.newaxis (`None`) and integer or boolean arrays are valid indices\n___________________________________________________________________________",
          "output_type": "error",
          "traceback": [
            "\u001b[1;31m---------------------------------------------------------------------------\u001b[0m",
            "\u001b[1;31mRemoteTraceback\u001b[0m                           Traceback (most recent call last)",
            "\u001b[1;31mRemoteTraceback\u001b[0m: \n\"\"\"\nTraceback (most recent call last):\n  File \"C:\\Users\\Sarath\\Anaconda3\\lib\\site-packages\\sklearn\\externals\\joblib\\_parallel_backends.py\", line 350, in __call__\n    return self.func(*args, **kwargs)\n  File \"C:\\Users\\Sarath\\Anaconda3\\lib\\site-packages\\sklearn\\externals\\joblib\\parallel.py\", line 131, in __call__\n    return [func(*args, **kwargs) for func, args, kwargs in self.items]\n  File \"C:\\Users\\Sarath\\Anaconda3\\lib\\site-packages\\sklearn\\externals\\joblib\\parallel.py\", line 131, in <listcomp>\n    return [func(*args, **kwargs) for func, args, kwargs in self.items]\n  File \"C:\\Users\\Sarath\\Anaconda3\\lib\\site-packages\\sklearn\\model_selection\\_validation.py\", line 458, in _fit_and_score\n    estimator.fit(X_train, y_train, **fit_params)\n  File \"C:\\Users\\Sarath\\Anaconda3\\lib\\site-packages\\sklearn\\pipeline.py\", line 248, in fit\n    Xt, fit_params = self._fit(X, y, **fit_params)\n  File \"C:\\Users\\Sarath\\Anaconda3\\lib\\site-packages\\sklearn\\pipeline.py\", line 213, in _fit\n    **fit_params_steps[name])\n  File \"C:\\Users\\Sarath\\Anaconda3\\lib\\site-packages\\sklearn\\externals\\joblib\\memory.py\", line 362, in __call__\n    return self.func(*args, **kwargs)\n  File \"C:\\Users\\Sarath\\Anaconda3\\lib\\site-packages\\sklearn\\pipeline.py\", line 581, in _fit_transform_one\n    res = transformer.fit_transform(X, y, **fit_params)\n  File \"C:\\Users\\Sarath\\Anaconda3\\lib\\site-packages\\sklearn_pandas\\dataframe_mapper.py\", line 388, in fit_transform\n    return self._transform(X, y, True)\n  File \"C:\\Users\\Sarath\\Anaconda3\\lib\\site-packages\\sklearn_pandas\\dataframe_mapper.py\", line 298, in _transform\n    Xt = self._get_col_subset(X, columns, input_df)\n  File \"C:\\Users\\Sarath\\Anaconda3\\lib\\site-packages\\sklearn_pandas\\dataframe_mapper.py\", line 192, in _get_col_subset\n    t = X[cols[0]]\n  File \"C:\\Users\\Sarath\\Anaconda3\\lib\\site-packages\\numpy\\core\\memmap.py\", line 331, in __getitem__\n    res = super(memmap, self).__getitem__(index)\nIndexError: only integers, slices (`:`), ellipsis (`...`), numpy.newaxis (`None`) and integer or boolean arrays are valid indices\n\nDuring handling of the above exception, another exception occurred:\n\nTraceback (most recent call last):\n  File \"C:\\Users\\Sarath\\Anaconda3\\lib\\multiprocessing\\pool.py\", line 119, in worker\n    result = (True, func(*args, **kwds))\n  File \"C:\\Users\\Sarath\\Anaconda3\\lib\\site-packages\\sklearn\\externals\\joblib\\_parallel_backends.py\", line 359, in __call__\n    raise TransportableException(text, e_type)\nsklearn.externals.joblib.my_exceptions.TransportableException: TransportableException\n___________________________________________________________________________\nIndexError                                         Thu Mar 28 16:37:25 2019\nPID: 10388               Python 3.6.5: C:\\Users\\Sarath\\Anaconda3\\python.exe\n...........................................................................\nC:\\Users\\Sarath\\Anaconda3\\lib\\site-packages\\sklearn\\externals\\joblib\\parallel.py in __call__(self=<sklearn.externals.joblib.parallel.BatchedCalls object>)\n    126     def __init__(self, iterator_slice):\n    127         self.items = list(iterator_slice)\n    128         self._size = len(self.items)\n    129 \n    130     def __call__(self):\n--> 131         return [func(*args, **kwargs) for func, args, kwargs in self.items]\n        self.items = [(<function _fit_and_score>, (Pipeline(memory=None,\n     steps=[('vect', DataF...e, shrinking=True,\n  tol=0.001, verbose=False))]), memmap([[0.        , 0.        , 0.        , ......., 0.        , 0.        ,\n         0.        ]]), array([0, 0, 0, ..., 1, 1, 1]), {'score': make_scorer(accuracy_score)}, array([ 267,  268,  269, ..., 2597, 2598, 2599]), array([   0,    1,    2,    3,    4,    5,    6,... 1992, 1993, 1994, 1995, 1996, 1997, 1998, 1999]), 1, {'clf__C': 0.1, 'clf__gamma': 0.01}), {'error_score': 'raise', 'fit_params': {}, 'return_n_test_samples': True, 'return_parameters': False, 'return_times': True, 'return_train_score': 'warn'})]\n    132 \n    133     def __len__(self):\n    134         return self._size\n    135 \n\n...........................................................................\nC:\\Users\\Sarath\\Anaconda3\\lib\\site-packages\\sklearn\\externals\\joblib\\parallel.py in <listcomp>(.0=<list_iterator object>)\n    126     def __init__(self, iterator_slice):\n    127         self.items = list(iterator_slice)\n    128         self._size = len(self.items)\n    129 \n    130     def __call__(self):\n--> 131         return [func(*args, **kwargs) for func, args, kwargs in self.items]\n        func = <function _fit_and_score>\n        args = (Pipeline(memory=None,\n     steps=[('vect', DataF...e, shrinking=True,\n  tol=0.001, verbose=False))]), memmap([[0.        , 0.        , 0.        , ......., 0.        , 0.        ,\n         0.        ]]), array([0, 0, 0, ..., 1, 1, 1]), {'score': make_scorer(accuracy_score)}, array([ 267,  268,  269, ..., 2597, 2598, 2599]), array([   0,    1,    2,    3,    4,    5,    6,... 1992, 1993, 1994, 1995, 1996, 1997, 1998, 1999]), 1, {'clf__C': 0.1, 'clf__gamma': 0.01})\n        kwargs = {'error_score': 'raise', 'fit_params': {}, 'return_n_test_samples': True, 'return_parameters': False, 'return_times': True, 'return_train_score': 'warn'}\n    132 \n    133     def __len__(self):\n    134         return self._size\n    135 \n\n...........................................................................\nC:\\Users\\Sarath\\Anaconda3\\lib\\site-packages\\sklearn\\model_selection\\_validation.py in _fit_and_score(estimator=Pipeline(memory=None,\n     steps=[('vect', DataF...e, shrinking=True,\n  tol=0.001, verbose=False))]), X=memmap([[0.        , 0.        , 0.        , ......., 0.        , 0.        ,\n         0.        ]]), y=array([0, 0, 0, ..., 1, 1, 1]), scorer={'score': make_scorer(accuracy_score)}, train=array([ 267,  268,  269, ..., 2597, 2598, 2599]), test=array([   0,    1,    2,    3,    4,    5,    6,... 1992, 1993, 1994, 1995, 1996, 1997, 1998, 1999]), verbose=1, parameters={'clf__C': 0.1, 'clf__gamma': 0.01}, fit_params={}, return_train_score='warn', return_parameters=False, return_n_test_samples=True, return_times=True, error_score='raise')\n    453 \n    454     try:\n    455         if y_train is None:\n    456             estimator.fit(X_train, **fit_params)\n    457         else:\n--> 458             estimator.fit(X_train, y_train, **fit_params)\n        estimator.fit = <bound method Pipeline.fit of Pipeline(memory=No..., shrinking=True,\n  tol=0.001, verbose=False))])>\n        X_train = memmap([[0.        , 0.        , 0.        , ......., 0.        , 0.        ,\n         0.        ]])\n        y_train = array([0, 0, 0, ..., 1, 1, 1])\n        fit_params = {}\n    459 \n    460     except Exception as e:\n    461         # Note fit time as time until error\n    462         fit_time = time.time() - start_time\n\n...........................................................................\nC:\\Users\\Sarath\\Anaconda3\\lib\\site-packages\\sklearn\\pipeline.py in fit(self=Pipeline(memory=None,\n     steps=[('vect', DataF...e, shrinking=True,\n  tol=0.001, verbose=False))]), X=memmap([[0.        , 0.        , 0.        , ......., 0.        , 0.        ,\n         0.        ]]), y=array([0, 0, 0, ..., 1, 1, 1]), **fit_params={})\n    243         Returns\n    244         -------\n    245         self : Pipeline\n    246             This estimator\n    247         \"\"\"\n--> 248         Xt, fit_params = self._fit(X, y, **fit_params)\n        Xt = undefined\n        fit_params = {}\n        self._fit = <bound method Pipeline._fit of Pipeline(memory=N..., shrinking=True,\n  tol=0.001, verbose=False))])>\n        X = memmap([[0.        , 0.        , 0.        , ......., 0.        , 0.        ,\n         0.        ]])\n        y = array([0, 0, 0, ..., 1, 1, 1])\n    249         if self._final_estimator is not None:\n    250             self._final_estimator.fit(Xt, y, **fit_params)\n    251         return self\n    252 \n\n...........................................................................\nC:\\Users\\Sarath\\Anaconda3\\lib\\site-packages\\sklearn\\pipeline.py in _fit(self=Pipeline(memory=None,\n     steps=[('vect', DataF...e, shrinking=True,\n  tol=0.001, verbose=False))]), X=memmap([[0.        , 0.        , 0.        , ......., 0.        , 0.        ,\n         0.        ]]), y=array([0, 0, 0, ..., 1, 1, 1]), **fit_params={})\n    208                 else:\n    209                     cloned_transformer = clone(transformer)\n    210                 # Fit or load from cache the current transfomer\n    211                 Xt, fitted_transformer = fit_transform_one_cached(\n    212                     cloned_transformer, None, Xt, y,\n--> 213                     **fit_params_steps[name])\n        fit_params_steps = {'clf': {}, 'vect': {}}\n        name = 'vect'\n    214                 # Replace the transformer of the step with the fitted\n    215                 # transformer. This is necessary when loading the transformer\n    216                 # from the cache.\n    217                 self.steps[step_idx] = (name, fitted_transformer)\n\n...........................................................................\nC:\\Users\\Sarath\\Anaconda3\\lib\\site-packages\\sklearn\\externals\\joblib\\memory.py in __call__(self=NotMemorizedFunc(func=<function _fit_transform_one at 0x0D17C348>), *args=(DataFrameMapper(default=False, df_out=False,\n   ...None, {})],\n        input_df=False, sparse=False), None, memmap([[0.        , 0.        , 0.        , ......., 0.        , 0.        ,\n         0.        ]]), array([0, 0, 0, ..., 1, 1, 1])), **kwargs={})\n    357     # Should be a light as possible (for speed)\n    358     def __init__(self, func):\n    359         self.func = func\n    360 \n    361     def __call__(self, *args, **kwargs):\n--> 362         return self.func(*args, **kwargs)\n        self.func = <function _fit_transform_one>\n        args = (DataFrameMapper(default=False, df_out=False,\n   ...None, {})],\n        input_df=False, sparse=False), None, memmap([[0.        , 0.        , 0.        , ......., 0.        , 0.        ,\n         0.        ]]), array([0, 0, 0, ..., 1, 1, 1]))\n        kwargs = {}\n    363 \n    364     def call_and_shelve(self, *args, **kwargs):\n    365         return NotMemorizedResult(self.func(*args, **kwargs))\n    366 \n\n...........................................................................\nC:\\Users\\Sarath\\Anaconda3\\lib\\site-packages\\sklearn\\pipeline.py in _fit_transform_one(transformer=DataFrameMapper(default=False, df_out=False,\n   ...None, {})],\n        input_df=False, sparse=False), weight=None, X=memmap([[0.        , 0.        , 0.        , ......., 0.        , 0.        ,\n         0.        ]]), y=array([0, 0, 0, ..., 1, 1, 1]), **fit_params={})\n    576 \n    577 \n    578 def _fit_transform_one(transformer, weight, X, y,\n    579                        **fit_params):\n    580     if hasattr(transformer, 'fit_transform'):\n--> 581         res = transformer.fit_transform(X, y, **fit_params)\n        res = undefined\n        transformer.fit_transform = <bound method DataFrameMapper.fit_transform of D...one, {})],\n        input_df=False, sparse=False)>\n        X = memmap([[0.        , 0.        , 0.        , ......., 0.        , 0.        ,\n         0.        ]])\n        y = array([0, 0, 0, ..., 1, 1, 1])\n        fit_params = {}\n    582     else:\n    583         res = transformer.fit(X, y, **fit_params).transform(X)\n    584     # if we have a weight for this transformer, multiply output\n    585     if weight is None:\n\n...........................................................................\nC:\\Users\\Sarath\\Anaconda3\\lib\\site-packages\\sklearn_pandas\\dataframe_mapper.py in fit_transform(self=DataFrameMapper(default=False, df_out=False,\n   ...None, {})],\n        input_df=False, sparse=False), X=memmap([[0.        , 0.        , 0.        , ......., 0.        , 0.        ,\n         0.        ]]), y=array([0, 0, 0, ..., 1, 1, 1]))\n    383 \n    384         X       the data to fit\n    385 \n    386         y       the target vector relative to X, optional\n    387         \"\"\"\n--> 388         return self._transform(X, y, True)\n        self._transform = <bound method DataFrameMapper._transform of Data...one, {})],\n        input_df=False, sparse=False)>\n        X = memmap([[0.        , 0.        , 0.        , ......., 0.        , 0.        ,\n         0.        ]])\n        y = array([0, 0, 0, ..., 1, 1, 1])\n\n...........................................................................\nC:\\Users\\Sarath\\Anaconda3\\lib\\site-packages\\sklearn_pandas\\dataframe_mapper.py in _transform(self=DataFrameMapper(default=False, df_out=False,\n   ...None, {})],\n        input_df=False, sparse=False), X=memmap([[0.        , 0.        , 0.        , ......., 0.        , 0.        ,\n         0.        ]]), y=array([0, 0, 0, ..., 1, 1, 1]), do_fit=True)\n    293             input_df = options.get('input_df', self.input_df)\n    294 \n    295             # columns could be a string or list of\n    296             # strings; we don't care because pandas\n    297             # will handle either.\n--> 298             Xt = self._get_col_subset(X, columns, input_df)\n        Xt = undefined\n        self._get_col_subset = <bound method DataFrameMapper._get_col_subset of...one, {})],\n        input_df=False, sparse=False)>\n        X = memmap([[0.        , 0.        , 0.        , ......., 0.        , 0.        ,\n         0.        ]])\n        columns = 'new_tweet_post'\n        input_df = False\n    299             if transformers is not None:\n    300                 with add_column_names_to_exception(columns):\n    301                     if do_fit and hasattr(transformers, 'fit_transform'):\n    302                         Xt = _call_fit(transformers.fit_transform, Xt, y)\n\n...........................................................................\nC:\\Users\\Sarath\\Anaconda3\\lib\\site-packages\\sklearn_pandas\\dataframe_mapper.py in _get_col_subset(self=DataFrameMapper(default=False, df_out=False,\n   ...None, {})],\n        input_df=False, sparse=False), X=memmap([[0.        , 0.        , 0.        , ......., 0.        , 0.        ,\n         0.        ]]), cols=['new_tweet_post'], input_df=False)\n    187 \n    188         elif isinstance(X, DataWrapper):\n    189             X = X.df  # fetch underlying data\n    190 \n    191         if return_vector:\n--> 192             t = X[cols[0]]\n        t = undefined\n        X = memmap([[0.        , 0.        , 0.        , ......., 0.        , 0.        ,\n         0.        ]])\n        cols = ['new_tweet_post']\n    193         else:\n    194             t = X[cols]\n    195 \n    196         # return either a DataFrame/Series or a numpy array\n\n...........................................................................\nC:\\Users\\Sarath\\Anaconda3\\lib\\site-packages\\numpy\\core\\memmap.py in __getitem__(self=memmap([[0.        , 0.        , 0.        , ......., 0.        , 0.        ,\n         0.        ]]), index='new_tweet_post')\n    326             return arr[()]\n    327         # Return ndarray otherwise\n    328         return arr.view(np.ndarray)\n    329 \n    330     def __getitem__(self, index):\n--> 331         res = super(memmap, self).__getitem__(index)\n        res = undefined\n        self.__getitem__ = <bound method memmap.__getitem__ of memmap([[0. ..., 0.        , 0.        ,\n         0.        ]])>\n        index = 'new_tweet_post'\n    332         if type(res) is memmap and res._mmap is None:\n    333             return res.view(type=ndarray)\n    334         return res\n\nIndexError: only integers, slices (`:`), ellipsis (`...`), numpy.newaxis (`None`) and integer or boolean arrays are valid indices\n___________________________________________________________________________\n\"\"\"",
            "\nThe above exception was the direct cause of the following exception:\n",
            "\u001b[1;31mTransportableException\u001b[0m                    Traceback (most recent call last)",
            "\u001b[1;32m~\\Anaconda3\\lib\\site-packages\\sklearn\\externals\\joblib\\parallel.py\u001b[0m in \u001b[0;36mretrieve\u001b[1;34m(self)\u001b[0m\n\u001b[0;32m    698\u001b[0m                 \u001b[1;32mif\u001b[0m \u001b[0mgetattr\u001b[0m\u001b[1;33m(\u001b[0m\u001b[0mself\u001b[0m\u001b[1;33m.\u001b[0m\u001b[0m_backend\u001b[0m\u001b[1;33m,\u001b[0m \u001b[1;34m'supports_timeout'\u001b[0m\u001b[1;33m,\u001b[0m \u001b[1;32mFalse\u001b[0m\u001b[1;33m)\u001b[0m\u001b[1;33m:\u001b[0m\u001b[1;33m\u001b[0m\u001b[0m\n\u001b[1;32m--> 699\u001b[1;33m                     \u001b[0mself\u001b[0m\u001b[1;33m.\u001b[0m\u001b[0m_output\u001b[0m\u001b[1;33m.\u001b[0m\u001b[0mextend\u001b[0m\u001b[1;33m(\u001b[0m\u001b[0mjob\u001b[0m\u001b[1;33m.\u001b[0m\u001b[0mget\u001b[0m\u001b[1;33m(\u001b[0m\u001b[0mtimeout\u001b[0m\u001b[1;33m=\u001b[0m\u001b[0mself\u001b[0m\u001b[1;33m.\u001b[0m\u001b[0mtimeout\u001b[0m\u001b[1;33m)\u001b[0m\u001b[1;33m)\u001b[0m\u001b[1;33m\u001b[0m\u001b[0m\n\u001b[0m\u001b[0;32m    700\u001b[0m                 \u001b[1;32melse\u001b[0m\u001b[1;33m:\u001b[0m\u001b[1;33m\u001b[0m\u001b[0m\n",
            "\u001b[1;32m~\\Anaconda3\\lib\\multiprocessing\\pool.py\u001b[0m in \u001b[0;36mget\u001b[1;34m(self, timeout)\u001b[0m\n\u001b[0;32m    643\u001b[0m         \u001b[1;32melse\u001b[0m\u001b[1;33m:\u001b[0m\u001b[1;33m\u001b[0m\u001b[0m\n\u001b[1;32m--> 644\u001b[1;33m             \u001b[1;32mraise\u001b[0m \u001b[0mself\u001b[0m\u001b[1;33m.\u001b[0m\u001b[0m_value\u001b[0m\u001b[1;33m\u001b[0m\u001b[0m\n\u001b[0m\u001b[0;32m    645\u001b[0m \u001b[1;33m\u001b[0m\u001b[0m\n",
            "\u001b[1;31mTransportableException\u001b[0m: TransportableException\n___________________________________________________________________________\nIndexError                                         Thu Mar 28 16:37:25 2019\nPID: 10388               Python 3.6.5: C:\\Users\\Sarath\\Anaconda3\\python.exe\n...........................................................................\nC:\\Users\\Sarath\\Anaconda3\\lib\\site-packages\\sklearn\\externals\\joblib\\parallel.py in __call__(self=<sklearn.externals.joblib.parallel.BatchedCalls object>)\n    126     def __init__(self, iterator_slice):\n    127         self.items = list(iterator_slice)\n    128         self._size = len(self.items)\n    129 \n    130     def __call__(self):\n--> 131         return [func(*args, **kwargs) for func, args, kwargs in self.items]\n        self.items = [(<function _fit_and_score>, (Pipeline(memory=None,\n     steps=[('vect', DataF...e, shrinking=True,\n  tol=0.001, verbose=False))]), memmap([[0.        , 0.        , 0.        , ......., 0.        , 0.        ,\n         0.        ]]), array([0, 0, 0, ..., 1, 1, 1]), {'score': make_scorer(accuracy_score)}, array([ 267,  268,  269, ..., 2597, 2598, 2599]), array([   0,    1,    2,    3,    4,    5,    6,... 1992, 1993, 1994, 1995, 1996, 1997, 1998, 1999]), 1, {'clf__C': 0.1, 'clf__gamma': 0.01}), {'error_score': 'raise', 'fit_params': {}, 'return_n_test_samples': True, 'return_parameters': False, 'return_times': True, 'return_train_score': 'warn'})]\n    132 \n    133     def __len__(self):\n    134         return self._size\n    135 \n\n...........................................................................\nC:\\Users\\Sarath\\Anaconda3\\lib\\site-packages\\sklearn\\externals\\joblib\\parallel.py in <listcomp>(.0=<list_iterator object>)\n    126     def __init__(self, iterator_slice):\n    127         self.items = list(iterator_slice)\n    128         self._size = len(self.items)\n    129 \n    130     def __call__(self):\n--> 131         return [func(*args, **kwargs) for func, args, kwargs in self.items]\n        func = <function _fit_and_score>\n        args = (Pipeline(memory=None,\n     steps=[('vect', DataF...e, shrinking=True,\n  tol=0.001, verbose=False))]), memmap([[0.        , 0.        , 0.        , ......., 0.        , 0.        ,\n         0.        ]]), array([0, 0, 0, ..., 1, 1, 1]), {'score': make_scorer(accuracy_score)}, array([ 267,  268,  269, ..., 2597, 2598, 2599]), array([   0,    1,    2,    3,    4,    5,    6,... 1992, 1993, 1994, 1995, 1996, 1997, 1998, 1999]), 1, {'clf__C': 0.1, 'clf__gamma': 0.01})\n        kwargs = {'error_score': 'raise', 'fit_params': {}, 'return_n_test_samples': True, 'return_parameters': False, 'return_times': True, 'return_train_score': 'warn'}\n    132 \n    133     def __len__(self):\n    134         return self._size\n    135 \n\n...........................................................................\nC:\\Users\\Sarath\\Anaconda3\\lib\\site-packages\\sklearn\\model_selection\\_validation.py in _fit_and_score(estimator=Pipeline(memory=None,\n     steps=[('vect', DataF...e, shrinking=True,\n  tol=0.001, verbose=False))]), X=memmap([[0.        , 0.        , 0.        , ......., 0.        , 0.        ,\n         0.        ]]), y=array([0, 0, 0, ..., 1, 1, 1]), scorer={'score': make_scorer(accuracy_score)}, train=array([ 267,  268,  269, ..., 2597, 2598, 2599]), test=array([   0,    1,    2,    3,    4,    5,    6,... 1992, 1993, 1994, 1995, 1996, 1997, 1998, 1999]), verbose=1, parameters={'clf__C': 0.1, 'clf__gamma': 0.01}, fit_params={}, return_train_score='warn', return_parameters=False, return_n_test_samples=True, return_times=True, error_score='raise')\n    453 \n    454     try:\n    455         if y_train is None:\n    456             estimator.fit(X_train, **fit_params)\n    457         else:\n--> 458             estimator.fit(X_train, y_train, **fit_params)\n        estimator.fit = <bound method Pipeline.fit of Pipeline(memory=No..., shrinking=True,\n  tol=0.001, verbose=False))])>\n        X_train = memmap([[0.        , 0.        , 0.        , ......., 0.        , 0.        ,\n         0.        ]])\n        y_train = array([0, 0, 0, ..., 1, 1, 1])\n        fit_params = {}\n    459 \n    460     except Exception as e:\n    461         # Note fit time as time until error\n    462         fit_time = time.time() - start_time\n\n...........................................................................\nC:\\Users\\Sarath\\Anaconda3\\lib\\site-packages\\sklearn\\pipeline.py in fit(self=Pipeline(memory=None,\n     steps=[('vect', DataF...e, shrinking=True,\n  tol=0.001, verbose=False))]), X=memmap([[0.        , 0.        , 0.        , ......., 0.        , 0.        ,\n         0.        ]]), y=array([0, 0, 0, ..., 1, 1, 1]), **fit_params={})\n    243         Returns\n    244         -------\n    245         self : Pipeline\n    246             This estimator\n    247         \"\"\"\n--> 248         Xt, fit_params = self._fit(X, y, **fit_params)\n        Xt = undefined\n        fit_params = {}\n        self._fit = <bound method Pipeline._fit of Pipeline(memory=N..., shrinking=True,\n  tol=0.001, verbose=False))])>\n        X = memmap([[0.        , 0.        , 0.        , ......., 0.        , 0.        ,\n         0.        ]])\n        y = array([0, 0, 0, ..., 1, 1, 1])\n    249         if self._final_estimator is not None:\n    250             self._final_estimator.fit(Xt, y, **fit_params)\n    251         return self\n    252 \n\n...........................................................................\nC:\\Users\\Sarath\\Anaconda3\\lib\\site-packages\\sklearn\\pipeline.py in _fit(self=Pipeline(memory=None,\n     steps=[('vect', DataF...e, shrinking=True,\n  tol=0.001, verbose=False))]), X=memmap([[0.        , 0.        , 0.        , ......., 0.        , 0.        ,\n         0.        ]]), y=array([0, 0, 0, ..., 1, 1, 1]), **fit_params={})\n    208                 else:\n    209                     cloned_transformer = clone(transformer)\n    210                 # Fit or load from cache the current transfomer\n    211                 Xt, fitted_transformer = fit_transform_one_cached(\n    212                     cloned_transformer, None, Xt, y,\n--> 213                     **fit_params_steps[name])\n        fit_params_steps = {'clf': {}, 'vect': {}}\n        name = 'vect'\n    214                 # Replace the transformer of the step with the fitted\n    215                 # transformer. This is necessary when loading the transformer\n    216                 # from the cache.\n    217                 self.steps[step_idx] = (name, fitted_transformer)\n\n...........................................................................\nC:\\Users\\Sarath\\Anaconda3\\lib\\site-packages\\sklearn\\externals\\joblib\\memory.py in __call__(self=NotMemorizedFunc(func=<function _fit_transform_one at 0x0D17C348>), *args=(DataFrameMapper(default=False, df_out=False,\n   ...None, {})],\n        input_df=False, sparse=False), None, memmap([[0.        , 0.        , 0.        , ......., 0.        , 0.        ,\n         0.        ]]), array([0, 0, 0, ..., 1, 1, 1])), **kwargs={})\n    357     # Should be a light as possible (for speed)\n    358     def __init__(self, func):\n    359         self.func = func\n    360 \n    361     def __call__(self, *args, **kwargs):\n--> 362         return self.func(*args, **kwargs)\n        self.func = <function _fit_transform_one>\n        args = (DataFrameMapper(default=False, df_out=False,\n   ...None, {})],\n        input_df=False, sparse=False), None, memmap([[0.        , 0.        , 0.        , ......., 0.        , 0.        ,\n         0.        ]]), array([0, 0, 0, ..., 1, 1, 1]))\n        kwargs = {}\n    363 \n    364     def call_and_shelve(self, *args, **kwargs):\n    365         return NotMemorizedResult(self.func(*args, **kwargs))\n    366 \n\n...........................................................................\nC:\\Users\\Sarath\\Anaconda3\\lib\\site-packages\\sklearn\\pipeline.py in _fit_transform_one(transformer=DataFrameMapper(default=False, df_out=False,\n   ...None, {})],\n        input_df=False, sparse=False), weight=None, X=memmap([[0.        , 0.        , 0.        , ......., 0.        , 0.        ,\n         0.        ]]), y=array([0, 0, 0, ..., 1, 1, 1]), **fit_params={})\n    576 \n    577 \n    578 def _fit_transform_one(transformer, weight, X, y,\n    579                        **fit_params):\n    580     if hasattr(transformer, 'fit_transform'):\n--> 581         res = transformer.fit_transform(X, y, **fit_params)\n        res = undefined\n        transformer.fit_transform = <bound method DataFrameMapper.fit_transform of D...one, {})],\n        input_df=False, sparse=False)>\n        X = memmap([[0.        , 0.        , 0.        , ......., 0.        , 0.        ,\n         0.        ]])\n        y = array([0, 0, 0, ..., 1, 1, 1])\n        fit_params = {}\n    582     else:\n    583         res = transformer.fit(X, y, **fit_params).transform(X)\n    584     # if we have a weight for this transformer, multiply output\n    585     if weight is None:\n\n...........................................................................\nC:\\Users\\Sarath\\Anaconda3\\lib\\site-packages\\sklearn_pandas\\dataframe_mapper.py in fit_transform(self=DataFrameMapper(default=False, df_out=False,\n   ...None, {})],\n        input_df=False, sparse=False), X=memmap([[0.        , 0.        , 0.        , ......., 0.        , 0.        ,\n         0.        ]]), y=array([0, 0, 0, ..., 1, 1, 1]))\n    383 \n    384         X       the data to fit\n    385 \n    386         y       the target vector relative to X, optional\n    387         \"\"\"\n--> 388         return self._transform(X, y, True)\n        self._transform = <bound method DataFrameMapper._transform of Data...one, {})],\n        input_df=False, sparse=False)>\n        X = memmap([[0.        , 0.        , 0.        , ......., 0.        , 0.        ,\n         0.        ]])\n        y = array([0, 0, 0, ..., 1, 1, 1])\n\n...........................................................................\nC:\\Users\\Sarath\\Anaconda3\\lib\\site-packages\\sklearn_pandas\\dataframe_mapper.py in _transform(self=DataFrameMapper(default=False, df_out=False,\n   ...None, {})],\n        input_df=False, sparse=False), X=memmap([[0.        , 0.        , 0.        , ......., 0.        , 0.        ,\n         0.        ]]), y=array([0, 0, 0, ..., 1, 1, 1]), do_fit=True)\n    293             input_df = options.get('input_df', self.input_df)\n    294 \n    295             # columns could be a string or list of\n    296             # strings; we don't care because pandas\n    297             # will handle either.\n--> 298             Xt = self._get_col_subset(X, columns, input_df)\n        Xt = undefined\n        self._get_col_subset = <bound method DataFrameMapper._get_col_subset of...one, {})],\n        input_df=False, sparse=False)>\n        X = memmap([[0.        , 0.        , 0.        , ......., 0.        , 0.        ,\n         0.        ]])\n        columns = 'new_tweet_post'\n        input_df = False\n    299             if transformers is not None:\n    300                 with add_column_names_to_exception(columns):\n    301                     if do_fit and hasattr(transformers, 'fit_transform'):\n    302                         Xt = _call_fit(transformers.fit_transform, Xt, y)\n\n...........................................................................\nC:\\Users\\Sarath\\Anaconda3\\lib\\site-packages\\sklearn_pandas\\dataframe_mapper.py in _get_col_subset(self=DataFrameMapper(default=False, df_out=False,\n   ...None, {})],\n        input_df=False, sparse=False), X=memmap([[0.        , 0.        , 0.        , ......., 0.        , 0.        ,\n         0.        ]]), cols=['new_tweet_post'], input_df=False)\n    187 \n    188         elif isinstance(X, DataWrapper):\n    189             X = X.df  # fetch underlying data\n    190 \n    191         if return_vector:\n--> 192             t = X[cols[0]]\n        t = undefined\n        X = memmap([[0.        , 0.        , 0.        , ......., 0.        , 0.        ,\n         0.        ]])\n        cols = ['new_tweet_post']\n    193         else:\n    194             t = X[cols]\n    195 \n    196         # return either a DataFrame/Series or a numpy array\n\n...........................................................................\nC:\\Users\\Sarath\\Anaconda3\\lib\\site-packages\\numpy\\core\\memmap.py in __getitem__(self=memmap([[0.        , 0.        , 0.        , ......., 0.        , 0.        ,\n         0.        ]]), index='new_tweet_post')\n    326             return arr[()]\n    327         # Return ndarray otherwise\n    328         return arr.view(np.ndarray)\n    329 \n    330     def __getitem__(self, index):\n--> 331         res = super(memmap, self).__getitem__(index)\n        res = undefined\n        self.__getitem__ = <bound method memmap.__getitem__ of memmap([[0. ..., 0.        , 0.        ,\n         0.        ]])>\n        index = 'new_tweet_post'\n    332         if type(res) is memmap and res._mmap is None:\n    333             return res.view(type=ndarray)\n    334         return res\n\nIndexError: only integers, slices (`:`), ellipsis (`...`), numpy.newaxis (`None`) and integer or boolean arrays are valid indices\n___________________________________________________________________________",
            "\nDuring handling of the above exception, another exception occurred:\n",
            "\u001b[1;31mJoblibIndexError\u001b[0m                          Traceback (most recent call last)",
            "\u001b[1;32m<ipython-input-52-d9eff0b324cd>\u001b[0m in \u001b[0;36m<module>\u001b[1;34m()\u001b[0m\n\u001b[0;32m      1\u001b[0m \u001b[1;32mif\u001b[0m \u001b[0m__name__\u001b[0m \u001b[1;33m==\u001b[0m \u001b[1;34m\"__main__\"\u001b[0m\u001b[1;33m:\u001b[0m\u001b[1;33m\u001b[0m\u001b[0m\n\u001b[0;32m      2\u001b[0m     \u001b[0mgrid_search\u001b[0m \u001b[1;33m=\u001b[0m \u001b[0mGridSearchCV\u001b[0m\u001b[1;33m(\u001b[0m\u001b[0mpipeline\u001b[0m\u001b[1;33m,\u001b[0m \u001b[0mparameters\u001b[0m\u001b[1;33m,\u001b[0m \u001b[0mn_jobs\u001b[0m\u001b[1;33m=\u001b[0m\u001b[1;33m-\u001b[0m\u001b[1;36m1\u001b[0m\u001b[1;33m,\u001b[0m \u001b[0mverbose\u001b[0m\u001b[1;33m=\u001b[0m\u001b[1;36m1\u001b[0m\u001b[1;33m,\u001b[0m \u001b[0mscoring\u001b[0m\u001b[1;33m=\u001b[0m\u001b[1;34m'accuracy'\u001b[0m\u001b[1;33m,\u001b[0m \u001b[0mcv\u001b[0m\u001b[1;33m=\u001b[0m\u001b[1;36m3\u001b[0m\u001b[1;33m)\u001b[0m\u001b[1;33m\u001b[0m\u001b[0m\n\u001b[1;32m----> 3\u001b[1;33m     \u001b[0mgrid_search\u001b[0m\u001b[1;33m.\u001b[0m\u001b[0mfit\u001b[0m\u001b[1;33m(\u001b[0m\u001b[0mx_train\u001b[0m\u001b[1;33m,\u001b[0m \u001b[0my_train\u001b[0m\u001b[1;33m)\u001b[0m\u001b[1;33m\u001b[0m\u001b[0m\n\u001b[0m\u001b[0;32m      4\u001b[0m     \u001b[0mprint\u001b[0m\u001b[1;33m(\u001b[0m\u001b[1;34m'Best score: %0.3f'\u001b[0m \u001b[1;33m%\u001b[0m \u001b[0mgrid_search\u001b[0m\u001b[1;33m.\u001b[0m\u001b[0mbest_score_\u001b[0m\u001b[1;33m)\u001b[0m\u001b[1;33m\u001b[0m\u001b[0m\n\u001b[0;32m      5\u001b[0m     \u001b[0mprint\u001b[0m\u001b[1;33m(\u001b[0m\u001b[1;34m'Best parameters set:'\u001b[0m\u001b[1;33m)\u001b[0m\u001b[1;33m\u001b[0m\u001b[0m\n",
            "\u001b[1;32m~\\Anaconda3\\lib\\site-packages\\sklearn\\model_selection\\_search.py\u001b[0m in \u001b[0;36mfit\u001b[1;34m(self, X, y, groups, **fit_params)\u001b[0m\n\u001b[0;32m    637\u001b[0m                                   error_score=self.error_score)\n\u001b[0;32m    638\u001b[0m           for parameters, (train, test) in product(candidate_params,\n\u001b[1;32m--> 639\u001b[1;33m                                                    cv.split(X, y, groups)))\n\u001b[0m\u001b[0;32m    640\u001b[0m \u001b[1;33m\u001b[0m\u001b[0m\n\u001b[0;32m    641\u001b[0m         \u001b[1;31m# if one choose to see train score, \"out\" will contain train score info\u001b[0m\u001b[1;33m\u001b[0m\u001b[1;33m\u001b[0m\u001b[0m\n",
            "\u001b[1;32m~\\Anaconda3\\lib\\site-packages\\sklearn\\externals\\joblib\\parallel.py\u001b[0m in \u001b[0;36m__call__\u001b[1;34m(self, iterable)\u001b[0m\n\u001b[0;32m    787\u001b[0m                 \u001b[1;31m# consumption.\u001b[0m\u001b[1;33m\u001b[0m\u001b[1;33m\u001b[0m\u001b[0m\n\u001b[0;32m    788\u001b[0m                 \u001b[0mself\u001b[0m\u001b[1;33m.\u001b[0m\u001b[0m_iterating\u001b[0m \u001b[1;33m=\u001b[0m \u001b[1;32mFalse\u001b[0m\u001b[1;33m\u001b[0m\u001b[0m\n\u001b[1;32m--> 789\u001b[1;33m             \u001b[0mself\u001b[0m\u001b[1;33m.\u001b[0m\u001b[0mretrieve\u001b[0m\u001b[1;33m(\u001b[0m\u001b[1;33m)\u001b[0m\u001b[1;33m\u001b[0m\u001b[0m\n\u001b[0m\u001b[0;32m    790\u001b[0m             \u001b[1;31m# Make sure that we get a last message telling us we are done\u001b[0m\u001b[1;33m\u001b[0m\u001b[1;33m\u001b[0m\u001b[0m\n\u001b[0;32m    791\u001b[0m             \u001b[0melapsed_time\u001b[0m \u001b[1;33m=\u001b[0m \u001b[0mtime\u001b[0m\u001b[1;33m.\u001b[0m\u001b[0mtime\u001b[0m\u001b[1;33m(\u001b[0m\u001b[1;33m)\u001b[0m \u001b[1;33m-\u001b[0m \u001b[0mself\u001b[0m\u001b[1;33m.\u001b[0m\u001b[0m_start_time\u001b[0m\u001b[1;33m\u001b[0m\u001b[0m\n",
            "\u001b[1;32m~\\Anaconda3\\lib\\site-packages\\sklearn\\externals\\joblib\\parallel.py\u001b[0m in \u001b[0;36mretrieve\u001b[1;34m(self)\u001b[0m\n\u001b[0;32m    738\u001b[0m                     \u001b[0mexception\u001b[0m \u001b[1;33m=\u001b[0m \u001b[0mexception_type\u001b[0m\u001b[1;33m(\u001b[0m\u001b[0mreport\u001b[0m\u001b[1;33m)\u001b[0m\u001b[1;33m\u001b[0m\u001b[0m\n\u001b[0;32m    739\u001b[0m \u001b[1;33m\u001b[0m\u001b[0m\n\u001b[1;32m--> 740\u001b[1;33m                     \u001b[1;32mraise\u001b[0m \u001b[0mexception\u001b[0m\u001b[1;33m\u001b[0m\u001b[0m\n\u001b[0m\u001b[0;32m    741\u001b[0m \u001b[1;33m\u001b[0m\u001b[0m\n\u001b[0;32m    742\u001b[0m     \u001b[1;32mdef\u001b[0m \u001b[0m__call__\u001b[0m\u001b[1;33m(\u001b[0m\u001b[0mself\u001b[0m\u001b[1;33m,\u001b[0m \u001b[0miterable\u001b[0m\u001b[1;33m)\u001b[0m\u001b[1;33m:\u001b[0m\u001b[1;33m\u001b[0m\u001b[0m\n",
            "\u001b[1;31mJoblibIndexError\u001b[0m: JoblibIndexError\n___________________________________________________________________________\nMultiprocessing exception:\n...........................................................................\nC:\\Users\\Sarath\\Anaconda3\\lib\\runpy.py in _run_module_as_main(mod_name='ipykernel_launcher', alter_argv=1)\n    188         sys.exit(msg)\n    189     main_globals = sys.modules[\"__main__\"].__dict__\n    190     if alter_argv:\n    191         sys.argv[0] = mod_spec.origin\n    192     return _run_code(code, main_globals, None,\n--> 193                      \"__main__\", mod_spec)\n        mod_spec = ModuleSpec(name='ipykernel_launcher', loader=<_f...nda3\\\\lib\\\\site-packages\\\\ipykernel_launcher.py')\n    194 \n    195 def run_module(mod_name, init_globals=None,\n    196                run_name=None, alter_sys=False):\n    197     \"\"\"Execute a module's code without importing it\n\n...........................................................................\nC:\\Users\\Sarath\\Anaconda3\\lib\\runpy.py in _run_code(code=<code object <module> at 0x01F55440, file \"C:\\Us...lib\\site-packages\\ipykernel_launcher.py\", line 5>, run_globals={'__annotations__': {}, '__builtins__': <module 'builtins' (built-in)>, '__cached__': r'C:\\Users\\Sarath\\Anaconda3\\lib\\site-packages\\__pycache__\\ipykernel_launcher.cpython-36.pyc', '__doc__': 'Entry point for launching an IPython kernel.\\n\\nTh...orts until\\nafter removing the cwd from sys.path.\\n', '__file__': r'C:\\Users\\Sarath\\Anaconda3\\lib\\site-packages\\ipykernel_launcher.py', '__loader__': <_frozen_importlib_external.SourceFileLoader object>, '__name__': '__main__', '__package__': '', '__spec__': ModuleSpec(name='ipykernel_launcher', loader=<_f...nda3\\\\lib\\\\site-packages\\\\ipykernel_launcher.py'), 'app': <module 'ipykernel.kernelapp' from 'C:\\\\Users\\\\S...a3\\\\lib\\\\site-packages\\\\ipykernel\\\\kernelapp.py'>, ...}, init_globals=None, mod_name='__main__', mod_spec=ModuleSpec(name='ipykernel_launcher', loader=<_f...nda3\\\\lib\\\\site-packages\\\\ipykernel_launcher.py'), pkg_name='', script_name=None)\n     80                        __cached__ = cached,\n     81                        __doc__ = None,\n     82                        __loader__ = loader,\n     83                        __package__ = pkg_name,\n     84                        __spec__ = mod_spec)\n---> 85     exec(code, run_globals)\n        code = <code object <module> at 0x01F55440, file \"C:\\Us...lib\\site-packages\\ipykernel_launcher.py\", line 5>\n        run_globals = {'__annotations__': {}, '__builtins__': <module 'builtins' (built-in)>, '__cached__': r'C:\\Users\\Sarath\\Anaconda3\\lib\\site-packages\\__pycache__\\ipykernel_launcher.cpython-36.pyc', '__doc__': 'Entry point for launching an IPython kernel.\\n\\nTh...orts until\\nafter removing the cwd from sys.path.\\n', '__file__': r'C:\\Users\\Sarath\\Anaconda3\\lib\\site-packages\\ipykernel_launcher.py', '__loader__': <_frozen_importlib_external.SourceFileLoader object>, '__name__': '__main__', '__package__': '', '__spec__': ModuleSpec(name='ipykernel_launcher', loader=<_f...nda3\\\\lib\\\\site-packages\\\\ipykernel_launcher.py'), 'app': <module 'ipykernel.kernelapp' from 'C:\\\\Users\\\\S...a3\\\\lib\\\\site-packages\\\\ipykernel\\\\kernelapp.py'>, ...}\n     86     return run_globals\n     87 \n     88 def _run_module_code(code, init_globals=None,\n     89                     mod_name=None, mod_spec=None,\n\n...........................................................................\nC:\\Users\\Sarath\\Anaconda3\\lib\\site-packages\\ipykernel_launcher.py in <module>()\n     11     # This is added back by InteractiveShellApp.init_path()\n     12     if sys.path[0] == '':\n     13         del sys.path[0]\n     14 \n     15     from ipykernel import kernelapp as app\n---> 16     app.launch_new_instance()\n\n...........................................................................\nC:\\Users\\Sarath\\Anaconda3\\lib\\site-packages\\traitlets\\config\\application.py in launch_instance(cls=<class 'ipykernel.kernelapp.IPKernelApp'>, argv=None, **kwargs={})\n    653 \n    654         If a global instance already exists, this reinitializes and starts it\n    655         \"\"\"\n    656         app = cls.instance(**kwargs)\n    657         app.initialize(argv)\n--> 658         app.start()\n        app.start = <bound method IPKernelApp.start of <ipykernel.kernelapp.IPKernelApp object>>\n    659 \n    660 #-----------------------------------------------------------------------------\n    661 # utility functions, for convenience\n    662 #-----------------------------------------------------------------------------\n\n...........................................................................\nC:\\Users\\Sarath\\Anaconda3\\lib\\site-packages\\ipykernel\\kernelapp.py in start(self=<ipykernel.kernelapp.IPKernelApp object>)\n    492         if self.poller is not None:\n    493             self.poller.start()\n    494         self.kernel.start()\n    495         self.io_loop = ioloop.IOLoop.current()\n    496         try:\n--> 497             self.io_loop.start()\n        self.io_loop.start = <bound method BaseAsyncIOLoop.start of <tornado.platform.asyncio.AsyncIOMainLoop object>>\n    498         except KeyboardInterrupt:\n    499             pass\n    500 \n    501 launch_new_instance = IPKernelApp.launch_instance\n\n...........................................................................\nC:\\Users\\Sarath\\Anaconda3\\lib\\site-packages\\tornado\\platform\\asyncio.py in start(self=<tornado.platform.asyncio.AsyncIOMainLoop object>)\n    127         except (RuntimeError, AssertionError):\n    128             old_loop = None\n    129         try:\n    130             self._setup_logging()\n    131             asyncio.set_event_loop(self.asyncio_loop)\n--> 132             self.asyncio_loop.run_forever()\n        self.asyncio_loop.run_forever = <bound method BaseEventLoop.run_forever of <_Win...EventLoop running=True closed=False debug=False>>\n    133         finally:\n    134             asyncio.set_event_loop(old_loop)\n    135 \n    136     def stop(self):\n\n...........................................................................\nC:\\Users\\Sarath\\Anaconda3\\lib\\asyncio\\base_events.py in run_forever(self=<_WindowsSelectorEventLoop running=True closed=False debug=False>)\n    417             sys.set_asyncgen_hooks(firstiter=self._asyncgen_firstiter_hook,\n    418                                    finalizer=self._asyncgen_finalizer_hook)\n    419         try:\n    420             events._set_running_loop(self)\n    421             while True:\n--> 422                 self._run_once()\n        self._run_once = <bound method BaseEventLoop._run_once of <_Windo...EventLoop running=True closed=False debug=False>>\n    423                 if self._stopping:\n    424                     break\n    425         finally:\n    426             self._stopping = False\n\n...........................................................................\nC:\\Users\\Sarath\\Anaconda3\\lib\\asyncio\\base_events.py in _run_once(self=<_WindowsSelectorEventLoop running=True closed=False debug=False>)\n   1427                         logger.warning('Executing %s took %.3f seconds',\n   1428                                        _format_handle(handle), dt)\n   1429                 finally:\n   1430                     self._current_handle = None\n   1431             else:\n-> 1432                 handle._run()\n        handle._run = <bound method Handle._run of <Handle BaseAsyncIOLoop._handle_events(340, 1)>>\n   1433         handle = None  # Needed to break cycles when an exception occurs.\n   1434 \n   1435     def _set_coroutine_wrapper(self, enabled):\n   1436         try:\n\n...........................................................................\nC:\\Users\\Sarath\\Anaconda3\\lib\\asyncio\\events.py in _run(self=<Handle BaseAsyncIOLoop._handle_events(340, 1)>)\n    140             self._callback = None\n    141             self._args = None\n    142 \n    143     def _run(self):\n    144         try:\n--> 145             self._callback(*self._args)\n        self._callback = <bound method BaseAsyncIOLoop._handle_events of <tornado.platform.asyncio.AsyncIOMainLoop object>>\n        self._args = (340, 1)\n    146         except Exception as exc:\n    147             cb = _format_callback_source(self._callback, self._args)\n    148             msg = 'Exception in callback {}'.format(cb)\n    149             context = {\n\n...........................................................................\nC:\\Users\\Sarath\\Anaconda3\\lib\\site-packages\\tornado\\platform\\asyncio.py in _handle_events(self=<tornado.platform.asyncio.AsyncIOMainLoop object>, fd=340, events=1)\n    117             self.writers.remove(fd)\n    118         del self.handlers[fd]\n    119 \n    120     def _handle_events(self, fd, events):\n    121         fileobj, handler_func = self.handlers[fd]\n--> 122         handler_func(fileobj, events)\n        handler_func = <function wrap.<locals>.null_wrapper>\n        fileobj = <zmq.sugar.socket.Socket object>\n        events = 1\n    123 \n    124     def start(self):\n    125         try:\n    126             old_loop = asyncio.get_event_loop()\n\n...........................................................................\nC:\\Users\\Sarath\\Anaconda3\\lib\\site-packages\\tornado\\stack_context.py in null_wrapper(*args=(<zmq.sugar.socket.Socket object>, 1), **kwargs={})\n    295         # Fast path when there are no active contexts.\n    296         def null_wrapper(*args, **kwargs):\n    297             try:\n    298                 current_state = _state.contexts\n    299                 _state.contexts = cap_contexts[0]\n--> 300                 return fn(*args, **kwargs)\n        args = (<zmq.sugar.socket.Socket object>, 1)\n        kwargs = {}\n    301             finally:\n    302                 _state.contexts = current_state\n    303         null_wrapper._wrapped = True\n    304         return null_wrapper\n\n...........................................................................\nC:\\Users\\Sarath\\Anaconda3\\lib\\site-packages\\zmq\\eventloop\\zmqstream.py in _handle_events(self=<zmq.eventloop.zmqstream.ZMQStream object>, fd=<zmq.sugar.socket.Socket object>, events=1)\n    445             return\n    446         zmq_events = self.socket.EVENTS\n    447         try:\n    448             # dispatch events:\n    449             if zmq_events & zmq.POLLIN and self.receiving():\n--> 450                 self._handle_recv()\n        self._handle_recv = <bound method ZMQStream._handle_recv of <zmq.eventloop.zmqstream.ZMQStream object>>\n    451                 if not self.socket:\n    452                     return\n    453             if zmq_events & zmq.POLLOUT and self.sending():\n    454                 self._handle_send()\n\n...........................................................................\nC:\\Users\\Sarath\\Anaconda3\\lib\\site-packages\\zmq\\eventloop\\zmqstream.py in _handle_recv(self=<zmq.eventloop.zmqstream.ZMQStream object>)\n    475             else:\n    476                 raise\n    477         else:\n    478             if self._recv_callback:\n    479                 callback = self._recv_callback\n--> 480                 self._run_callback(callback, msg)\n        self._run_callback = <bound method ZMQStream._run_callback of <zmq.eventloop.zmqstream.ZMQStream object>>\n        callback = <function wrap.<locals>.null_wrapper>\n        msg = [<zmq.sugar.frame.Frame object>, <zmq.sugar.frame.Frame object>, <zmq.sugar.frame.Frame object>, <zmq.sugar.frame.Frame object>, <zmq.sugar.frame.Frame object>, <zmq.sugar.frame.Frame object>, <zmq.sugar.frame.Frame object>]\n    481         \n    482 \n    483     def _handle_send(self):\n    484         \"\"\"Handle a send event.\"\"\"\n\n...........................................................................\nC:\\Users\\Sarath\\Anaconda3\\lib\\site-packages\\zmq\\eventloop\\zmqstream.py in _run_callback(self=<zmq.eventloop.zmqstream.ZMQStream object>, callback=<function wrap.<locals>.null_wrapper>, *args=([<zmq.sugar.frame.Frame object>, <zmq.sugar.frame.Frame object>, <zmq.sugar.frame.Frame object>, <zmq.sugar.frame.Frame object>, <zmq.sugar.frame.Frame object>, <zmq.sugar.frame.Frame object>, <zmq.sugar.frame.Frame object>],), **kwargs={})\n    427         close our socket.\"\"\"\n    428         try:\n    429             # Use a NullContext to ensure that all StackContexts are run\n    430             # inside our blanket exception handler rather than outside.\n    431             with stack_context.NullContext():\n--> 432                 callback(*args, **kwargs)\n        callback = <function wrap.<locals>.null_wrapper>\n        args = ([<zmq.sugar.frame.Frame object>, <zmq.sugar.frame.Frame object>, <zmq.sugar.frame.Frame object>, <zmq.sugar.frame.Frame object>, <zmq.sugar.frame.Frame object>, <zmq.sugar.frame.Frame object>, <zmq.sugar.frame.Frame object>],)\n        kwargs = {}\n    433         except:\n    434             gen_log.error(\"Uncaught exception in ZMQStream callback\",\n    435                           exc_info=True)\n    436             # Re-raise the exception so that IOLoop.handle_callback_exception\n\n...........................................................................\nC:\\Users\\Sarath\\Anaconda3\\lib\\site-packages\\tornado\\stack_context.py in null_wrapper(*args=([<zmq.sugar.frame.Frame object>, <zmq.sugar.frame.Frame object>, <zmq.sugar.frame.Frame object>, <zmq.sugar.frame.Frame object>, <zmq.sugar.frame.Frame object>, <zmq.sugar.frame.Frame object>, <zmq.sugar.frame.Frame object>],), **kwargs={})\n    295         # Fast path when there are no active contexts.\n    296         def null_wrapper(*args, **kwargs):\n    297             try:\n    298                 current_state = _state.contexts\n    299                 _state.contexts = cap_contexts[0]\n--> 300                 return fn(*args, **kwargs)\n        args = ([<zmq.sugar.frame.Frame object>, <zmq.sugar.frame.Frame object>, <zmq.sugar.frame.Frame object>, <zmq.sugar.frame.Frame object>, <zmq.sugar.frame.Frame object>, <zmq.sugar.frame.Frame object>, <zmq.sugar.frame.Frame object>],)\n        kwargs = {}\n    301             finally:\n    302                 _state.contexts = current_state\n    303         null_wrapper._wrapped = True\n    304         return null_wrapper\n\n...........................................................................\nC:\\Users\\Sarath\\Anaconda3\\lib\\site-packages\\ipykernel\\kernelbase.py in dispatcher(msg=[<zmq.sugar.frame.Frame object>, <zmq.sugar.frame.Frame object>, <zmq.sugar.frame.Frame object>, <zmq.sugar.frame.Frame object>, <zmq.sugar.frame.Frame object>, <zmq.sugar.frame.Frame object>, <zmq.sugar.frame.Frame object>])\n    278         if self.control_stream:\n    279             self.control_stream.on_recv(self.dispatch_control, copy=False)\n    280 \n    281         def make_dispatcher(stream):\n    282             def dispatcher(msg):\n--> 283                 return self.dispatch_shell(stream, msg)\n        msg = [<zmq.sugar.frame.Frame object>, <zmq.sugar.frame.Frame object>, <zmq.sugar.frame.Frame object>, <zmq.sugar.frame.Frame object>, <zmq.sugar.frame.Frame object>, <zmq.sugar.frame.Frame object>, <zmq.sugar.frame.Frame object>]\n    284             return dispatcher\n    285 \n    286         for s in self.shell_streams:\n    287             s.on_recv(make_dispatcher(s), copy=False)\n\n...........................................................................\nC:\\Users\\Sarath\\Anaconda3\\lib\\site-packages\\ipykernel\\kernelbase.py in dispatch_shell(self=<ipykernel.ipkernel.IPythonKernel object>, stream=<zmq.eventloop.zmqstream.ZMQStream object>, msg={'buffers': [], 'content': {'allow_stdin': True, 'code': 'if __name__ == \"__main__\":\\n    grid_search = Gri...\\'Accuracy:\\', accuracy_score(y_test, predictions))', 'silent': False, 'stop_on_error': True, 'store_history': True, 'user_expressions': {}}, 'header': {'date': datetime.datetime(2019, 3, 28, 8, 36, 24, 323722, tzinfo=tzutc()), 'msg_id': '54d32f74d0e04b4c8f6a1f6ab4feeff8', 'msg_type': 'execute_request', 'session': '9a89fd109ead475682fddc7b9f263ebf', 'username': 'username', 'version': '5.2'}, 'metadata': {}, 'msg_id': '54d32f74d0e04b4c8f6a1f6ab4feeff8', 'msg_type': 'execute_request', 'parent_header': {}})\n    228             self.log.warning(\"Unknown message type: %r\", msg_type)\n    229         else:\n    230             self.log.debug(\"%s: %s\", msg_type, msg)\n    231             self.pre_handler_hook()\n    232             try:\n--> 233                 handler(stream, idents, msg)\n        handler = <bound method Kernel.execute_request of <ipykernel.ipkernel.IPythonKernel object>>\n        stream = <zmq.eventloop.zmqstream.ZMQStream object>\n        idents = [b'9a89fd109ead475682fddc7b9f263ebf']\n        msg = {'buffers': [], 'content': {'allow_stdin': True, 'code': 'if __name__ == \"__main__\":\\n    grid_search = Gri...\\'Accuracy:\\', accuracy_score(y_test, predictions))', 'silent': False, 'stop_on_error': True, 'store_history': True, 'user_expressions': {}}, 'header': {'date': datetime.datetime(2019, 3, 28, 8, 36, 24, 323722, tzinfo=tzutc()), 'msg_id': '54d32f74d0e04b4c8f6a1f6ab4feeff8', 'msg_type': 'execute_request', 'session': '9a89fd109ead475682fddc7b9f263ebf', 'username': 'username', 'version': '5.2'}, 'metadata': {}, 'msg_id': '54d32f74d0e04b4c8f6a1f6ab4feeff8', 'msg_type': 'execute_request', 'parent_header': {}}\n    234             except Exception:\n    235                 self.log.error(\"Exception in message handler:\", exc_info=True)\n    236             finally:\n    237                 self.post_handler_hook()\n\n...........................................................................\nC:\\Users\\Sarath\\Anaconda3\\lib\\site-packages\\ipykernel\\kernelbase.py in execute_request(self=<ipykernel.ipkernel.IPythonKernel object>, stream=<zmq.eventloop.zmqstream.ZMQStream object>, ident=[b'9a89fd109ead475682fddc7b9f263ebf'], parent={'buffers': [], 'content': {'allow_stdin': True, 'code': 'if __name__ == \"__main__\":\\n    grid_search = Gri...\\'Accuracy:\\', accuracy_score(y_test, predictions))', 'silent': False, 'stop_on_error': True, 'store_history': True, 'user_expressions': {}}, 'header': {'date': datetime.datetime(2019, 3, 28, 8, 36, 24, 323722, tzinfo=tzutc()), 'msg_id': '54d32f74d0e04b4c8f6a1f6ab4feeff8', 'msg_type': 'execute_request', 'session': '9a89fd109ead475682fddc7b9f263ebf', 'username': 'username', 'version': '5.2'}, 'metadata': {}, 'msg_id': '54d32f74d0e04b4c8f6a1f6ab4feeff8', 'msg_type': 'execute_request', 'parent_header': {}})\n    394         if not silent:\n    395             self.execution_count += 1\n    396             self._publish_execute_input(code, parent, self.execution_count)\n    397 \n    398         reply_content = self.do_execute(code, silent, store_history,\n--> 399                                         user_expressions, allow_stdin)\n        user_expressions = {}\n        allow_stdin = True\n    400 \n    401         # Flush output before sending the reply.\n    402         sys.stdout.flush()\n    403         sys.stderr.flush()\n\n...........................................................................\nC:\\Users\\Sarath\\Anaconda3\\lib\\site-packages\\ipykernel\\ipkernel.py in do_execute(self=<ipykernel.ipkernel.IPythonKernel object>, code='if __name__ == \"__main__\":\\n    grid_search = Gri...\\'Accuracy:\\', accuracy_score(y_test, predictions))', silent=False, store_history=True, user_expressions={}, allow_stdin=True)\n    203 \n    204         self._forward_input(allow_stdin)\n    205 \n    206         reply_content = {}\n    207         try:\n--> 208             res = shell.run_cell(code, store_history=store_history, silent=silent)\n        res = undefined\n        shell.run_cell = <bound method ZMQInteractiveShell.run_cell of <ipykernel.zmqshell.ZMQInteractiveShell object>>\n        code = 'if __name__ == \"__main__\":\\n    grid_search = Gri...\\'Accuracy:\\', accuracy_score(y_test, predictions))'\n        store_history = True\n        silent = False\n    209         finally:\n    210             self._restore_input()\n    211 \n    212         if res.error_before_exec is not None:\n\n...........................................................................\nC:\\Users\\Sarath\\Anaconda3\\lib\\site-packages\\ipykernel\\zmqshell.py in run_cell(self=<ipykernel.zmqshell.ZMQInteractiveShell object>, *args=('if __name__ == \"__main__\":\\n    grid_search = Gri...\\'Accuracy:\\', accuracy_score(y_test, predictions))',), **kwargs={'silent': False, 'store_history': True})\n    532             )\n    533         self.payload_manager.write_payload(payload)\n    534 \n    535     def run_cell(self, *args, **kwargs):\n    536         self._last_traceback = None\n--> 537         return super(ZMQInteractiveShell, self).run_cell(*args, **kwargs)\n        self.run_cell = <bound method ZMQInteractiveShell.run_cell of <ipykernel.zmqshell.ZMQInteractiveShell object>>\n        args = ('if __name__ == \"__main__\":\\n    grid_search = Gri...\\'Accuracy:\\', accuracy_score(y_test, predictions))',)\n        kwargs = {'silent': False, 'store_history': True}\n    538 \n    539     def _showtraceback(self, etype, evalue, stb):\n    540         # try to preserve ordering of tracebacks and print statements\n    541         sys.stdout.flush()\n\n...........................................................................\nC:\\Users\\Sarath\\Anaconda3\\lib\\site-packages\\IPython\\core\\interactiveshell.py in run_cell(self=<ipykernel.zmqshell.ZMQInteractiveShell object>, raw_cell='if __name__ == \"__main__\":\\n    grid_search = Gri...\\'Accuracy:\\', accuracy_score(y_test, predictions))', store_history=True, silent=False, shell_futures=True)\n   2657         -------\n   2658         result : :class:`ExecutionResult`\n   2659         \"\"\"\n   2660         try:\n   2661             result = self._run_cell(\n-> 2662                 raw_cell, store_history, silent, shell_futures)\n        raw_cell = 'if __name__ == \"__main__\":\\n    grid_search = Gri...\\'Accuracy:\\', accuracy_score(y_test, predictions))'\n        store_history = True\n        silent = False\n        shell_futures = True\n   2663         finally:\n   2664             self.events.trigger('post_execute')\n   2665             if not silent:\n   2666                 self.events.trigger('post_run_cell', result)\n\n...........................................................................\nC:\\Users\\Sarath\\Anaconda3\\lib\\site-packages\\IPython\\core\\interactiveshell.py in _run_cell(self=<ipykernel.zmqshell.ZMQInteractiveShell object>, raw_cell='if __name__ == \"__main__\":\\n    grid_search = Gri...\\'Accuracy:\\', accuracy_score(y_test, predictions))', store_history=True, silent=False, shell_futures=True)\n   2780                 self.displayhook.exec_result = result\n   2781 \n   2782                 # Execute the user code\n   2783                 interactivity = 'none' if silent else self.ast_node_interactivity\n   2784                 has_raised = self.run_ast_nodes(code_ast.body, cell_name,\n-> 2785                    interactivity=interactivity, compiler=compiler, result=result)\n        interactivity = 'last_expr'\n        compiler = <IPython.core.compilerop.CachingCompiler object>\n   2786                 \n   2787                 self.last_execution_succeeded = not has_raised\n   2788                 self.last_execution_result = result\n   2789 \n\n...........................................................................\nC:\\Users\\Sarath\\Anaconda3\\lib\\site-packages\\IPython\\core\\interactiveshell.py in run_ast_nodes(self=<ipykernel.zmqshell.ZMQInteractiveShell object>, nodelist=[<_ast.If object>], cell_name='<ipython-input-52-d9eff0b324cd>', interactivity='none', compiler=<IPython.core.compilerop.CachingCompiler object>, result=<ExecutionResult object at 10b952b0, execution_c...rue silent=False shell_futures=True> result=None>)\n   2896             raise ValueError(\"Interactivity was %r\" % interactivity)\n   2897         try:\n   2898             for i, node in enumerate(to_run_exec):\n   2899                 mod = ast.Module([node])\n   2900                 code = compiler(mod, cell_name, \"exec\")\n-> 2901                 if self.run_code(code, result):\n        self.run_code = <bound method InteractiveShell.run_code of <ipykernel.zmqshell.ZMQInteractiveShell object>>\n        code = <code object <module> at 0x10C906A8, file \"<ipython-input-52-d9eff0b324cd>\", line 1>\n        result = <ExecutionResult object at 10b952b0, execution_c...rue silent=False shell_futures=True> result=None>\n   2902                     return True\n   2903 \n   2904             for i, node in enumerate(to_run_interactive):\n   2905                 mod = ast.Interactive([node])\n\n...........................................................................\nC:\\Users\\Sarath\\Anaconda3\\lib\\site-packages\\IPython\\core\\interactiveshell.py in run_code(self=<ipykernel.zmqshell.ZMQInteractiveShell object>, code_obj=<code object <module> at 0x10C906A8, file \"<ipython-input-52-d9eff0b324cd>\", line 1>, result=<ExecutionResult object at 10b952b0, execution_c...rue silent=False shell_futures=True> result=None>)\n   2956         outflag = True  # happens in more places, so it's easier as default\n   2957         try:\n   2958             try:\n   2959                 self.hooks.pre_run_code_hook()\n   2960                 #rprint('Running code', repr(code_obj)) # dbg\n-> 2961                 exec(code_obj, self.user_global_ns, self.user_ns)\n        code_obj = <code object <module> at 0x10C906A8, file \"<ipython-input-52-d9eff0b324cd>\", line 1>\n        self.user_global_ns = {'CountVectorizer': <class 'sklearn.feature_extraction.text.CountVectorizer'>, 'Counter': <class 'collections.Counter'>, 'DataFrameMapper': <class 'sklearn_pandas.dataframe_mapper.DataFrameMapper'>, 'GridSearchCV': <class 'sklearn.model_selection._search.GridSearchCV'>, 'In': ['', \"#removing the altmeric word in article name\\ndef ...e_name = ' '.join(a)\\n    return article_name\\n    \", 'from fuzzywuzzy import fuzz\\n#replacing the tile ...           print(text)\\n    return text\\n    \\n     ', 'from fuzzywuzzy import fuzz\\nimport warnings\\nwarn...           print(text)\\n    return text\\n    \\n     ', 'def fuzzy_place_3(str_a, str_b, orig_str):\\n    t...   \\n                    \\n    return text\\n        ', 'import re\\nfrom fuzzywuzzy import fuzz', \"#negation count function\\nimport nltk\\nimport nltk...en(re.findall('\\\\w+_NEG', tweet))\\n    return count\", '#number of negative words in a tweet\\ndef neg_wor...       \\n            except: pass\\n    return count', '#no of positive words in a tweet\\ndef pos_word_co...       \\n            except: pass\\n    return count', '#overall score of the tweet\\ndef overall_score(tw...   except: \\n                pass\\n    return score', '#number of adjectives, adverbs and verbs in a tw...cept: pass        \\n    return count              ', '# creating the function to calculate the emotico...   #print(neg_emo_count)\\n    return neg_emo_count', '#count occurences of a ! and ?\\ndef count_occuren...         counter += 1\\n\\n            return counter', '#punctuation count\\nimport string\\ndef punc_count(...t(string.punctuation))\\n    return punct\\n    \\n    ', '# count number of user name mentions\\ndef user_me...weet)\\n    count= len(user_names)\\n    return count', \"import pandas as pd\\nxls = pd.ExcelFile('/Users/S...el(xls, 'pos')\\nneu_df = pd.read_excel(xls, 'neu')\", 'print(len(neg_df))\\nprint(len(pos_df))\\nprint(len(neu_df))', 'neg_df.reset_index(drop=True, inplace= True)\\npos...rue)\\nneu_df.reset_index(drop=True, inplace= True)', 'neg_train_df = neg_df[:800]\\nneg_val_df = neg_df[...n_df = neu_df[:900]\\nneu_val_df = neu_df[900:1100]', 'train_df = neg_train_df.append(pos_train_df, ign...train_df.append(neu_train_df, ignore_index= True)', ...], 'MinMaxScaler': <class 'sklearn.preprocessing.data.MinMaxScaler'>, 'Out': {20: 2600, 22: 449, 26: 3049, 29: Positive    1100\nNeutral     1100\nNegative     849\nName: Label, dtype: int64, 39: count    3049.000000\nmean        9.824205\nstd   ...2.000000\nName: user_mention_count, dtype: float64, 42: 2600}, 'Path': <class 'pathlib.Path'>, 'Pipeline': <class 'sklearn.pipeline.Pipeline'>, 'TfidfVectorizer': <class 'sklearn.feature_extraction.text.TfidfVectorizer'>, ...}\n        self.user_ns = {'CountVectorizer': <class 'sklearn.feature_extraction.text.CountVectorizer'>, 'Counter': <class 'collections.Counter'>, 'DataFrameMapper': <class 'sklearn_pandas.dataframe_mapper.DataFrameMapper'>, 'GridSearchCV': <class 'sklearn.model_selection._search.GridSearchCV'>, 'In': ['', \"#removing the altmeric word in article name\\ndef ...e_name = ' '.join(a)\\n    return article_name\\n    \", 'from fuzzywuzzy import fuzz\\n#replacing the tile ...           print(text)\\n    return text\\n    \\n     ', 'from fuzzywuzzy import fuzz\\nimport warnings\\nwarn...           print(text)\\n    return text\\n    \\n     ', 'def fuzzy_place_3(str_a, str_b, orig_str):\\n    t...   \\n                    \\n    return text\\n        ', 'import re\\nfrom fuzzywuzzy import fuzz', \"#negation count function\\nimport nltk\\nimport nltk...en(re.findall('\\\\w+_NEG', tweet))\\n    return count\", '#number of negative words in a tweet\\ndef neg_wor...       \\n            except: pass\\n    return count', '#no of positive words in a tweet\\ndef pos_word_co...       \\n            except: pass\\n    return count', '#overall score of the tweet\\ndef overall_score(tw...   except: \\n                pass\\n    return score', '#number of adjectives, adverbs and verbs in a tw...cept: pass        \\n    return count              ', '# creating the function to calculate the emotico...   #print(neg_emo_count)\\n    return neg_emo_count', '#count occurences of a ! and ?\\ndef count_occuren...         counter += 1\\n\\n            return counter', '#punctuation count\\nimport string\\ndef punc_count(...t(string.punctuation))\\n    return punct\\n    \\n    ', '# count number of user name mentions\\ndef user_me...weet)\\n    count= len(user_names)\\n    return count', \"import pandas as pd\\nxls = pd.ExcelFile('/Users/S...el(xls, 'pos')\\nneu_df = pd.read_excel(xls, 'neu')\", 'print(len(neg_df))\\nprint(len(pos_df))\\nprint(len(neu_df))', 'neg_df.reset_index(drop=True, inplace= True)\\npos...rue)\\nneu_df.reset_index(drop=True, inplace= True)', 'neg_train_df = neg_df[:800]\\nneg_val_df = neg_df[...n_df = neu_df[:900]\\nneu_val_df = neu_df[900:1100]', 'train_df = neg_train_df.append(pos_train_df, ign...train_df.append(neu_train_df, ignore_index= True)', ...], 'MinMaxScaler': <class 'sklearn.preprocessing.data.MinMaxScaler'>, 'Out': {20: 2600, 22: 449, 26: 3049, 29: Positive    1100\nNeutral     1100\nNegative     849\nName: Label, dtype: int64, 39: count    3049.000000\nmean        9.824205\nstd   ...2.000000\nName: user_mention_count, dtype: float64, 42: 2600}, 'Path': <class 'pathlib.Path'>, 'Pipeline': <class 'sklearn.pipeline.Pipeline'>, 'TfidfVectorizer': <class 'sklearn.feature_extraction.text.TfidfVectorizer'>, ...}\n   2962             finally:\n   2963                 # Reset our crash handler in place\n   2964                 sys.excepthook = old_excepthook\n   2965         except SystemExit as e:\n\n...........................................................................\nC:\\Users\\Sarath\\<ipython-input-52-d9eff0b324cd> in <module>()\n      1 if __name__ == \"__main__\":\n      2     grid_search = GridSearchCV(pipeline, parameters, n_jobs=-1, verbose=1, scoring='accuracy', cv=3)\n----> 3     grid_search.fit(x_train, y_train)\n      4     print('Best score: %0.3f' % grid_search.best_score_)\n      5     print('Best parameters set:')\n      6     best_parameters = grid_search.best_estimator_.get_params()\n      7     #for param_name in sorted(parameters.keys()):\n      8      #   print('\\t%s: %r' % (param_name, best_parameters[param_name]))\n      9     predictions = grid_search.predict(x_test)\n     10     print('Accuracy:', accuracy_score(y_test, predictions))\n\n...........................................................................\nC:\\Users\\Sarath\\Anaconda3\\lib\\site-packages\\sklearn\\model_selection\\_search.py in fit(self=GridSearchCV(cv=3, error_score='raise',\n       e...ore='warn',\n       scoring='accuracy', verbose=1), X=array([[0.        , 0.        , 0.        , ...,....., 0.        , 0.        ,\n        0.        ]]), y=array([0, 0, 0, ..., 1, 1, 1], dtype=int32), groups=None, **fit_params={})\n    634                                   return_train_score=self.return_train_score,\n    635                                   return_n_test_samples=True,\n    636                                   return_times=True, return_parameters=False,\n    637                                   error_score=self.error_score)\n    638           for parameters, (train, test) in product(candidate_params,\n--> 639                                                    cv.split(X, y, groups)))\n        cv.split = <bound method StratifiedKFold.split of Stratifie...ld(n_splits=3, random_state=None, shuffle=False)>\n        X = array([[0.        , 0.        , 0.        , ...,....., 0.        , 0.        ,\n        0.        ]])\n        y = array([0, 0, 0, ..., 1, 1, 1], dtype=int32)\n        groups = None\n    640 \n    641         # if one choose to see train score, \"out\" will contain train score info\n    642         if self.return_train_score:\n    643             (train_score_dicts, test_score_dicts, test_sample_counts, fit_time,\n\n...........................................................................\nC:\\Users\\Sarath\\Anaconda3\\lib\\site-packages\\sklearn\\externals\\joblib\\parallel.py in __call__(self=Parallel(n_jobs=-1), iterable=<generator object BaseSearchCV.fit.<locals>.<genexpr>>)\n    784             if pre_dispatch == \"all\" or n_jobs == 1:\n    785                 # The iterable was consumed all at once by the above for loop.\n    786                 # No need to wait for async callbacks to trigger to\n    787                 # consumption.\n    788                 self._iterating = False\n--> 789             self.retrieve()\n        self.retrieve = <bound method Parallel.retrieve of Parallel(n_jobs=-1)>\n    790             # Make sure that we get a last message telling us we are done\n    791             elapsed_time = time.time() - self._start_time\n    792             self._print('Done %3i out of %3i | elapsed: %s finished',\n    793                         (len(self._output), len(self._output),\n\n---------------------------------------------------------------------------\nSub-process traceback:\n---------------------------------------------------------------------------\nIndexError                                         Thu Mar 28 16:37:25 2019\nPID: 10388               Python 3.6.5: C:\\Users\\Sarath\\Anaconda3\\python.exe\n...........................................................................\nC:\\Users\\Sarath\\Anaconda3\\lib\\site-packages\\sklearn\\externals\\joblib\\parallel.py in __call__(self=<sklearn.externals.joblib.parallel.BatchedCalls object>)\n    126     def __init__(self, iterator_slice):\n    127         self.items = list(iterator_slice)\n    128         self._size = len(self.items)\n    129 \n    130     def __call__(self):\n--> 131         return [func(*args, **kwargs) for func, args, kwargs in self.items]\n        self.items = [(<function _fit_and_score>, (Pipeline(memory=None,\n     steps=[('vect', DataF...e, shrinking=True,\n  tol=0.001, verbose=False))]), memmap([[0.        , 0.        , 0.        , ......., 0.        , 0.        ,\n         0.        ]]), array([0, 0, 0, ..., 1, 1, 1]), {'score': make_scorer(accuracy_score)}, array([ 267,  268,  269, ..., 2597, 2598, 2599]), array([   0,    1,    2,    3,    4,    5,    6,... 1992, 1993, 1994, 1995, 1996, 1997, 1998, 1999]), 1, {'clf__C': 0.1, 'clf__gamma': 0.01}), {'error_score': 'raise', 'fit_params': {}, 'return_n_test_samples': True, 'return_parameters': False, 'return_times': True, 'return_train_score': 'warn'})]\n    132 \n    133     def __len__(self):\n    134         return self._size\n    135 \n\n...........................................................................\nC:\\Users\\Sarath\\Anaconda3\\lib\\site-packages\\sklearn\\externals\\joblib\\parallel.py in <listcomp>(.0=<list_iterator object>)\n    126     def __init__(self, iterator_slice):\n    127         self.items = list(iterator_slice)\n    128         self._size = len(self.items)\n    129 \n    130     def __call__(self):\n--> 131         return [func(*args, **kwargs) for func, args, kwargs in self.items]\n        func = <function _fit_and_score>\n        args = (Pipeline(memory=None,\n     steps=[('vect', DataF...e, shrinking=True,\n  tol=0.001, verbose=False))]), memmap([[0.        , 0.        , 0.        , ......., 0.        , 0.        ,\n         0.        ]]), array([0, 0, 0, ..., 1, 1, 1]), {'score': make_scorer(accuracy_score)}, array([ 267,  268,  269, ..., 2597, 2598, 2599]), array([   0,    1,    2,    3,    4,    5,    6,... 1992, 1993, 1994, 1995, 1996, 1997, 1998, 1999]), 1, {'clf__C': 0.1, 'clf__gamma': 0.01})\n        kwargs = {'error_score': 'raise', 'fit_params': {}, 'return_n_test_samples': True, 'return_parameters': False, 'return_times': True, 'return_train_score': 'warn'}\n    132 \n    133     def __len__(self):\n    134         return self._size\n    135 \n\n...........................................................................\nC:\\Users\\Sarath\\Anaconda3\\lib\\site-packages\\sklearn\\model_selection\\_validation.py in _fit_and_score(estimator=Pipeline(memory=None,\n     steps=[('vect', DataF...e, shrinking=True,\n  tol=0.001, verbose=False))]), X=memmap([[0.        , 0.        , 0.        , ......., 0.        , 0.        ,\n         0.        ]]), y=array([0, 0, 0, ..., 1, 1, 1]), scorer={'score': make_scorer(accuracy_score)}, train=array([ 267,  268,  269, ..., 2597, 2598, 2599]), test=array([   0,    1,    2,    3,    4,    5,    6,... 1992, 1993, 1994, 1995, 1996, 1997, 1998, 1999]), verbose=1, parameters={'clf__C': 0.1, 'clf__gamma': 0.01}, fit_params={}, return_train_score='warn', return_parameters=False, return_n_test_samples=True, return_times=True, error_score='raise')\n    453 \n    454     try:\n    455         if y_train is None:\n    456             estimator.fit(X_train, **fit_params)\n    457         else:\n--> 458             estimator.fit(X_train, y_train, **fit_params)\n        estimator.fit = <bound method Pipeline.fit of Pipeline(memory=No..., shrinking=True,\n  tol=0.001, verbose=False))])>\n        X_train = memmap([[0.        , 0.        , 0.        , ......., 0.        , 0.        ,\n         0.        ]])\n        y_train = array([0, 0, 0, ..., 1, 1, 1])\n        fit_params = {}\n    459 \n    460     except Exception as e:\n    461         # Note fit time as time until error\n    462         fit_time = time.time() - start_time\n\n...........................................................................\nC:\\Users\\Sarath\\Anaconda3\\lib\\site-packages\\sklearn\\pipeline.py in fit(self=Pipeline(memory=None,\n     steps=[('vect', DataF...e, shrinking=True,\n  tol=0.001, verbose=False))]), X=memmap([[0.        , 0.        , 0.        , ......., 0.        , 0.        ,\n         0.        ]]), y=array([0, 0, 0, ..., 1, 1, 1]), **fit_params={})\n    243         Returns\n    244         -------\n    245         self : Pipeline\n    246             This estimator\n    247         \"\"\"\n--> 248         Xt, fit_params = self._fit(X, y, **fit_params)\n        Xt = undefined\n        fit_params = {}\n        self._fit = <bound method Pipeline._fit of Pipeline(memory=N..., shrinking=True,\n  tol=0.001, verbose=False))])>\n        X = memmap([[0.        , 0.        , 0.        , ......., 0.        , 0.        ,\n         0.        ]])\n        y = array([0, 0, 0, ..., 1, 1, 1])\n    249         if self._final_estimator is not None:\n    250             self._final_estimator.fit(Xt, y, **fit_params)\n    251         return self\n    252 \n\n...........................................................................\nC:\\Users\\Sarath\\Anaconda3\\lib\\site-packages\\sklearn\\pipeline.py in _fit(self=Pipeline(memory=None,\n     steps=[('vect', DataF...e, shrinking=True,\n  tol=0.001, verbose=False))]), X=memmap([[0.        , 0.        , 0.        , ......., 0.        , 0.        ,\n         0.        ]]), y=array([0, 0, 0, ..., 1, 1, 1]), **fit_params={})\n    208                 else:\n    209                     cloned_transformer = clone(transformer)\n    210                 # Fit or load from cache the current transfomer\n    211                 Xt, fitted_transformer = fit_transform_one_cached(\n    212                     cloned_transformer, None, Xt, y,\n--> 213                     **fit_params_steps[name])\n        fit_params_steps = {'clf': {}, 'vect': {}}\n        name = 'vect'\n    214                 # Replace the transformer of the step with the fitted\n    215                 # transformer. This is necessary when loading the transformer\n    216                 # from the cache.\n    217                 self.steps[step_idx] = (name, fitted_transformer)\n\n...........................................................................\nC:\\Users\\Sarath\\Anaconda3\\lib\\site-packages\\sklearn\\externals\\joblib\\memory.py in __call__(self=NotMemorizedFunc(func=<function _fit_transform_one at 0x0D17C348>), *args=(DataFrameMapper(default=False, df_out=False,\n   ...None, {})],\n        input_df=False, sparse=False), None, memmap([[0.        , 0.        , 0.        , ......., 0.        , 0.        ,\n         0.        ]]), array([0, 0, 0, ..., 1, 1, 1])), **kwargs={})\n    357     # Should be a light as possible (for speed)\n    358     def __init__(self, func):\n    359         self.func = func\n    360 \n    361     def __call__(self, *args, **kwargs):\n--> 362         return self.func(*args, **kwargs)\n        self.func = <function _fit_transform_one>\n        args = (DataFrameMapper(default=False, df_out=False,\n   ...None, {})],\n        input_df=False, sparse=False), None, memmap([[0.        , 0.        , 0.        , ......., 0.        , 0.        ,\n         0.        ]]), array([0, 0, 0, ..., 1, 1, 1]))\n        kwargs = {}\n    363 \n    364     def call_and_shelve(self, *args, **kwargs):\n    365         return NotMemorizedResult(self.func(*args, **kwargs))\n    366 \n\n...........................................................................\nC:\\Users\\Sarath\\Anaconda3\\lib\\site-packages\\sklearn\\pipeline.py in _fit_transform_one(transformer=DataFrameMapper(default=False, df_out=False,\n   ...None, {})],\n        input_df=False, sparse=False), weight=None, X=memmap([[0.        , 0.        , 0.        , ......., 0.        , 0.        ,\n         0.        ]]), y=array([0, 0, 0, ..., 1, 1, 1]), **fit_params={})\n    576 \n    577 \n    578 def _fit_transform_one(transformer, weight, X, y,\n    579                        **fit_params):\n    580     if hasattr(transformer, 'fit_transform'):\n--> 581         res = transformer.fit_transform(X, y, **fit_params)\n        res = undefined\n        transformer.fit_transform = <bound method DataFrameMapper.fit_transform of D...one, {})],\n        input_df=False, sparse=False)>\n        X = memmap([[0.        , 0.        , 0.        , ......., 0.        , 0.        ,\n         0.        ]])\n        y = array([0, 0, 0, ..., 1, 1, 1])\n        fit_params = {}\n    582     else:\n    583         res = transformer.fit(X, y, **fit_params).transform(X)\n    584     # if we have a weight for this transformer, multiply output\n    585     if weight is None:\n\n...........................................................................\nC:\\Users\\Sarath\\Anaconda3\\lib\\site-packages\\sklearn_pandas\\dataframe_mapper.py in fit_transform(self=DataFrameMapper(default=False, df_out=False,\n   ...None, {})],\n        input_df=False, sparse=False), X=memmap([[0.        , 0.        , 0.        , ......., 0.        , 0.        ,\n         0.        ]]), y=array([0, 0, 0, ..., 1, 1, 1]))\n    383 \n    384         X       the data to fit\n    385 \n    386         y       the target vector relative to X, optional\n    387         \"\"\"\n--> 388         return self._transform(X, y, True)\n        self._transform = <bound method DataFrameMapper._transform of Data...one, {})],\n        input_df=False, sparse=False)>\n        X = memmap([[0.        , 0.        , 0.        , ......., 0.        , 0.        ,\n         0.        ]])\n        y = array([0, 0, 0, ..., 1, 1, 1])\n\n...........................................................................\nC:\\Users\\Sarath\\Anaconda3\\lib\\site-packages\\sklearn_pandas\\dataframe_mapper.py in _transform(self=DataFrameMapper(default=False, df_out=False,\n   ...None, {})],\n        input_df=False, sparse=False), X=memmap([[0.        , 0.        , 0.        , ......., 0.        , 0.        ,\n         0.        ]]), y=array([0, 0, 0, ..., 1, 1, 1]), do_fit=True)\n    293             input_df = options.get('input_df', self.input_df)\n    294 \n    295             # columns could be a string or list of\n    296             # strings; we don't care because pandas\n    297             # will handle either.\n--> 298             Xt = self._get_col_subset(X, columns, input_df)\n        Xt = undefined\n        self._get_col_subset = <bound method DataFrameMapper._get_col_subset of...one, {})],\n        input_df=False, sparse=False)>\n        X = memmap([[0.        , 0.        , 0.        , ......., 0.        , 0.        ,\n         0.        ]])\n        columns = 'new_tweet_post'\n        input_df = False\n    299             if transformers is not None:\n    300                 with add_column_names_to_exception(columns):\n    301                     if do_fit and hasattr(transformers, 'fit_transform'):\n    302                         Xt = _call_fit(transformers.fit_transform, Xt, y)\n\n...........................................................................\nC:\\Users\\Sarath\\Anaconda3\\lib\\site-packages\\sklearn_pandas\\dataframe_mapper.py in _get_col_subset(self=DataFrameMapper(default=False, df_out=False,\n   ...None, {})],\n        input_df=False, sparse=False), X=memmap([[0.        , 0.        , 0.        , ......., 0.        , 0.        ,\n         0.        ]]), cols=['new_tweet_post'], input_df=False)\n    187 \n    188         elif isinstance(X, DataWrapper):\n    189             X = X.df  # fetch underlying data\n    190 \n    191         if return_vector:\n--> 192             t = X[cols[0]]\n        t = undefined\n        X = memmap([[0.        , 0.        , 0.        , ......., 0.        , 0.        ,\n         0.        ]])\n        cols = ['new_tweet_post']\n    193         else:\n    194             t = X[cols]\n    195 \n    196         # return either a DataFrame/Series or a numpy array\n\n...........................................................................\nC:\\Users\\Sarath\\Anaconda3\\lib\\site-packages\\numpy\\core\\memmap.py in __getitem__(self=memmap([[0.        , 0.        , 0.        , ......., 0.        , 0.        ,\n         0.        ]]), index='new_tweet_post')\n    326             return arr[()]\n    327         # Return ndarray otherwise\n    328         return arr.view(np.ndarray)\n    329 \n    330     def __getitem__(self, index):\n--> 331         res = super(memmap, self).__getitem__(index)\n        res = undefined\n        self.__getitem__ = <bound method memmap.__getitem__ of memmap([[0. ..., 0.        , 0.        ,\n         0.        ]])>\n        index = 'new_tweet_post'\n    332         if type(res) is memmap and res._mmap is None:\n    333             return res.view(type=ndarray)\n    334         return res\n\nIndexError: only integers, slices (`:`), ellipsis (`...`), numpy.newaxis (`None`) and integer or boolean arrays are valid indices\n___________________________________________________________________________"
          ]
        }
      ]
    },
    {
      "metadata": {
        "trusted": false
      },
      "cell_type": "code",
      "source": "",
      "execution_count": null,
      "outputs": []
    },
    {
      "metadata": {
        "trusted": false
      },
      "cell_type": "code",
      "source": "import matplotlib.pyplot as plt\nplt.figure(1)\nplt.subplot(131)\ndf[df['Label']=='Positive']['pos_count'].value_counts().plot.bar(title='POS')\nplt.subplot(132)\ndf[df['Label']=='Negative']['pos_count'].value_counts().plot.bar(title = 'NEG')\nplt.subplot(133)\ndf[df['Label']=='Neutral']['pos_count'].value_counts().plot.bar(title = 'NEU')\n",
      "execution_count": 136,
      "outputs": [
        {
          "data": {
            "text/plain": "<matplotlib.axes._subplots.AxesSubplot at 0x1bbb9210>"
          },
          "execution_count": 136,
          "metadata": {},
          "output_type": "execute_result"
        },
        {
          "data": {
            "image/png": "[encoded data removed]",
            "text/plain": "<matplotlib.figure.Figure at 0x1bb5b130>"
          },
          "metadata": {
            "needs_background": "light"
          },
          "output_type": "display_data"
        }
      ]
    },
    {
      "metadata": {
        "trusted": false
      },
      "cell_type": "code",
      "source": "import matplotlib.pyplot as plt\nplt.figure(1)\nplt.subplot(131)\ndf[df['Label']=='Positive']['pos_tagging_count'].value_counts().plot.bar(title='POS',figsize=(8,5))\nplt.subplot(132)\ndf[df['Label']=='Negative']['pos_tagging_count'].value_counts().plot.bar(title='NEG')\nplt.subplot(133)\ndf[df['Label']=='Neutral']['pos_tagging_count'].value_counts().plot.bar(title='NEU')\n",
      "execution_count": 156,
      "outputs": [
        {
          "data": {
            "text/plain": "<matplotlib.axes._subplots.AxesSubplot at 0x4f6f1570>"
          },
          "execution_count": 156,
          "metadata": {},
          "output_type": "execute_result"
        },
        {
          "data": {
            "image/png": "[encoded data removed]",
            "text/plain": "<matplotlib.figure.Figure at 0x4f5d3430>"
          },
          "metadata": {
            "needs_background": "light"
          },
          "output_type": "display_data"
        }
      ]
    },
    {
      "metadata": {
        "trusted": false
      },
      "cell_type": "code",
      "source": "df.columns",
      "execution_count": 166,
      "outputs": [
        {
          "data": {
            "text/plain": "Index(['citation', 'altid', 'count', 'profile_link', 'profile_name',\n       'display_name', 'tweet_post', 'post_time', 'post_URL', 'article_name',\n       'Language', 'sentiment', 'subjectivity', 'polarity', 'Label',\n       'new_tweet_post', 'number_of_uppercase', 'number_of_urls',\n       'number_of_hashtags', 'number_of_negation', 'neg_count', 'pos_count',\n       'overall_score', 'pos_tagging_count', 'Exclamation_count',\n       'question_mark_count', 'punc_count', 'user_mention_count',\n       'pos_emo_count', 'neg_emo_count'],\n      dtype='object')"
          },
          "execution_count": 166,
          "metadata": {},
          "output_type": "execute_result"
        }
      ]
    },
    {
      "metadata": {
        "trusted": false
      },
      "cell_type": "code",
      "source": "df[df['Label']=='Positive']['number_of_urls'].value_counts()",
      "execution_count": 193,
      "outputs": [
        {
          "data": {
            "text/plain": "1    878\n0    108\n2    105\n3      8\n5      1\nName: number_of_urls, dtype: int64"
          },
          "execution_count": 193,
          "metadata": {},
          "output_type": "execute_result"
        }
      ]
    },
    {
      "metadata": {
        "trusted": false
      },
      "cell_type": "code",
      "source": "url=pd.crosstab(df['neg_count'],df['Label'])\nurl.div(url.sum(1).astype(float), axis=0).plot(kind=\"bar\", stacked=True, figsize=(4,4), legend = True)",
      "execution_count": 159,
      "outputs": [
        {
          "data": {
            "text/plain": "<matplotlib.axes._subplots.AxesSubplot at 0x4f6b8b10>"
          },
          "execution_count": 159,
          "metadata": {},
          "output_type": "execute_result"
        },
        {
          "data": {
            "image/png": "[encoded data removed]",
            "text/plain": "<matplotlib.figure.Figure at 0x4f90bbb0>"
          },
          "metadata": {
            "needs_background": "light"
          },
          "output_type": "display_data"
        }
      ]
    },
    {
      "metadata": {
        "trusted": false
      },
      "cell_type": "code",
      "source": "tweet = 'worst paper too sad never outstanding'",
      "execution_count": 107,
      "outputs": []
    },
    {
      "metadata": {
        "trusted": false
      },
      "cell_type": "code",
      "source": "las_pol_2(tweet)",
      "execution_count": 108,
      "outputs": [
        {
          "name": "stdout",
          "output_type": "stream",
          "text": "1\n1\n"
        },
        {
          "data": {
            "text/plain": "1"
          },
          "execution_count": 108,
          "metadata": {},
          "output_type": "execute_result"
        }
      ]
    },
    {
      "metadata": {
        "trusted": false
      },
      "cell_type": "code",
      "source": "l = (tweet.split())[-1]",
      "execution_count": 83,
      "outputs": []
    },
    {
      "metadata": {
        "trusted": false
      },
      "cell_type": "code",
      "source": "#number of adjectives, adverbs and verbs in a tweet\ndef pos_count(tweet):\n    count = 0\n    l = ['adj','adverb','verb']\n    for i in tweet.split():\n        if i in lexicon:\n            #print(i)\n            try:\n                pos_tag = lexicon[i][1]\n                if pos_tag in l:\n                    #print(lexicon[i])\n                    if lexicon[i][0] == 1:\n                        count+=1\n\n            except: \n                pass\n    return count     ",
      "execution_count": 160,
      "outputs": []
    },
    {
      "metadata": {
        "trusted": false
      },
      "cell_type": "code",
      "source": "df['pos_tagg_pos_count'] = df['new_tweet_post'].apply(pos_count)",
      "execution_count": 162,
      "outputs": []
    },
    {
      "metadata": {
        "trusted": false
      },
      "cell_type": "code",
      "source": "i = 'New'",
      "execution_count": 141,
      "outputs": []
    },
    {
      "metadata": {
        "scrolled": true,
        "trusted": false
      },
      "cell_type": "code",
      "source": "lexicon[i]",
      "execution_count": 142,
      "outputs": [
        {
          "data": {
            "text/plain": "[]"
          },
          "execution_count": 142,
          "metadata": {},
          "output_type": "execute_result"
        }
      ]
    },
    {
      "metadata": {
        "trusted": false
      },
      "cell_type": "code",
      "source": "tweet = clean_tweet(tweet)\ntweet = preprocess(tweet)",
      "execution_count": 137,
      "outputs": []
    },
    {
      "metadata": {
        "trusted": false
      },
      "cell_type": "code",
      "source": "count = 0\nl = ['adj','adverb','verb']\nfor i in tweet.split():\n    if i in lexicon:\n        print(i)\n        try:\n            pos_tag = lexicon[i][1]\n            if pos_tag in l:\n                print(lexicon[i])\n                if lexicon[i][0] == -1:\n                    count+=1\n                    \n        except: \n            pass\nreturn count        ",
      "execution_count": 156,
      "outputs": [
        {
          "name": "stdout",
          "output_type": "stream",
          "text": "aggression\n[-1, 'adj', -1, 'noun']\nresearch\naggression\n[-1, 'adj', -1, 'noun']\n2\n"
        }
      ]
    },
    {
      "metadata": {
        "trusted": false
      },
      "cell_type": "code",
      "source": "from nltk.corpus import stopwords\ndef remove_stopwords(tweet):\n    \"\"\"Remove stop words from list of tokenized words\"\"\"\n    new_words = []\n    words = tweet.split()\n    for word in words:\n        if word not in stopwords.words('english'):\n            new_words.append(word)\n    tweet = ' '.join(new_words)        \n    return tweet",
      "execution_count": 127,
      "outputs": []
    },
    {
      "metadata": {
        "trusted": false
      },
      "cell_type": "code",
      "source": " tweet = remove_stopwords(tweet)",
      "execution_count": 124,
      "outputs": []
    },
    {
      "metadata": {
        "trusted": false
      },
      "cell_type": "code",
      "source": "df['new_tweet_post'] = df['tweet_post'].apply(remove_stopwords)\ndf['new_title'] = df['article_name'].apply(remove_stopwords)",
      "execution_count": 71,
      "outputs": []
    },
    {
      "metadata": {
        "trusted": false
      },
      "cell_type": "code",
      "source": "new_tweet_post = []\nfor article, tpost in zip(df.article_name, df.tweet_post):\n    new_post = fuzzy_place_4(article, \"title\", tpost)\n    new_tweet_post.append(new_post)",
      "execution_count": 87,
      "outputs": []
    },
    {
      "metadata": {
        "trusted": false
      },
      "cell_type": "code",
      "source": "tweet = 'RT @autismcrisis: Autism means? Not a clear picture? https://t.co/kLZWAjfkar note: no SRS-asym…'\narticle_name = 'Association Between Chronic Physical Conditions and the Effectiveness of Collaborative Care for Depression'",
      "execution_count": 205,
      "outputs": []
    },
    {
      "metadata": {
        "trusted": false
      },
      "cell_type": "code",
      "source": "fuzzy_place_3(article_name,'title',tweet)",
      "execution_count": 206,
      "outputs": [
        {
          "data": {
            "text/plain": "'RT @autismcrisis: Autism means? Not a clear picture? https://t.co/kLZWAjfkar note: no SRS-asym…'"
          },
          "execution_count": 206,
          "metadata": {},
          "output_type": "execute_result"
        }
      ]
    },
    {
      "metadata": {
        "trusted": false
      },
      "cell_type": "code",
      "source": "",
      "execution_count": null,
      "outputs": []
    }
  ],
  "metadata": {
    "kernelspec": {
      "name": "python3",
      "display_name": "Python 3",
      "language": "python"
    },
    "language_info": {
      "mimetype": "text/x-python",
      "nbconvert_exporter": "python",
      "name": "python",
      "file_extension": ".py",
      "version": "3.5.4",
      "pygments_lexer": "ipython3",
      "codemirror_mode": {
        "version": 3,
        "name": "ipython"
      }
    }
  },
  "nbformat": 4,
  "nbformat_minor": 2
}